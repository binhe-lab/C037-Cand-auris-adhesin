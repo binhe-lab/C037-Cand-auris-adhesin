{
 "cells": [
  {
   "cell_type": "markdown",
   "id": "310d6349-e84b-4774-a5d3-24add42f622c",
   "metadata": {},
   "source": [
    "# Log likelihood ratio tests for codon evolution of the PF11765 domain in _C. auris_\n",
    "\n",
    "---\n",
    "- author: Bin He\n",
    "- date: 2022-08-02\n"
   ]
  },
  {
   "cell_type": "markdown",
   "id": "29f15115-9ac8-4439-ba7b-c9a0391207d3",
   "metadata": {},
   "source": [
    "## Setup environments"
   ]
  },
  {
   "cell_type": "code",
   "execution_count": 2,
   "id": "e1cd09e3-4413-4785-8b5b-0afc66717086",
   "metadata": {},
   "outputs": [],
   "source": [
    "from Bio.Phylo.PAML import codeml\n",
    "from scipy.stats import chi2\n",
    "import os\n",
    "import csv"
   ]
  },
  {
   "cell_type": "code",
   "execution_count": 3,
   "id": "1b5b7ab0-1ed0-450c-93a4-04c4212a94e4",
   "metadata": {},
   "outputs": [
    {
     "name": "stdout",
     "output_type": "stream",
     "text": [
      "/Users/bhe2/Documents/work/current/C037-Cand-auris-adhesin/02-case-studies/09-natural-selection/analysis\n"
     ]
    }
   ],
   "source": [
    "# store the ipython notebook path so we can be sure to return to the same place\n",
    "script_dir = os.path.abspath('')\n",
    "print(script_dir)"
   ]
  },
  {
   "cell_type": "markdown",
   "id": "832e7b45-4540-4f85-ac8b-69911cf1145c",
   "metadata": {
    "jp-MarkdownHeadingCollapsed": true,
    "tags": []
   },
   "source": [
    "## Helper functions"
   ]
  },
  {
   "cell_type": "code",
   "execution_count": 4,
   "id": "658d255e-d668-4152-9628-d17095d0c481",
   "metadata": {
    "tags": []
   },
   "outputs": [],
   "source": [
    "def get_ll(res, m = 0):\n",
    "    \"\"\"\n",
    "    extract the log likelihood score\n",
    "    default to NSsite = 0\n",
    "    \"\"\"\n",
    "    return(res['NSsites'][m]['lnL'])\n",
    "\n",
    "def get_np(res, m = 0):\n",
    "    \"\"\"\n",
    "    extract the log likelihood score\n",
    "    default to NSsite = 0\n",
    "    \"\"\"\n",
    "    par = res['NSsites'][m]['parameters']['parameter list']\n",
    "    return(len(par.split(' ')))"
   ]
  },
  {
   "cell_type": "code",
   "execution_count": 73,
   "id": "c1e1d3a2-1924-41aa-a0d4-1c9904e66db4",
   "metadata": {},
   "outputs": [],
   "source": [
    "# extract the model fit from NSsite model objects\n",
    "def get_omega(fit, m):\n",
    "    # model number\n",
    "    M = f'M{m}'\n",
    "    par = dict.get(fit, 'parameters')\n",
    "    # get the model-specific set of parameters\n",
    "    omega = ''\n",
    "    # separately deal with the different site models\n",
    "    if m == 0:\n",
    "        omega = f'w={par[\"omega\"]:.3f}'\n",
    "    elif m == 1 or m == 2:\n",
    "        M = M + 'a'\n",
    "        site_class = dict.get(par, 'site classes')\n",
    "        #print(site_class)\n",
    "        for i, v in site_class.items():\n",
    "            omega += f'p{i}={v[\"proportion\"]:.3f}, w{i}={float(v[\"omega\"]):.3f}; '\n",
    "    elif m == 7:\n",
    "        omega = f'p={par[\"p\"]:.3f}, q={par[\"q\"]:.3f}'\n",
    "    elif m == 8:\n",
    "        omega = f'p0={par[\"p0\"]:.3f}, p={par[\"p\"]:.3f}, q={par[\"q\"]:.3f}; p1={1-par[\"p0\"]:.3f}, w={par[\"w\"]:.3f}'\n",
    "        if par['w'] == 1.0: # model M8a\n",
    "            M = 'M8a'\n",
    "    return([M, omega])\n",
    "   "
   ]
  },
  {
   "cell_type": "code",
   "execution_count": 36,
   "id": "93e0d6ec-9fe8-489d-b24c-ccedea4ff420",
   "metadata": {},
   "outputs": [],
   "source": [
    "def sig_code(p):\n",
    "    \"\"\"\n",
    "    return r anova() type signficance code\n",
    "    \"\"\"\n",
    "    sig = ' ' # record significance code, following R's anova()\n",
    "    if p < 0.001:\n",
    "        sig = '***'\n",
    "    elif p < 0.01:\n",
    "        sig = '**'\n",
    "    elif p < 0.05:\n",
    "        sig = '*'\n",
    "    elif p < 0.1:\n",
    "        sig = '.'\n",
    "    return(sig)"
   ]
  },
  {
   "cell_type": "code",
   "execution_count": 32,
   "id": "e17244cd-ed1b-4433-9bd5-28aebb4027ad",
   "metadata": {},
   "outputs": [],
   "source": [
    "def site_test(res1, m1, m0, res0 = None):\n",
    "    \"\"\"\n",
    "    given two result objects and model number, print the test result\n",
    "    by default, the two NSsite model results are presumed to be in the \n",
    "    same object. an optional second result object can be passed to res1\n",
    "    when comparing M8a with M8\n",
    "    \"\"\"\n",
    "    if res0 is None:\n",
    "        res0 = res1\n",
    "    # get the lnL and npar for both models\n",
    "    lnL1 = get_ll(res1, m1); npar1 = get_np(res1, m1)\n",
    "    lnL0 = get_ll(res0, m0); npar0 = get_np(res0, m0)\n",
    "    dlnL = lnL1 - lnL0; dnpar = npar1 - npar0\n",
    "    llr_P = 1 - chi2.cdf(x = 2*dlnL, df = dnpar)\n",
    "    # get the significance code\n",
    "    sig = sig_code(llr_P) \n",
    "    # get the parameter lists for both models\n",
    "    res1_fit = res1[\"NSsites\"][m1]; res1_par = res1_fit[\"parameters\"]\n",
    "    res0_fit = res0[\"NSsites\"][m0]; res0_par = res0_fit[\"parameters\"]\n",
    "    M1, omega1 = get_omega(res1_fit, m1)\n",
    "    M0, omega0 = get_omega(res0_fit, m0)\n",
    "    # print test result\n",
    "    print(f'-- {M1} vs {M0} --')\n",
    "    print(f'2*dlnL = {2*dlnL:.3f}, df = {dnpar}, LLR P-value = {llr_P:.2e} {sig}')\n",
    "    print('')\n",
    "    print(f'{M1} ({res1[\"codon model\"]}): lnL: {lnL1:.3f}; np: {npar1}; kappa: {res1_par[\"kappa\"]:.3f}\\n\\\n",
    "    w: {omega1}')\n",
    "    print('')\n",
    "    print(f'{M0} ({res0[\"codon model\"]}): lnL: {lnL0:.3f}; np: {npar0}; kappa: {res0_par[\"kappa\"]:.3f}\\n\\\n",
    "    w: {omega0}')\n",
    "    print(\"///\\n\")\n",
    "    "
   ]
  },
  {
   "cell_type": "code",
   "execution_count": 20,
   "id": "8fda28bb-43ca-414a-b7c0-6713aea04ae9",
   "metadata": {},
   "outputs": [],
   "source": [
    "# Test M2a vs M1a, M8 vs M7 and M8a vs M8\n",
    "def print_site_test(res, resM8a):\n",
    "    \"\"\"\n",
    "    perform a log likelihood ratio test comparing M2a vs M1a, M8 vs M7\n",
    "    and M8a vs M8. resM8a is the output specifically for M8a\n",
    "    \"\"\"\n",
    "    site_test(res, 2, 1)\n",
    "    site_test(res, 8, 7)\n",
    "    site_test(res, 8, 8, resM8a)\n",
    "    print(\"---\")\n",
    "    print(\"Signif. codes:  0 '***' 0.001 '**' 0.01 '*' 0.05 '.' 0.1 ' ' 1\")"
   ]
  },
  {
   "cell_type": "code",
   "execution_count": 81,
   "id": "46c25d6f-8024-4d55-99cd-cd0e4f9e9a7b",
   "metadata": {
    "tags": []
   },
   "outputs": [],
   "source": [
    "# print branch test results\n",
    "def print_branch_test(res1, res0, m = 0):\n",
    "    \"\"\"\n",
    "    extract and print the most important branch test result parameters, including\n",
    "    codonmodel, lnL, npar, omega_tree\n",
    "    also perform a log likelihood ratio test comparing the alternative with the null model\n",
    "    designated as res1 and res0\n",
    "    default to NSsites = 0\n",
    "    \"\"\"\n",
    "    # get the model names\n",
    "    model1 = res1['model']; model0 = res0['model']\n",
    "    # get the lnL and npar for both models\n",
    "    lnL1 = get_ll(res1, m); npar1 = get_np(res1, m)\n",
    "    lnL0 = get_ll(res0, m); npar0 = get_np(res0, m)\n",
    "    dlnL = lnL1 - lnL0; dnpar = npar1 - npar0\n",
    "    llr_P = 1 - chi2.cdf(x = 2*dlnL, df = dnpar)\n",
    "    sig = sig_code(llr_P) # get the significance code\n",
    "    # get the parameter lists for both models\n",
    "    res1_fit = res1[\"NSsites\"][m]; res1_par = res1_fit[\"parameters\"]\n",
    "    res0_fit = res0[\"NSsites\"][m]; res0_par = res0_fit[\"parameters\"]\n",
    "    # print useful model output\n",
    "    print(f'H1 ({res1[\"codon model\"]}): {model1}\\n\\\n",
    "    lnL: {lnL1}; np: {npar1}; kappa: {res1_par[\"kappa\"]:.3f}; w: {res1_par[\"omega\"]}')\n",
    "    # omega tree: {res1_fit[\"omega tree\"]}')\n",
    "    print(f'H0 ({res0[\"codon model\"]}): {model0}\\n\\\n",
    "    lnL: {lnL0}; np: {npar0}; kappa: {res0_par[\"kappa\"]:.3f}; w: {res0_par[\"omega\"]}')\n",
    "    print(f'LLR test\\n\\\n",
    "    2*dlnL = {2*dlnL:.3f}, df = {dnpar}, LLR P-value = {llr_P:.2e} {sig}')\n",
    "    print(\"---\")\n",
    "    print(\"Signif. codes:  0 '***' 0.001 '**' 0.01 '*' 0.05 '.' 0.1 ' ' 1\")"
   ]
  },
  {
   "cell_type": "raw",
   "id": "1895ef32-da67-45dc-b5d6-bffc1d633b68",
   "metadata": {
    "tags": []
   },
   "source": [
    "# print branch-site test for positive selection results\n",
    "def print_bransite_test(res1, res0, m = 2):\n",
    "    \"\"\"\n",
    "    perform a log likelihood ratio test comparing the alternative with the null model\n",
    "    as specified in the modified branch-site test for positive selection, aka test 2\n",
    "    by definition, NSsites = 2 for this test for both the alternative and null models\n",
    "    \"\"\"\n",
    "    # get the lnL and npar for both models\n",
    "    lnL1 = get_ll(res1, m); npar1 = get_np(res1, m)\n",
    "    lnL0 = get_ll(res0, m); npar0 = get_np(res0, m)\n",
    "    dlnL = lnL1 - lnL0; dnpar = npar1 - npar0\n",
    "    llr_P = 1 - chi2.cdf(x = 2*dlnL, df = dnpar)\n",
    "    sig = sig_code(llr_P) # get the significance code\n",
    "    # get the parameter lists for both models\n",
    "    res1_fit = res1[\"NSsites\"][m]; res1_par = res1_fit[\"parameters\"]\n",
    "    res0_fit = res0[\"NSsites\"][m]; res0_par = res0_fit[\"parameters\"]\n",
    "    # print useful model output\n",
    "    print(f'H1 ({res1[\"codon model\"]})\\n\\\n",
    "    lnL: {lnL1}; np: {npar1}; kappa: {res1_par[\"kappa\"]:.3f}; w: {res1_par[\"omega\"]}')\n",
    "    # omega tree: {res1_fit[\"omega tree\"]}')\n",
    "    print(f'H0 ({res0[\"codon model\"]}): {model0}\\n\\\n",
    "    lnL: {lnL0}; np: {npar0}; kappa: {res0_par[\"kappa\"]:.3f}; w: {res0_par[\"omega\"]}')\n",
    "    print(f'LLR test\\n\\\n",
    "    2*dlnL = {2*dlnL:.3f}, df = {dnpar}, LLR P-value = {llr_P:.2e} {sig}')\n",
    "    print(\"---\")\n",
    "    print(\"Signif. codes:  0 '***' 0.001 '**' 0.01 '*' 0.05 '.' 0.1 ' ' 1\")"
   ]
  },
  {
   "cell_type": "markdown",
   "id": "be1567af-1dea-4f41-b439-7ef29c0555b7",
   "metadata": {
    "tags": []
   },
   "source": [
    "## p1-414\n",
    "### Site model tests"
   ]
  },
  {
   "cell_type": "code",
   "execution_count": 10,
   "id": "c4bcde53-78ad-4852-a7fe-5b02ad298130",
   "metadata": {},
   "outputs": [],
   "source": [
    "# to allow for this code chunk to be run out of order, first switch back to the script dir\n",
    "os.chdir(script_dir)\n",
    "# change to the first segment analysis dir\n",
    "working_dir = \"../output/paml/B8441-OG-part/p1-414/\"\n",
    "os.chdir(working_dir)\n"
   ]
  },
  {
   "cell_type": "code",
   "execution_count": 11,
   "id": "8e18d2e1-465d-4853-8fe2-5e2d8954cfd2",
   "metadata": {},
   "outputs": [],
   "source": [
    "# read site model results into a dictionary\n",
    "site_res = {\n",
    "    'cf1': codeml.read('site-cf1/mlc'),\n",
    "    'cf2': codeml.read('site-cf2/mlc'),\n",
    "    'M8a-cf1': codeml.read('site-M8a-cf1/mlc'),\n",
    "    'M8a-cf2': codeml.read('site-M8a-cf2/mlc')\n",
    "}"
   ]
  },
  {
   "cell_type": "markdown",
   "id": "b3ba2fc8-e499-41d4-bace-ec5871e42aa5",
   "metadata": {},
   "source": [
    "- F1x4"
   ]
  },
  {
   "cell_type": "code",
   "execution_count": 59,
   "id": "836a0c55-9720-486b-bed6-2814643e404d",
   "metadata": {},
   "outputs": [
    {
     "name": "stdout",
     "output_type": "stream",
     "text": [
      "-- M2a vs M1a --\n",
      "2*dlnL = 0.000, df = 2, LLR P-value = 1.00e+00  \n",
      "\n",
      "M2a (F1x4): lnL: -3412.984; np: 20; kappa: 1.758\n",
      "    w: p0=0.884, w0=0.130; p1=0.057, w1=1.000; p2=0.060, w2=1.000; \n",
      "\n",
      "M1a (F1x4): lnL: -3412.984; np: 18; kappa: 1.758\n",
      "    w: p0=0.884, w0=0.130; p1=0.116, w1=1.000; \n",
      "///\n",
      "\n",
      "-- M8 vs M7 --\n",
      "2*dlnL = -0.001, df = 2, LLR P-value = 1.00e+00  \n",
      "\n",
      "M8 (F1x4): lnL: -3390.595; np: 20; kappa: 1.696\n",
      "    w: p0=1.000, p=1.275, q=6.783; p1=0.000, w=4.777\n",
      "\n",
      "M7 (F1x4): lnL: -3390.594; np: 18; kappa: 1.696\n",
      "    w: p=1.275, q=6.783\n",
      "///\n",
      "\n",
      "-- M8 vs M8a --\n",
      "2*dlnL = 1.164, df = 1, LLR P-value = 2.81e-01  \n",
      "\n",
      "M8 (F1x4): lnL: -3390.595; np: 20; kappa: 1.696\n",
      "    w: p0=1.000, p=1.275, q=6.783; p1=0.000, w=4.777\n",
      "\n",
      "M8a (F1x4): lnL: -3391.177; np: 19; kappa: 1.705\n",
      "    w: p0=0.990, p=1.217, q=6.490; p1=0.010, w=1.000\n",
      "///\n",
      "\n",
      "---\n",
      "Signif. codes:  0 '***' 0.001 '**' 0.01 '*' 0.05 '.' 0.1 ' ' 1\n"
     ]
    }
   ],
   "source": [
    "print_site_test(site_res['cf1'], site_res['M8a-cf1'])"
   ]
  },
  {
   "cell_type": "markdown",
   "id": "4501f46d-b4e2-417e-9118-8e9461de365a",
   "metadata": {},
   "source": [
    "- F3x4"
   ]
  },
  {
   "cell_type": "code",
   "execution_count": 22,
   "id": "394602b7-7818-4c8c-b873-ca40e964609c",
   "metadata": {},
   "outputs": [
    {
     "name": "stdout",
     "output_type": "stream",
     "text": [
      "-- M2a vs M1a --\n",
      "2*dlnL = 0.000, df = 2, LLR P-value = 1.00e+00  \n",
      "\n",
      "M2a (F3x4): lnL: -3351.508; np: 20; kappa: 1.471\n",
      "    w: p0=0.903, w0=0.058; p1=0.016, w1=1.000; p2=0.081, w2=1.000; \n",
      "\n",
      "M1a (F3x4): lnL: -3351.508; np: 18; kappa: 1.471\n",
      "    w: p0=0.903, w0=0.058; p1=0.097, w1=1.000; \n",
      "///\n",
      "\n",
      "-- M8 vs M7 --\n",
      "2*dlnL = -0.000, df = 2, LLR P-value = 1.00e+00  \n",
      "\n",
      "M8 (F3x4): lnL: -3316.619; np: 20; kappa: 1.392\n",
      "    w: p0=1.000, p=1.120, q=36.018; p1=0.000, w=35.572\n",
      "\n",
      "M7 (F3x4): lnL: -3316.618; np: 18; kappa: 1.392\n",
      "    w: p=1.120, q=36.008\n",
      "///\n",
      "\n",
      "-- M8 vs M8a --\n",
      "2*dlnL = 2.400, df = 1, LLR P-value = 1.21e-01  \n",
      "\n",
      "M8 (F3x4): lnL: -3316.619; np: 20; kappa: 1.392\n",
      "    w: p0=1.000, p=1.120, q=36.018; p1=0.000, w=35.572\n",
      "\n",
      "M8a (F3x4): lnL: -3317.819; np: 19; kappa: 1.421\n",
      "    w: p0=0.991, p=1.087, q=32.633; p1=0.009, w=1.000\n",
      "///\n",
      "\n",
      "---\n",
      "Signif. codes:  0 '***' 0.001 '**' 0.01 '*' 0.05 '.' 0.1 ' ' 1\n"
     ]
    }
   ],
   "source": [
    "print_site_test(site_res['cf2'], site_res['M8a-cf2'])"
   ]
  },
  {
   "cell_type": "markdown",
   "id": "ef3e94f2-a5f9-4b44-b294-ad64daf48c9b",
   "metadata": {
    "tags": []
   },
   "source": [
    "### Branch model tests"
   ]
  },
  {
   "cell_type": "code",
   "execution_count": 24,
   "id": "e9a241a7-26f0-469f-9fde-94129659572e",
   "metadata": {},
   "outputs": [],
   "source": [
    "# to allow for this code chunk to be run out of order, first switch back to the script dir\n",
    "os.chdir(script_dir)\n",
    "# change to the first segment analysis dir\n",
    "working_dir = \"../output/paml/B8441-OG-part/p1-414/\"\n",
    "os.chdir(working_dir)\n",
    "branch_res = {\n",
    "    '1r-cf1': codeml.read('branch-1r-cf1/mlc'),\n",
    "    '1r-cf2': codeml.read('branch-1r-cf2/mlc'),\n",
    "    'freer-cf1': codeml.read('branch-freer-cf1/mlc'),\n",
    "    'freer-cf2': codeml.read('branch-freer-cf2/mlc'),\n",
    "    '2r_all-cf1': codeml.read('branch-2r_all-cf1/mlc'),\n",
    "    '2r_all-cf2': codeml.read('branch-2r_all-cf2/mlc'),\n",
    "    '2r_alleq1-cf1': codeml.read('branch-2r_alleq1-cf1/mlc')\n",
    "}"
   ]
  },
  {
   "cell_type": "markdown",
   "id": "ba45f941-0fde-458a-b5dd-9dc500d6326a",
   "metadata": {
    "tags": []
   },
   "source": [
    "#### Free vs one-omega models"
   ]
  },
  {
   "cell_type": "markdown",
   "id": "cfa1bbd5-dd23-424a-a3b2-634f6e17dded",
   "metadata": {},
   "source": [
    "- F1x4"
   ]
  },
  {
   "cell_type": "code",
   "execution_count": 83,
   "id": "f5707dc4-23eb-4089-a8e9-62664e23f0ab",
   "metadata": {},
   "outputs": [
    {
     "name": "stdout",
     "output_type": "stream",
     "text": [
      "H1 (F1x4): free dN/dS Ratios for branches for branches, \n",
      "    lnL: -3400.08549; np: 31; kappa: 1.653; w: [0.09547, 1.01075, 999.0, 597.86035, 0.29957, 0.03466, 0.10976, 0.22273, 0.26868, 0.13454, 700.72088, 0.08481, 0.18013, 999.0, 0.07511]\n",
      "H0 (F1x4): One dN/dS ratio for branches, \n",
      "    lnL: -3427.952669; np: 17; kappa: 1.592; w: 0.13685\n",
      "LLR test\n",
      "    2*dlnL = 55.734, df = 14, LLR P-value = 6.47e-07 ***\n",
      "---\n",
      "Signif. codes:  0 '***' 0.001 '**' 0.01 '*' 0.05 '.' 0.1 ' ' 1\n"
     ]
    }
   ],
   "source": [
    "print_branch_test(branch_res['freer-cf1'], branch_res['1r-cf1'])"
   ]
  },
  {
   "cell_type": "markdown",
   "id": "8d216d8e-b477-4d29-9df9-390ce84cfb0d",
   "metadata": {},
   "source": [
    "- F3x4"
   ]
  },
  {
   "cell_type": "code",
   "execution_count": 84,
   "id": "d7cd1116-6b1b-45e9-8881-fbae0d541eb7",
   "metadata": {},
   "outputs": [
    {
     "name": "stdout",
     "output_type": "stream",
     "text": [
      "H1 (F3x4): free dN/dS Ratios for branches for branches, \n",
      "    lnL: -3348.618799; np: 31; kappa: 1.278; w: [390.96881, 0.00822, 307.96948, 0.00156, 0.00657, 0.02765, 0.043, 0.00589, 0.11662, 0.13653, 999.0, 0.0092, 0.07179, 0.17532, 0.04439]\n",
      "H0 (F3x4): One dN/dS ratio for branches, \n",
      "    lnL: -3362.613054; np: 17; kappa: 1.342; w: 0.01825\n",
      "LLR test\n",
      "    2*dlnL = 27.989, df = 14, LLR P-value = 1.43e-02 *\n",
      "---\n",
      "Signif. codes:  0 '***' 0.001 '**' 0.01 '*' 0.05 '.' 0.1 ' ' 1\n"
     ]
    }
   ],
   "source": [
    "print_branch_test(branch_res['freer-cf2'], branch_res['1r-cf2'])"
   ]
  },
  {
   "cell_type": "markdown",
   "id": "5e0a881d-a4ad-408c-9190-291edc3b06e1",
   "metadata": {},
   "source": [
    "there is thus strong evidence for non-equal dN/dS along the branches. But this test is almost always significant because the null hypothesis of homogeneous dN/dS across the entire tree is not realistic under most cases."
   ]
  },
  {
   "cell_type": "markdown",
   "id": "c038320b-86b1-4421-91ae-f1b6fda4b6d9",
   "metadata": {},
   "source": [
    "I plotted the free ratio model estimates on the gene tree using the `ggtree` package in R:\n",
    "![free ratio estimates](../output/figure/20220727-B8441-OG-p1-414-branch-freer-tree.png)\n",
    "\n",
    "By comparing the results obtained with CodonFreq=2 or CodonFreq=1, I see that two of the three branches identified as having elevated dN/dS by the F3x4 model was also implicated by the F1x4 model. Ziheng [suggesed](https://groups.google.com/g/pamlsoftware/c/i7-NFSgnhq8/m/80rWE37kBgAJ) using F3x4 as the default model. I decided to test both F1x4 and F3x4 model results.\n",
    "\n",
    "My next goal is to separately test whether there are statistical support for these two branches having a dN/dS > 1."
   ]
  },
  {
   "cell_type": "markdown",
   "id": "70db84fc-f207-4078-ab21-f926f68ce932",
   "metadata": {},
   "source": [
    "#### two ratio vs one ratio\n",
    "Here we are testing the alternative model with one foreground group vs the null model of equal omega across the tree. The foreground groups were designated based on the free ratio model estimates (see above, Hil7 branch in F1x4 pic is not considered a foreground, as its omega is closer to the background than to the four designated as the foreground)."
   ]
  },
  {
   "cell_type": "markdown",
   "id": "f4b150ea-279a-4a42-bd5b-7ff55756d5ab",
   "metadata": {},
   "source": [
    "- F1x4"
   ]
  },
  {
   "cell_type": "code",
   "execution_count": 85,
   "id": "f1bc20d2-8498-442d-a38e-3f29d06aa448",
   "metadata": {},
   "outputs": [
    {
     "name": "stdout",
     "output_type": "stream",
     "text": [
      "H1 (F1x4): several dN/dS ratios for branches for branches, \n",
      "    lnL: -3421.85936; np: 18; kappa: 1.583; w: [0.12695, 1.77137]\n",
      "H0 (F1x4): One dN/dS ratio for branches, \n",
      "    lnL: -3427.952669; np: 17; kappa: 1.592; w: 0.13685\n",
      "LLR test\n",
      "    2*dlnL = 12.187, df = 1, LLR P-value = 4.81e-04 ***\n",
      "---\n",
      "Signif. codes:  0 '***' 0.001 '**' 0.01 '*' 0.05 '.' 0.1 ' ' 1\n"
     ]
    }
   ],
   "source": [
    "print_branch_test(branch_res['2r_all-cf1'], branch_res['1r-cf1'])"
   ]
  },
  {
   "cell_type": "markdown",
   "id": "a56787e4-3dc8-4a96-a696-57cb6aab27ab",
   "metadata": {},
   "source": [
    "The result provided support for the foreground groups having a different omega than the background. Next we will test for evidence of the foreground omega significantly greater than 1. We do so by comparing the same two ratio model result with a different null, where the same foreground group are allowed to have a different omega than the background but at the same time, the foreground omega is fixed at 1 (neutral). This test directly test for evidence for positive selection."
   ]
  },
  {
   "cell_type": "code",
   "execution_count": 86,
   "id": "19f4cb6f-4a16-408b-b5b0-e0c1c767d962",
   "metadata": {},
   "outputs": [
    {
     "name": "stdout",
     "output_type": "stream",
     "text": [
      "H1 (F1x4): several dN/dS ratios for branches for branches, \n",
      "    lnL: -3421.85936; np: 18; kappa: 1.583; w: [0.12695, 1.77137]\n",
      "H0 (F1x4): several dN/dS ratios for branches for branches,  omega = 1.000 fixed\n",
      "    lnL: -3421.992047; np: 17; kappa: 1.581; w: [0.1292, 1.0]\n",
      "LLR test\n",
      "    2*dlnL = 0.265, df = 1, LLR P-value = 6.06e-01  \n",
      "---\n",
      "Signif. codes:  0 '***' 0.001 '**' 0.01 '*' 0.05 '.' 0.1 ' ' 1\n"
     ]
    }
   ],
   "source": [
    "print_branch_test(branch_res['2r_all-cf1'], branch_res['2r_alleq1-cf1'])"
   ]
  },
  {
   "cell_type": "markdown",
   "id": "496d96c3-3f3a-4c60-99ca-444d6c124b15",
   "metadata": {},
   "source": [
    "Here the result is not significant. Therefore, while we have evidence for the foreground groups having significantly elevated dN/dS compared with the background groups, we cannot determine if that elevated dN/dS is all due to relaxed constraint or if there has been positive selection."
   ]
  },
  {
   "cell_type": "markdown",
   "id": "a21c4c26-ad58-471a-9dda-a8c24d3c18cd",
   "metadata": {},
   "source": [
    "- F3x4"
   ]
  },
  {
   "cell_type": "code",
   "execution_count": 87,
   "id": "4ec75fd2-91f7-431a-9483-04eef5eb9abf",
   "metadata": {},
   "outputs": [
    {
     "name": "stdout",
     "output_type": "stream",
     "text": [
      "H1 (F3x4): several dN/dS ratios for branches for branches, \n",
      "    lnL: -3360.672152; np: 18; kappa: 1.316; w: [0.0292, 0.00277]\n",
      "H0 (F3x4): One dN/dS ratio for branches, \n",
      "    lnL: -3362.613054; np: 17; kappa: 1.342; w: 0.01825\n",
      "LLR test\n",
      "    2*dlnL = 3.882, df = 1, LLR P-value = 4.88e-02 *\n",
      "---\n",
      "Signif. codes:  0 '***' 0.001 '**' 0.01 '*' 0.05 '.' 0.1 ' ' 1\n"
     ]
    }
   ],
   "source": [
    "print_branch_test(branch_res['2r_all-cf2'], branch_res['1r-cf2'])"
   ]
  },
  {
   "cell_type": "markdown",
   "id": "c69e27c1-6d8f-4f29-949d-6bd28ca6a513",
   "metadata": {},
   "source": [
    "The P-value is smaller than 0.05, but the significance level is lower than F1x4. Moreover, the omega for the foreground was surprisingly estimated to be lower than that for the background. Given this result, I decided not to test for positive selection as I did above."
   ]
  },
  {
   "cell_type": "markdown",
   "id": "2c3cf105-10da-46b8-81c7-e82166ade682",
   "metadata": {},
   "source": [
    "### Branch site test\n",
    "Formally known as the **branch-site test for positive selection**, or as \"test 2\" in Zhang _et al._ 2005 (PMID: 16107592), it contrasts two models: the alternative model, specified by `model = 2; NSsites = 2`, is compared to the null model, which is a modified version of the previous one with `w2 = 1` fixed (`fix_omega = 1; omega = 1`). In the alternative model, both the foreground and background branches have the constrained and neutral classes, i.e., `0<w<1` and `w=1`. What's different between them is that the foreground branches have a third class, with w > 1. At those sites, the corresponding positions in the background branches would belong to either the constrained or neutral class. In the null model, `w2 = 1` is fixed and thus the LLR test specifically tests for evidence of positive selection on a **subset of the sites** and **only along the foreground branches**."
   ]
  },
  {
   "cell_type": "code",
   "execution_count": 93,
   "id": "9c0ace3c-d00a-42e8-aec1-578776d9840b",
   "metadata": {},
   "outputs": [],
   "source": [
    "# to allow for this code chunk to be run out of order, first switch back to the script dir\n",
    "os.chdir(script_dir)\n",
    "# change to the first segment analysis dir\n",
    "working_dir = \"../output/paml/B8441-OG-part/p1-414/\"\n",
    "os.chdir(working_dir)\n",
    "brnsite_res = {\n",
    "    'alt-2r_all-cf1': codeml.read('brnsite-alt-2r_all-cf1/mlc'),\n",
    "    'null-2r_all-cf1': codeml.read('brnsite-null-2r_all-cf1/mlc')\n",
    "}"
   ]
  },
  {
   "cell_type": "code",
   "execution_count": 94,
   "id": "fd5ff8d1-fe18-46b3-9c43-f2a838fe8490",
   "metadata": {},
   "outputs": [
    {
     "name": "stdout",
     "output_type": "stream",
     "text": [
      "Testing branch site model, with CodonFreq=1\n",
      "df=1, 2*∆lnL=0.16, p=6.89e-01  \n"
     ]
    }
   ],
   "source": [
    "dl_bs_cf1 = get_ll(brnsite_res['alt-2r_all-cf1'], m = 2) - get_ll(brnsite_res['null-2r_all-cf1'], m = 2)\n",
    "df_bs_cf1 = get_np(brnsite_res['alt-2r_all-cf1'], m = 2) - get_np(brnsite_res['null-2r_all-cf1'], m = 2)\n",
    "p_bs_cf1 = 1 - chi2.cdf(2*dl_bs_cf1, df = df_bs_cf1)\n",
    "sig_bs_cf1 = sig_code(p_bs_cf1)\n",
    "print(\"Testing branch site model, with CodonFreq=1\")\n",
    "print(f'df={df_bs_cf1}, 2*∆lnL={2*dl_bs_cf1:.2f}, p={p_bs_cf1:.2e} {sig_bs_cf1}')"
   ]
  },
  {
   "cell_type": "markdown",
   "id": "dfed778c-72ff-4695-b049-93cadac52afe",
   "metadata": {},
   "source": [
    "No evidence for positive selection."
   ]
  },
  {
   "cell_type": "markdown",
   "id": "fe091e86-8b9c-48ee-b164-2ee958da3e9a",
   "metadata": {},
   "source": [
    "I didn't perform the branch-site test with F3x4 because the 2r vs 1r test above showed unexpected result (omega estimate for the foreground is smaller than that for the background)"
   ]
  },
  {
   "cell_type": "markdown",
   "id": "ead5ede8-48d5-4ebb-a2bf-7b3fb1665281",
   "metadata": {},
   "source": [
    "### Conclusion for p1-414\n",
    "- No evidence for positive selection from the site test\n",
    "- **Evidence for dN/dS rate heterogeneity along the branches**.\n",
    "    - Statistical support for the foreground branches having a higher dN/dS ratio than the background when using the F1x4 model.\n",
    "    - The test for positive selection (foreground dN/dS > 1) is not significant.\n",
    "    - The same test with F3x4 model gave an unexpected result, where the foreground dN/dS estimate is lower than that for the background, even though in the free ratio model these branches were identified as having very large dN/dS\n",
    "- Branch-site test using F1x4 didn't provide statistical support for positive selection on the foreground branches."
   ]
  },
  {
   "cell_type": "markdown",
   "id": "a8fcc0af-156c-43f2-8350-d5481a3b471a",
   "metadata": {},
   "source": [
    "## p697-981\n",
    "### Site model tests"
   ]
  },
  {
   "cell_type": "code",
   "execution_count": 95,
   "id": "a9539424-0825-40b4-93be-62aebb437775",
   "metadata": {},
   "outputs": [],
   "source": [
    "# to allow for this code chunk to be run out of order, first switch back to the script dir\n",
    "os.chdir(script_dir)\n",
    "# change to the first segment analysis dir\n",
    "working_dir = \"../output/paml/B8441-OG-part/p697-981/\"\n",
    "os.chdir(working_dir)\n"
   ]
  },
  {
   "cell_type": "code",
   "execution_count": 96,
   "id": "2c141616-c441-483f-a234-0fe12f3f381f",
   "metadata": {},
   "outputs": [],
   "source": [
    "# read site model results into a dictionary\n",
    "site_res = {\n",
    "    'cf1': codeml.read('site-cf1/mlc'),\n",
    "    'cf2': codeml.read('site-cf2/mlc'),\n",
    "    'M8a-cf1': codeml.read('site-M8a-cf1/mlc'),\n",
    "    'M8a-cf2': codeml.read('site-M8a-cf2/mlc')\n",
    "}"
   ]
  },
  {
   "cell_type": "markdown",
   "id": "ee01dc7e-49c7-4ce4-92b6-8aced55d6684",
   "metadata": {},
   "source": [
    "- F1x4"
   ]
  },
  {
   "cell_type": "code",
   "execution_count": 97,
   "id": "45de1f1b-3261-4d8a-bcb6-b71168d7b4ae",
   "metadata": {},
   "outputs": [
    {
     "name": "stdout",
     "output_type": "stream",
     "text": [
      "-- M2a vs M1a --\n",
      "2*dlnL = 0.000, df = 2, LLR P-value = 1.00e+00  \n",
      "\n",
      "M2a (F1x4): lnL: -2342.393; np: 20; kappa: 1.641\n",
      "    w: p0=0.598, w0=0.077; p1=0.223, w1=1.000; p2=0.179, w2=1.000; \n",
      "\n",
      "M1a (F1x4): lnL: -2342.393; np: 18; kappa: 1.641\n",
      "    w: p0=0.598, w0=0.077; p1=0.402, w1=1.000; \n",
      "///\n",
      "\n",
      "-- M8 vs M7 --\n",
      "2*dlnL = 9.744, df = 2, LLR P-value = 7.66e-03 **\n",
      "\n",
      "M8 (F1x4): lnL: -2310.397; np: 20; kappa: 1.507\n",
      "    w: p0=0.948, p=0.514, q=1.907; p1=0.052, w=14.926\n",
      "\n",
      "M7 (F1x4): lnL: -2315.269; np: 18; kappa: 1.448\n",
      "    w: p=0.442, q=1.319\n",
      "///\n",
      "\n",
      "-- M8 vs M8a --\n",
      "2*dlnL = 7.817, df = 1, LLR P-value = 5.18e-03 **\n",
      "\n",
      "M8 (F1x4): lnL: -2310.397; np: 20; kappa: 1.507\n",
      "    w: p0=0.948, p=0.514, q=1.907; p1=0.052, w=14.926\n",
      "\n",
      "M8a (F1x4): lnL: -2314.305; np: 19; kappa: 1.449\n",
      "    w: p0=0.902, p=0.510, q=2.314; p1=0.098, w=1.000\n",
      "///\n",
      "\n",
      "---\n",
      "Signif. codes:  0 '***' 0.001 '**' 0.01 '*' 0.05 '.' 0.1 ' ' 1\n"
     ]
    }
   ],
   "source": [
    "print_site_test(site_res['cf1'], site_res['M8a-cf1'])"
   ]
  },
  {
   "cell_type": "markdown",
   "id": "331e1b82-3f03-4374-b7fe-5a43b37e04de",
   "metadata": {},
   "source": [
    "- F3x4"
   ]
  },
  {
   "cell_type": "code",
   "execution_count": 98,
   "id": "3544ee1e-1a5d-4493-be32-06cfc10c1641",
   "metadata": {},
   "outputs": [
    {
     "name": "stdout",
     "output_type": "stream",
     "text": [
      "-- M2a vs M1a --\n",
      "2*dlnL = 4.299, df = 2, LLR P-value = 1.17e-01  \n",
      "\n",
      "M2a (F3x4): lnL: -2326.418; np: 20; kappa: 1.346\n",
      "    w: p0=0.660, w0=0.064; p1=0.288, w1=1.000; p2=0.052, w2=20.134; \n",
      "\n",
      "M1a (F3x4): lnL: -2328.567; np: 18; kappa: 1.277\n",
      "    w: p0=0.676, w0=0.060; p1=0.324, w1=1.000; \n",
      "///\n",
      "\n",
      "-- M8 vs M7 --\n",
      "2*dlnL = 7.283, df = 2, LLR P-value = 2.62e-02 *\n",
      "\n",
      "M8 (F3x4): lnL: -2282.279; np: 20; kappa: 1.326\n",
      "    w: p0=0.939, p=0.518, q=5.868; p1=0.061, w=12.560\n",
      "\n",
      "M7 (F3x4): lnL: -2285.920; np: 18; kappa: 1.517\n",
      "    w: p=0.429, q=5.083\n",
      "///\n",
      "\n",
      "-- M8 vs M8a --\n",
      "2*dlnL = 1.140, df = 1, LLR P-value = 2.86e-01  \n",
      "\n",
      "M8 (F3x4): lnL: -2282.279; np: 20; kappa: 1.326\n",
      "    w: p0=0.939, p=0.518, q=5.868; p1=0.061, w=12.560\n",
      "\n",
      "M8a (F3x4): lnL: -2282.849; np: 19; kappa: 1.460\n",
      "    w: p0=0.938, p=0.472, q=7.285; p1=0.062, w=1.000\n",
      "///\n",
      "\n",
      "---\n",
      "Signif. codes:  0 '***' 0.001 '**' 0.01 '*' 0.05 '.' 0.1 ' ' 1\n"
     ]
    }
   ],
   "source": [
    "print_site_test(site_res['cf2'], site_res['M8a-cf2'])"
   ]
  },
  {
   "cell_type": "markdown",
   "id": "42a25f51-b857-45cb-87ad-80f6158b5d68",
   "metadata": {
    "tags": []
   },
   "source": [
    "### Branch model tests"
   ]
  },
  {
   "cell_type": "code",
   "execution_count": 108,
   "id": "8211a451-ced4-413f-a102-71b02d8a344b",
   "metadata": {},
   "outputs": [],
   "source": [
    "# to allow for this code chunk to be run out of order, first switch back to the script dir\n",
    "os.chdir(script_dir)\n",
    "# change to the first segment analysis dir\n",
    "working_dir = \"../output/paml/B8441-OG-part/p697-981/\"\n",
    "os.chdir(working_dir)\n",
    "branch_res = {\n",
    "    '1r-cf1': codeml.read('branch-1r-cf1/mlc'),\n",
    "    '1r-cf2': codeml.read('branch-1r-cf2/mlc'),\n",
    "    'freer-cf1': codeml.read('branch-freer-cf1/mlc'),\n",
    "    'freer-cf2': codeml.read('branch-freer-cf2/mlc'),\n",
    "    '2r_all-cf1': codeml.read('branch-2r_all-cf1/mlc'),\n",
    "    '2r_all-cf2': codeml.read('branch-2r_all-cf2/mlc'),\n",
    "    '2r_alleq1-cf1': codeml.read('branch-2r_alleq1-cf1/mlc'),\n",
    "    '2r_alleq1-cf2': codeml.read('branch-2r_alleq1-cf2/mlc')\n",
    "}"
   ]
  },
  {
   "cell_type": "markdown",
   "id": "729de03f-861f-49f4-8f8f-a316847ce730",
   "metadata": {
    "tags": []
   },
   "source": [
    "#### Free vs one-omega models"
   ]
  },
  {
   "cell_type": "markdown",
   "id": "8a4aa0cc-e686-4ae8-826b-45e49056d100",
   "metadata": {},
   "source": [
    "- F1x4"
   ]
  },
  {
   "cell_type": "code",
   "execution_count": 100,
   "id": "cb542b9b-98bc-4094-b00a-b546f42afe53",
   "metadata": {},
   "outputs": [
    {
     "name": "stdout",
     "output_type": "stream",
     "text": [
      "H1 (F1x4): free dN/dS Ratios for branches for branches, \n",
      "    lnL: -2391.612283; np: 31; kappa: 1.429; w: [0.23095, 0.00445, 998.99991, 0.14377, 0.07403, 999.0, 92.44628, 511.2296, 0.1592, 0.11967, 0.10617, 957.23845, 0.04349, 0.62278, 0.17973]\n",
      "H0 (F1x4): One dN/dS ratio for branches, \n",
      "    lnL: -2411.367957; np: 17; kappa: 1.413; w: 0.18181\n",
      "LLR test\n",
      "    2*dlnL = 39.511, df = 14, LLR P-value = 3.04e-04 ***\n",
      "---\n",
      "Signif. codes:  0 '***' 0.001 '**' 0.01 '*' 0.05 '.' 0.1 ' ' 1\n"
     ]
    }
   ],
   "source": [
    "print_branch_test(branch_res['freer-cf1'], branch_res['1r-cf1'])"
   ]
  },
  {
   "cell_type": "markdown",
   "id": "3c5c8151-c719-4676-b114-3a41e48ad5ce",
   "metadata": {},
   "source": [
    "- F3x4"
   ]
  },
  {
   "cell_type": "code",
   "execution_count": 101,
   "id": "fdc4e5b5-30b3-40fa-9323-a2773dc06b64",
   "metadata": {},
   "outputs": [
    {
     "name": "stdout",
     "output_type": "stream",
     "text": [
      "H1 (F3x4): free dN/dS Ratios for branches for branches, \n",
      "    lnL: -2380.28829; np: 31; kappa: 1.194; w: [0.65755, 0.00425, 999.0, 0.12997, 0.01553, 999.0, 0.1662, 999.0, 0.1177, 0.07865, 999.0, 0.11371, 0.0142, 0.28089, 0.02319]\n",
      "H0 (F3x4): One dN/dS ratio for branches, \n",
      "    lnL: -2391.8604; np: 17; kappa: 1.443; w: 0.03329\n",
      "LLR test\n",
      "    2*dlnL = 23.144, df = 14, LLR P-value = 5.80e-02 .\n",
      "---\n",
      "Signif. codes:  0 '***' 0.001 '**' 0.01 '*' 0.05 '.' 0.1 ' ' 1\n"
     ]
    }
   ],
   "source": [
    "print_branch_test(branch_res['freer-cf2'], branch_res['1r-cf2'])"
   ]
  },
  {
   "cell_type": "markdown",
   "id": "67444f58-25e1-451c-8e08-e4dba490bb8a",
   "metadata": {},
   "source": [
    "there is thus strong evidence for non-homogeneous dN/dS along the branches. But this test is almost always significant because the null hypothesis of homogeneous dN/dS across the entire tree is not realistic under most cases."
   ]
  },
  {
   "cell_type": "markdown",
   "id": "e2f4ea84-c7ee-4cda-b71d-eb5925f9f8df",
   "metadata": {},
   "source": [
    "I plotted the free ratio model estimates on the gene tree using the `ggtree` package in R:\n",
    "![free ratio estimates](../output/figure/20220730-B8441-OG-p697-981-branch-freer-tree.png)\n",
    "\n",
    "For this partition, the two models gave quite similar results.\n"
   ]
  },
  {
   "cell_type": "markdown",
   "id": "9079f56e-2b7c-4666-8c79-779fdf10b2a0",
   "metadata": {},
   "source": [
    "Comparing the two results, I hypothesize that there has been accelerated evolution in the internal branches **11..12, 11..13, 13..14, 14..15 and 15..16**. Considering that the placement of Hil7 in the PF11765 domain tree is uncertain (low BS support), and since p1-414 tree placed Hil7 as the outgroup for Hil1, 2, 3, 4, 6 and 8, it is conceivable that Hil7 is still the outgroup here and that the foreground branches encompasses all the internal branches after the divergence of Hil1, 2, 3, 4, 6 and 8 from Hil5 and Hil7."
   ]
  },
  {
   "cell_type": "markdown",
   "id": "f6f0a7a2-0a8b-4db3-b522-eb827efa17d2",
   "metadata": {},
   "source": [
    "#### two ratio vs one ratio\n",
    "Here we are testing the alternative model with one foreground group vs the null model of equal omega across the tree. The foreground groups were designated based on the free ratio model estimates from both the F1x4 and F3x4 results: we added 13..14 to the foreground on top of the four branches identified in the F3x4 model."
   ]
  },
  {
   "cell_type": "markdown",
   "id": "bd6d342e-e2cd-4c27-9fbd-48fe889354dd",
   "metadata": {},
   "source": [
    "- F1x4"
   ]
  },
  {
   "cell_type": "code",
   "execution_count": 102,
   "id": "3fe9fe50-44f8-4951-89ff-8d6aef190c84",
   "metadata": {},
   "outputs": [
    {
     "name": "stdout",
     "output_type": "stream",
     "text": [
      "H1 (F1x4): several dN/dS ratios for branches for branches, \n",
      "    lnL: -2406.811492; np: 18; kappa: 1.407; w: [0.13764, 1.52567]\n",
      "H0 (F1x4): One dN/dS ratio for branches, \n",
      "    lnL: -2411.367957; np: 17; kappa: 1.413; w: 0.18181\n",
      "LLR test\n",
      "    2*dlnL = 9.113, df = 1, LLR P-value = 2.54e-03 **\n",
      "---\n",
      "Signif. codes:  0 '***' 0.001 '**' 0.01 '*' 0.05 '.' 0.1 ' ' 1\n"
     ]
    }
   ],
   "source": [
    "print_branch_test(branch_res['2r_all-cf1'], branch_res['1r-cf1'])"
   ]
  },
  {
   "cell_type": "markdown",
   "id": "d26c5a5d-f0df-4c6d-892c-4dd8a36f83f5",
   "metadata": {},
   "source": [
    "The result provided support for the foreground groups having a different omega than the background. Next we will test for evidence of the foreground omega significantly greater than 1. We do so by comparing the same two ratio model result with a different null, where the same foreground group are allowed to have a different omega than the background but at the same time, the foreground omega is fixed at 1 (neutral). This test directly test for evidence for positive selection."
   ]
  },
  {
   "cell_type": "code",
   "execution_count": 103,
   "id": "2991ab5b-64e3-4a62-96c5-358cb710b711",
   "metadata": {},
   "outputs": [
    {
     "name": "stdout",
     "output_type": "stream",
     "text": [
      "H1 (F1x4): several dN/dS ratios for branches for branches, \n",
      "    lnL: -2406.811492; np: 18; kappa: 1.407; w: [0.13764, 1.52567]\n",
      "H0 (F1x4): several dN/dS ratios for branches for branches,  omega = 1.000 fixed\n",
      "    lnL: -2406.843304; np: 17; kappa: 1.406; w: [0.14099, 1.0]\n",
      "LLR test\n",
      "    2*dlnL = 0.064, df = 1, LLR P-value = 8.01e-01  \n",
      "---\n",
      "Signif. codes:  0 '***' 0.001 '**' 0.01 '*' 0.05 '.' 0.1 ' ' 1\n"
     ]
    }
   ],
   "source": [
    "print_branch_test(branch_res['2r_all-cf1'], branch_res['2r_alleq1-cf1'])"
   ]
  },
  {
   "cell_type": "markdown",
   "id": "ac533531-21de-4ac8-889e-00533495c43d",
   "metadata": {},
   "source": [
    "Here the result is not significant. Therefore, while we have evidence for the foreground groups having significantly elevated dN/dS compared with the background groups, we cannot determine if that elevated dN/dS is all due to relaxed constraint or if there has been positive selection."
   ]
  },
  {
   "cell_type": "markdown",
   "id": "150e6b6f-8089-49b5-94e9-a86c8b2e9750",
   "metadata": {},
   "source": [
    "- F3x4"
   ]
  },
  {
   "cell_type": "code",
   "execution_count": 104,
   "id": "a9575b93-e644-4e03-81d0-36a6826c272b",
   "metadata": {},
   "outputs": [
    {
     "name": "stdout",
     "output_type": "stream",
     "text": [
      "H1 (F3x4): several dN/dS ratios for branches for branches, \n",
      "    lnL: -2389.812147; np: 18; kappa: 1.412; w: [0.03353, 999.0]\n",
      "H0 (F3x4): One dN/dS ratio for branches, \n",
      "    lnL: -2391.8604; np: 17; kappa: 1.443; w: 0.03329\n",
      "LLR test\n",
      "    2*dlnL = 4.097, df = 1, LLR P-value = 4.30e-02 *\n",
      "---\n",
      "Signif. codes:  0 '***' 0.001 '**' 0.01 '*' 0.05 '.' 0.1 ' ' 1\n"
     ]
    }
   ],
   "source": [
    "print_branch_test(branch_res['2r_all-cf2'], branch_res['1r-cf2'])"
   ]
  },
  {
   "cell_type": "markdown",
   "id": "6dd7537d-7898-45ec-9f2b-1474ad4f8768",
   "metadata": {},
   "source": [
    "The P-value is just below 0.05, providing modest support for rate heterogeneity."
   ]
  },
  {
   "cell_type": "code",
   "execution_count": 110,
   "id": "ea0c399e-3870-4551-94be-30f48d2c6d40",
   "metadata": {},
   "outputs": [
    {
     "name": "stdout",
     "output_type": "stream",
     "text": [
      "H1 (F3x4): several dN/dS ratios for branches for branches, \n",
      "    lnL: -2389.812147; np: 18; kappa: 1.412; w: [0.03353, 999.0]\n",
      "H0 (F3x4): several dN/dS ratios for branches for branches,  omega = 1.000 fixed\n",
      "    lnL: -2389.952596; np: 17; kappa: 1.414; w: [0.03357, 1.0]\n",
      "LLR test\n",
      "    2*dlnL = 0.281, df = 1, LLR P-value = 5.96e-01  \n",
      "---\n",
      "Signif. codes:  0 '***' 0.001 '**' 0.01 '*' 0.05 '.' 0.1 ' ' 1\n"
     ]
    }
   ],
   "source": [
    "print_branch_test(branch_res['2r_all-cf2'], branch_res['2r_alleq1-cf2'])"
   ]
  },
  {
   "cell_type": "markdown",
   "id": "4489d43e-1c44-4ebf-a04e-7840f9b0a8ef",
   "metadata": {},
   "source": [
    "Similar to the F1x4 model result, here there is no statistical support for positive selection on the foreground branches under the one site class model."
   ]
  },
  {
   "cell_type": "markdown",
   "id": "e15688a8-e0d6-4eb7-8c8c-4f014b6a3593",
   "metadata": {},
   "source": [
    "### Branch site test\n",
    "Formally known as the **branch-site test for positive selection**, or as \"test 2\" in Zhang _et al._ 2005 (PMID: 16107592), it contrasts two models: the alternative model, specified by `model = 2; NSsites = 2`, is compared to the null model, which is a modified version of the previous one with `w2 = 1` fixed (`fix_omega = 1; omega = 1`). In the alternative model, both the foreground and background branches have the constrained and neutral classes, i.e., `0<w<1` and `w=1`. What's different between them is that the foreground branches have a third class, with w > 1. At those sites, the corresponding positions in the background branches would belong to either the constrained or neutral class. In the null model, `w2 = 1` is fixed and thus the LLR test specifically tests for evidence of positive selection on a **subset of the sites** and **only along the foreground branches**."
   ]
  },
  {
   "cell_type": "code",
   "execution_count": 114,
   "id": "ec027b14-4500-4381-8e87-225b348decb8",
   "metadata": {},
   "outputs": [],
   "source": [
    "# to allow for this code chunk to be run out of order, first switch back to the script dir\n",
    "os.chdir(script_dir)\n",
    "# change to the first segment analysis dir\n",
    "working_dir = \"../output/paml/B8441-OG-part/p697-981/\"\n",
    "os.chdir(working_dir)\n",
    "brnsite_res = {\n",
    "    'alt-2r_all-cf1': codeml.read('brnsite-alt-2r_all-cf1/mlc'),\n",
    "    'null-2r_all-cf1': codeml.read('brnsite-null-2r_all-cf1/mlc'),\n",
    "    'alt-2r_all-cf2': codeml.read('brnsite-alt-2r_all-cf2/mlc'),\n",
    "    'null-2r_all-cf2': codeml.read('brnsite-null-2r_all-cf2/mlc')\n",
    "}"
   ]
  },
  {
   "cell_type": "code",
   "execution_count": 115,
   "id": "80961873-0a93-43a9-9ccd-c7b64eb20614",
   "metadata": {},
   "outputs": [
    {
     "name": "stdout",
     "output_type": "stream",
     "text": [
      "Testing branch site model, with CodonFreq=1\n",
      "df=1, 2*∆lnL=11.82, p=5.85e-04 ***\n"
     ]
    }
   ],
   "source": [
    "dl_bs_cf1 = get_ll(brnsite_res['alt-2r_all-cf1'], m = 2) - get_ll(brnsite_res['null-2r_all-cf1'], m = 2)\n",
    "df_bs_cf1 = get_np(brnsite_res['alt-2r_all-cf1'], m = 2) - get_np(brnsite_res['null-2r_all-cf1'], m = 2)\n",
    "p_bs_cf1 = 1 - chi2.cdf(2*dl_bs_cf1, df = df_bs_cf1)\n",
    "sig_bs_cf1 = sig_code(p_bs_cf1)\n",
    "print(\"Testing branch site model, with CodonFreq=1\")\n",
    "print(f'df={df_bs_cf1}, 2*∆lnL={2*dl_bs_cf1:.2f}, p={p_bs_cf1:.2e} {sig_bs_cf1}')"
   ]
  },
  {
   "cell_type": "code",
   "execution_count": 116,
   "id": "a194e097-f74c-4885-a0a3-53975489eb92",
   "metadata": {},
   "outputs": [
    {
     "name": "stdout",
     "output_type": "stream",
     "text": [
      "Testing branch site model, with CodonFreq=1\n",
      "df=1, 2*∆lnL=8.94, p=2.78e-03 **\n"
     ]
    }
   ],
   "source": [
    "dl_bs_cf2 = get_ll(brnsite_res['alt-2r_all-cf2'], m = 2) - get_ll(brnsite_res['null-2r_all-cf2'], m = 2)\n",
    "df_bs_cf2 = get_np(brnsite_res['alt-2r_all-cf2'], m = 2) - get_np(brnsite_res['null-2r_all-cf2'], m = 2)\n",
    "p_bs_cf2 = 1 - chi2.cdf(2*dl_bs_cf2, df = df_bs_cf2)\n",
    "sig_bs_cf2 = sig_code(p_bs_cf2)\n",
    "print(\"Testing branch site model, with CodonFreq=2\")\n",
    "print(f'df={df_bs_cf2}, 2*∆lnL={2*dl_bs_cf2:.2f}, p={p_bs_cf2:.2e} {sig_bs_cf2}')"
   ]
  },
  {
   "cell_type": "markdown",
   "id": "e32d18ff-f0ef-48d4-8fd3-bfe4cdf028a6",
   "metadata": {},
   "source": [
    "With p697-981, we got significant results for the branch site model test under both F1x4 and F3x4. Below are the model output copied from the `mlc` file. Note that this part is not automatically updated. So if the above model is re-run with different parameters or input, the results below need to be manually updated."
   ]
  },
  {
   "cell_type": "markdown",
   "id": "3658b9e4-2d5e-4372-92b5-47c6d3cc5887",
   "metadata": {},
   "source": [
    "F1x4, alternative model (model A) output:\n",
    "(based on PAML documentation, only the BEB post-analysis results are shown and the NEB results are ignored)"
   ]
  },
  {
   "cell_type": "raw",
   "id": "a87cc79b-e0fe-4b8b-9ed6-b7b596aee0aa",
   "metadata": {},
   "source": [
    "MLEs of dN/dS (w) for site classes (K=4)\n",
    "\n",
    "site class             0        1       2a       2b\n",
    "proportion       0.60189  0.21060  0.13891  0.04860\n",
    "background w     0.07220  1.00000  0.07220  1.00000\n",
    "foreground w     0.07220  1.00000  9.85146  9.85146\n",
    "\n",
    "\n",
    "Bayes Empirical Bayes (BEB) analysis (Yang, Wong & Nielsen 2005. Mol. Biol. Evol. 22:1107-1118)\n",
    "Positive sites for foreground lineages Prob(w>1):\n",
    "     2 A 0.998**\n",
    "    25 L 0.973*\n",
    "    32 T 0.594\n",
    "    33 G 0.767\n",
    "    45 I 0.634\n",
    "    48 D 0.948\n",
    "    51 T 0.617\n",
    "    54 D 0.994**\n",
    "    63 V 0.799\n",
    "    64 L 0.960*\n",
    "    72 S 0.998**\n",
    "    78 N 0.513\n",
    "    86 T 0.909\n",
    "    90 D 0.530\n"
   ]
  },
  {
   "cell_type": "markdown",
   "id": "c348397a-0817-4217-a656-f9a847af4406",
   "metadata": {},
   "source": [
    "F3x4, alternative model (model A) output:"
   ]
  },
  {
   "cell_type": "raw",
   "id": "eaa34d74-b52d-4303-92b2-1dea700707d1",
   "metadata": {},
   "source": [
    "MLEs of dN/dS (w) for site classes (K=4)\n",
    "\n",
    "site class             0        1       2a       2b\n",
    "proportion       0.62374  0.15827  0.17387  0.04412\n",
    "background w     0.04483  1.00000  0.04483  1.00000\n",
    "foreground w     0.04483  1.00000  7.95989  7.95989\n",
    "\n",
    "\n",
    "Bayes Empirical Bayes (BEB) analysis (Yang, Wong & Nielsen 2005. Mol. Biol. Evol. 22:1107-1118)\n",
    "Positive sites for foreground lineages Prob(w>1):\n",
    "     2 A 0.999**\n",
    "    25 L 0.992**\n",
    "    28 S 0.793\n",
    "    31 P 0.532\n",
    "    32 T 0.670\n",
    "    33 G 0.964*\n",
    "    45 I 0.602\n",
    "    46 V 0.604\n",
    "    48 D 0.991**\n",
    "    51 T 0.913\n",
    "    54 D 0.962*\n",
    "    63 V 0.976*\n",
    "    64 L 0.996**\n",
    "    65 I 0.741\n",
    "    72 S 0.995**\n",
    "    74 R 0.607\n",
    "    86 T 0.991**\n",
    "    90 D 0.804\n",
    "    "
   ]
  },
  {
   "cell_type": "markdown",
   "id": "ab54371b-1e2d-4197-8848-f2fef7d1a337",
   "metadata": {},
   "source": [
    "### Conclusion for p697-981\n",
    "- **Mixed evidence** for positive selection from the site test\n",
    "    - M2a vs M1a test was not significant under both F1x4 and F3x4, although the P-value under F3x4 is close to 0.1\n",
    "    - M8 vs M7 test was significant under both F1x4 and F3x4, with P-values < 0.05\n",
    "    - M8 vs M8a test (more stringent test for positive selection) was significant under F1x4 and not under F3x4\n",
    "- **Evidence for dN/dS rate heterogeneity along the branches**.\n",
    "    - Statistical support for the foreground branches having a higher dN/dS ratio than the background under the F1x4 model and the P-value under the F3x4 model is slightly above 0.05.\n",
    "    - The test for positive selection (foreground dN/dS > 1) was not significant under either codon models.\n",
    "- **Evidence for branch-specific and site-specific positive selection**\n",
    "    - Branch-site test performed under both F1x4 and F3x4 models yielded significant results, and the BEB procedure identified a shared set of residues potentially under positive selection among those branches."
   ]
  }
 ],
 "metadata": {
  "kernelspec": {
   "display_name": "Python 3",
   "language": "python",
   "name": "python3"
  },
  "language_info": {
   "codemirror_mode": {
    "name": "ipython",
    "version": 3
   },
   "file_extension": ".py",
   "mimetype": "text/x-python",
   "name": "python",
   "nbconvert_exporter": "python",
   "pygments_lexer": "ipython3",
   "version": "3.7.12"
  }
 },
 "nbformat": 4,
 "nbformat_minor": 5
}
