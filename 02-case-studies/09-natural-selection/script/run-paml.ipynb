{
 "cells": [
  {
   "cell_type": "markdown",
   "id": "416c30aa",
   "metadata": {
    "tags": []
   },
   "source": [
    "# Goal\n",
    "Programmatically run PAMl analysis with different input alignment, tree and options, and collect the results for output. This helps with reproducibility and makes documenting the analysis easier.\n",
    "\n",
    "# Approach\n",
    "Use `Biopython`'s integration for PAML."
   ]
  },
  {
   "cell_type": "code",
   "execution_count": 39,
   "id": "17f4cd3d",
   "metadata": {},
   "outputs": [],
   "source": [
    "from Bio.Phylo.PAML import codeml\n",
    "from scipy.stats import chi2\n",
    "import os\n",
    "import csv"
   ]
  },
  {
   "cell_type": "code",
   "execution_count": 4,
   "id": "ae49b7ad",
   "metadata": {},
   "outputs": [
    {
     "name": "stdout",
     "output_type": "stream",
     "text": [
      "/Users/bhe2/Documents/work/current/C037-Cand-auris-adhesin/02-case-studies/09-natural-selection/script\n"
     ]
    }
   ],
   "source": [
    "# store the script directory\n",
    "script_dir = os.path.abspath('')\n",
    "print(script_dir)"
   ]
  },
  {
   "cell_type": "markdown",
   "id": "1b61d1e6",
   "metadata": {},
   "source": [
    "# p1-414\n",
    "## Site test"
   ]
  },
  {
   "cell_type": "markdown",
   "id": "e77f07f6-c462-44c1-a53b-238a3eb120b1",
   "metadata": {
    "jp-MarkdownHeadingCollapsed": true,
    "tags": []
   },
   "source": [
    "### M0,1,2,7,8 (codonfreq=1)"
   ]
  },
  {
   "cell_type": "code",
   "execution_count": 10,
   "id": "8a58b5cc-96cf-44cb-a95f-2da7a6a38117",
   "metadata": {
    "tags": []
   },
   "outputs": [],
   "source": [
    "# to allow for this code chunk to be run out of order, first switch back to the script dir\n",
    "os.chdir(script_dir)\n",
    "# change to the first segment analysis dir\n",
    "working_dir = \"../output/paml/B8441-OG-part/p1-414/site-cf1/\"\n",
    "os.chdir(working_dir)"
   ]
  },
  {
   "cell_type": "code",
   "execution_count": 4,
   "id": "3771031b-8b48-4118-b2c3-7ca73d794cd6",
   "metadata": {
    "tags": []
   },
   "outputs": [],
   "source": [
    "cml = codeml.Codeml()\n",
    "cml.working_dir = \"./\"\n",
    "cml.alignment = \"../B8441-OG-Hil-PF11765-1-414.nuc\"\n",
    "cml.tree = \"../p1-414.nwk\"\n",
    "cml.out_file = \"mlc\""
   ]
  },
  {
   "cell_type": "code",
   "execution_count": 7,
   "id": "99a3b41d-d9b7-48f5-82c9-90837eb006bb",
   "metadata": {
    "tags": []
   },
   "outputs": [],
   "source": [
    "cml.set_options(\n",
    "    noisy = 2,\n",
    "    verbose = 0,\n",
    "    seqtype = 1,\n",
    "    CodonFreq = 1,\n",
    "    clock = 0,\n",
    "    model = 0, # one ratio for all branches\n",
    "    NSsites = [0,1,2,7,8],\n",
    "    icode = 8,\n",
    "    fix_kappa = 0,\n",
    "    kappa = 2,\n",
    "    fix_omega = 0,\n",
    "    omega = .4,\n",
    "    cleandata = 1,\n",
    "    fix_blength = 0\n",
    ")"
   ]
  },
  {
   "cell_type": "code",
   "execution_count": 8,
   "id": "cb5aaed9-6da2-42c1-bc17-0c18c75d6b8a",
   "metadata": {
    "tags": []
   },
   "outputs": [],
   "source": [
    "cml.ctl_file = \"codeml.ctl\"\n",
    "cml.write_ctl_file()"
   ]
  },
  {
   "cell_type": "code",
   "execution_count": 9,
   "id": "48e9ee03-72f4-42da-b6d2-0f2ed7e89a89",
   "metadata": {},
   "outputs": [],
   "source": [
    "res = cml.run()"
   ]
  },
  {
   "cell_type": "markdown",
   "id": "3427299d-989d-47be-88ff-f2568fe8d302",
   "metadata": {
    "jp-MarkdownHeadingCollapsed": true,
    "tags": []
   },
   "source": [
    "### M8a (codonfreq=1)"
   ]
  },
  {
   "cell_type": "code",
   "execution_count": 11,
   "id": "9730717d-cfd8-44da-9290-8c1f419ecf81",
   "metadata": {},
   "outputs": [],
   "source": [
    "# to allow for this code chunk to be run out of order, first switch back to the script dir\n",
    "os.chdir(script_dir)\n",
    "# change to the first segment analysis dir\n",
    "working_dir = \"../output/paml/B8441-OG-part/p1-414/site-M8a-cf1/\"\n",
    "os.chdir(working_dir)"
   ]
  },
  {
   "cell_type": "code",
   "execution_count": 12,
   "id": "6dc0ba8f-6b44-44db-9de6-7b9525058dbf",
   "metadata": {
    "tags": []
   },
   "outputs": [],
   "source": [
    "cml = codeml.Codeml()\n",
    "cml.working_dir = \"./\"\n",
    "cml.alignment = \"../B8441-OG-Hil-PF11765-1-414.nuc\"\n",
    "cml.tree = \"../p1-414.nwk\"\n",
    "cml.out_file = \"mlc\""
   ]
  },
  {
   "cell_type": "code",
   "execution_count": 13,
   "id": "dbc5a03e-8b38-465b-aea4-b62a1a339708",
   "metadata": {
    "tags": []
   },
   "outputs": [],
   "source": [
    "cml.set_options(\n",
    "    noisy = 2,\n",
    "    verbose = 0,\n",
    "    seqtype = 1,\n",
    "    CodonFreq = 1,\n",
    "    clock = 0,\n",
    "    model = 0, # one ratio for all branches\n",
    "    NSsites = [8],\n",
    "    icode = 8,\n",
    "    fix_kappa = 0,\n",
    "    kappa = 2,\n",
    "    fix_omega = 1,\n",
    "    omega = 1,\n",
    "    cleandata = 1,\n",
    "    fix_blength = 0\n",
    ")"
   ]
  },
  {
   "cell_type": "code",
   "execution_count": 14,
   "id": "6cffbc68-00ae-428b-8ba2-f055748cb813",
   "metadata": {
    "tags": []
   },
   "outputs": [],
   "source": [
    "cml.ctl_file = \"codeml.ctl\"\n",
    "cml.write_ctl_file()"
   ]
  },
  {
   "cell_type": "code",
   "execution_count": 15,
   "id": "9ba35823-0477-4bed-b582-9a1fddc12052",
   "metadata": {},
   "outputs": [],
   "source": [
    "res = cml.run()"
   ]
  },
  {
   "cell_type": "markdown",
   "id": "0e48dfb5-b9f6-43e3-8a17-2d3e8097b264",
   "metadata": {
    "jp-MarkdownHeadingCollapsed": true,
    "tags": []
   },
   "source": [
    "### M0,1,2,7,8 (codonfreq=2)"
   ]
  },
  {
   "cell_type": "code",
   "execution_count": 16,
   "id": "b31da061-5492-4341-af0d-e2338382f0fb",
   "metadata": {
    "tags": []
   },
   "outputs": [],
   "source": [
    "# to allow for this code chunk to be run out of order, first switch back to the script dir\n",
    "os.chdir(script_dir)\n",
    "# change to the first segment analysis dir\n",
    "working_dir = \"../output/paml/B8441-OG-part/p1-414/site-cf2/\"\n",
    "os.chdir(working_dir)"
   ]
  },
  {
   "cell_type": "code",
   "execution_count": 17,
   "id": "2b480127-2cc0-419a-815f-b53a28c81fb7",
   "metadata": {
    "tags": []
   },
   "outputs": [],
   "source": [
    "cml = codeml.Codeml()\n",
    "cml.working_dir = \"./\"\n",
    "cml.alignment = \"../B8441-OG-Hil-PF11765-1-414.nuc\"\n",
    "cml.tree = \"../p1-414.nwk\"\n",
    "cml.out_file = \"mlc\""
   ]
  },
  {
   "cell_type": "code",
   "execution_count": 18,
   "id": "172de914-3b20-4aae-b5c0-0caf17a5a2a7",
   "metadata": {
    "tags": []
   },
   "outputs": [],
   "source": [
    "cml.set_options(\n",
    "    noisy = 2,\n",
    "    verbose = 0,\n",
    "    seqtype = 1,\n",
    "    CodonFreq = 2,\n",
    "    clock = 0,\n",
    "    model = 0, # one ratio for all branches\n",
    "    NSsites = [0,1,2,7,8],\n",
    "    icode = 8,\n",
    "    fix_kappa = 0,\n",
    "    kappa = 2,\n",
    "    fix_omega = 0,\n",
    "    omega = .4,\n",
    "    cleandata = 1,\n",
    "    fix_blength = 0\n",
    ")"
   ]
  },
  {
   "cell_type": "code",
   "execution_count": 19,
   "id": "9924816b-942d-4b99-8554-0b283532dcf8",
   "metadata": {
    "tags": []
   },
   "outputs": [],
   "source": [
    "cml.ctl_file = \"codeml.ctl\"\n",
    "cml.write_ctl_file()"
   ]
  },
  {
   "cell_type": "code",
   "execution_count": 20,
   "id": "8f3aa352-ec37-41af-a760-f4e904fde4f5",
   "metadata": {},
   "outputs": [],
   "source": [
    "res = cml.run()"
   ]
  },
  {
   "cell_type": "markdown",
   "id": "f9ecf6f5-1015-498b-b1ce-abbe0297d7fd",
   "metadata": {
    "jp-MarkdownHeadingCollapsed": true,
    "tags": []
   },
   "source": [
    "### M8a (codonfreq=2)"
   ]
  },
  {
   "cell_type": "code",
   "execution_count": 21,
   "id": "34efabd9-8b3a-45a5-89e5-a44d0f528561",
   "metadata": {},
   "outputs": [],
   "source": [
    "# to allow for this code chunk to be run out of order, first switch back to the script dir\n",
    "os.chdir(script_dir)\n",
    "# change to the first segment analysis dir\n",
    "working_dir = \"../output/paml/B8441-OG-part/p1-414/site-M8a-cf2/\"\n",
    "os.chdir(working_dir)"
   ]
  },
  {
   "cell_type": "code",
   "execution_count": 22,
   "id": "06f0b3e3-80a8-424c-af02-87d910054186",
   "metadata": {
    "tags": []
   },
   "outputs": [],
   "source": [
    "cml = codeml.Codeml()\n",
    "cml.working_dir = \"./\"\n",
    "cml.alignment = \"../B8441-OG-Hil-PF11765-1-414.nuc\"\n",
    "cml.tree = \"../p1-414.nwk\"\n",
    "cml.out_file = \"mlc\""
   ]
  },
  {
   "cell_type": "code",
   "execution_count": 23,
   "id": "7edab223-b594-430d-9d46-01181a9abec6",
   "metadata": {
    "tags": []
   },
   "outputs": [],
   "source": [
    "cml.set_options(\n",
    "    noisy = 2,\n",
    "    verbose = 0,\n",
    "    seqtype = 1,\n",
    "    CodonFreq = 2,\n",
    "    clock = 0,\n",
    "    model = 0, # one ratio for all branches\n",
    "    NSsites = [8],\n",
    "    icode = 8,\n",
    "    fix_kappa = 0,\n",
    "    kappa = 2,\n",
    "    fix_omega = 1,\n",
    "    omega = 1,\n",
    "    cleandata = 1,\n",
    "    fix_blength = 0\n",
    ")"
   ]
  },
  {
   "cell_type": "code",
   "execution_count": 24,
   "id": "c87c8d40-d466-4419-b096-688921e659d6",
   "metadata": {
    "tags": []
   },
   "outputs": [],
   "source": [
    "cml.ctl_file = \"codeml.ctl\"\n",
    "cml.write_ctl_file()"
   ]
  },
  {
   "cell_type": "code",
   "execution_count": 25,
   "id": "dd83e45f-9cf3-49d4-a0e9-1d383e1f2282",
   "metadata": {},
   "outputs": [],
   "source": [
    "res = cml.run()"
   ]
  },
  {
   "cell_type": "markdown",
   "id": "2a173e8c-0c73-4269-8e33-22c5c71ded02",
   "metadata": {},
   "source": [
    "### Site test result"
   ]
  },
  {
   "cell_type": "code",
   "execution_count": 114,
   "id": "6513284f-0e9b-47d9-8f39-42c6cda8feb1",
   "metadata": {},
   "outputs": [],
   "source": [
    "# read site model results into a dictionary\n",
    "site_res = {\n",
    "    'site-cf1': codeml.read('site-cf1/mlc'),\n",
    "    'site-cf2': codeml.read('site-cf2/mlc'),\n",
    "    'site-M8a-cf1': codeml.read('site-M8a-cf1/mlc'),\n",
    "    'site-M8a-cf2': codeml.read('site-M8a-cf2/mlc')\n",
    "}"
   ]
  },
  {
   "cell_type": "code",
   "execution_count": 130,
   "id": "fedc9fb0-4d78-403b-8dec-c68303a3bd70",
   "metadata": {},
   "outputs": [],
   "source": [
    "# function to extract the useful information from each model fit\n",
    "def get_site_model_fit(res):\n",
    "    out = [] # list of lists to store the model output\n",
    "    codon = res['codon model'] # codon model used\n",
    "    for m, fit in res['NSsites'].items():\n",
    "        # model number\n",
    "        M = f'M{m}'\n",
    "        # get the model description\n",
    "        desc = dict.get(fit, 'description')\n",
    "        # get the number of parameters\n",
    "        par = dict.get(fit, 'parameters')\n",
    "        l = len(par['parameter list'].split(' '))\n",
    "        # get the log likelihood values\n",
    "        lnL = dict.get(fit, 'lnL')\n",
    "        # get the kappa estimate\n",
    "        k = dict.get(par, 'kappa')\n",
    "        # get the model-specific set of parameters\n",
    "        omega = ''\n",
    "        # separately deal with the different site models\n",
    "        if m == 0:\n",
    "            omega = f'w={par[\"omega\"]:.3f}'\n",
    "        elif m < 7:\n",
    "            site_class = dict.get(par, 'site classes')\n",
    "            #print(site_class)\n",
    "            for i, v in site_class.items():\n",
    "                omega += f'p{i}={v[\"proportion\"]:.3f}, w{i}={float(v[\"omega\"]):.3f}; '\n",
    "        elif m == 7:\n",
    "            omega = f'p={par[\"p\"]:.3f}, q={par[\"q\"]:.3f}'\n",
    "        elif m == 8:\n",
    "            omega = f'p0={par[\"p0\"]:.3f}, p={par[\"p\"]:.3f}, q={par[\"q\"]:.3f}; p1={1-par[\"p0\"]:.3f}, w={par[\"w\"]:.3f}'\n",
    "            if par['w'] == 1.0: # model M8a\n",
    "                M = 'M8a'\n",
    "                \n",
    "        # print the results to the screen\n",
    "        # print(f'{M}: {desc} has {l} parameters, lnL = {lnL:.3f}, kappa = {k:.3f}, \\n\\tsite classes: {omega}')\n",
    "        # append the results as a row\n",
    "        out.append([codon, M, l, lnL, k, omega, desc])\n",
    "    return(out)\n"
   ]
  },
  {
   "cell_type": "code",
   "execution_count": 131,
   "id": "56d5cafd-beaa-4f22-9e58-fed6c56433b9",
   "metadata": {},
   "outputs": [],
   "source": [
    "# process the data and write the output to a csv file\n",
    "data_rows = []\n",
    "for t in site_res.values():\n",
    "    data_rows += get_site_model_fit(t)\n",
    "fields = ['codonfreq', 'model', 'npar', 'lnL', 'kappa', 'omega', 'description']\n",
    "with open(\"20220727-p1-414-site-model-summary-table.tsv\", \"w\") as f:\n",
    "    write = csv.writer(f, delimiter = \"\\t\")\n",
    "    write.writerow(fields)\n",
    "    write.writerows(data_rows)"
   ]
  },
  {
   "cell_type": "markdown",
   "id": "043efea9-d56c-49de-8715-59f991256a6f",
   "metadata": {},
   "source": [
    "No evidence was found to support positive selection by any of the tests."
   ]
  },
  {
   "cell_type": "markdown",
   "id": "ac740e84-2f02-4372-8369-c342cceced4a",
   "metadata": {},
   "source": [
    "## Branch test"
   ]
  },
  {
   "cell_type": "markdown",
   "id": "ecc5e461",
   "metadata": {
    "tags": []
   },
   "source": [
    "### one ratio (codonfreq = 1)"
   ]
  },
  {
   "cell_type": "code",
   "execution_count": null,
   "id": "6c621eb5",
   "metadata": {},
   "outputs": [],
   "source": [
    "# to allow for this code chunk to be run out of order, first switch back to the script dir\n",
    "os.chdir(script_dir)\n",
    "# change to the first segment analysis dir\n",
    "working_dir = \"../output/paml/B8441-OG-part/p1-414/branch-1r-cf1/\"\n",
    "os.chdir(working_dir)"
   ]
  },
  {
   "cell_type": "code",
   "execution_count": 40,
   "id": "4dc7d85c",
   "metadata": {},
   "outputs": [],
   "source": [
    "cml = codeml.Codeml()\n",
    "cml.working_dir = \"./\"\n",
    "cml.alignment = \"../B8441-OG-Hil-PF11765-1-414.nuc\"\n",
    "cml.tree = \"../p1-414.nwk\"\n",
    "cml.out_file = \"mlc\""
   ]
  },
  {
   "cell_type": "code",
   "execution_count": 41,
   "id": "1dce164e",
   "metadata": {},
   "outputs": [],
   "source": [
    "cml.set_options(\n",
    "    noisy = 2,\n",
    "    verbose = 0,\n",
    "    seqtype = 1,\n",
    "    CodonFreq = 1,\n",
    "    model = 0,\n",
    "    NSsites = [0],\n",
    "    icode = 8,\n",
    "    fix_kappa = 0,\n",
    "    kappa = 2,\n",
    "    fix_omega = 0,\n",
    "    omega = .4,\n",
    "    cleandata = 1,\n",
    "    fix_blength = 0\n",
    ")"
   ]
  },
  {
   "cell_type": "code",
   "execution_count": 54,
   "id": "8d2f5000",
   "metadata": {},
   "outputs": [],
   "source": [
    "cml.ctl_file = \"codeml.ctl\"\n",
    "cml.write_ctl_file()"
   ]
  },
  {
   "cell_type": "code",
   "execution_count": 55,
   "id": "5ae4fae4",
   "metadata": {},
   "outputs": [],
   "source": [
    "res = cml.run()"
   ]
  },
  {
   "cell_type": "markdown",
   "id": "c7628712",
   "metadata": {
    "tags": []
   },
   "source": [
    "### free ratio (codonfreq = 1)"
   ]
  },
  {
   "cell_type": "code",
   "execution_count": null,
   "id": "0b6b6e5d-d9f6-4b85-b034-f30afb1409ff",
   "metadata": {},
   "outputs": [],
   "source": [
    "# to allow for this code chunk to be run out of order, first switch back to the script dir\n",
    "os.chdir(script_dir)\n",
    "# change to the first segment analysis dir\n",
    "working_dir = \"../output/paml/B8441-OG-part/p1-414/branch-freer-cf1/\"\n",
    "os.chdir(working_dir)"
   ]
  },
  {
   "cell_type": "code",
   "execution_count": 69,
   "id": "72160d2e",
   "metadata": {
    "tags": []
   },
   "outputs": [],
   "source": [
    "cml = codeml.Codeml()\n",
    "cml.working_dir = \"./\"\n",
    "cml.alignment = \"../B8441-OG-Hil-PF11765-1-414.nuc\"\n",
    "cml.tree = \"../p1-414.nwk\"\n",
    "cml.out_file = \"mlc\""
   ]
  },
  {
   "cell_type": "code",
   "execution_count": 74,
   "id": "76f70585",
   "metadata": {
    "tags": []
   },
   "outputs": [],
   "source": [
    "cml.set_options(\n",
    "    noisy = 2,\n",
    "    verbose = 0,\n",
    "    seqtype = 1,\n",
    "    CodonFreq = 1,\n",
    "    clock = 0,\n",
    "    model = 1,\n",
    "    NSsites = [0],\n",
    "    icode = 8,\n",
    "    fix_kappa = 0,\n",
    "    kappa = 2,\n",
    "    fix_omega = 0,\n",
    "    omega = .4,\n",
    "    cleandata = 1,\n",
    "    fix_blength = 0\n",
    ")"
   ]
  },
  {
   "cell_type": "code",
   "execution_count": 75,
   "id": "8fa2a1c2",
   "metadata": {
    "tags": []
   },
   "outputs": [],
   "source": [
    "cml.ctl_file = \"codeml.ctl\"\n",
    "cml.write_ctl_file()"
   ]
  },
  {
   "cell_type": "code",
   "execution_count": 76,
   "id": "8e71a7a1",
   "metadata": {
    "tags": []
   },
   "outputs": [],
   "source": [
    "res = cml.run()"
   ]
  },
  {
   "cell_type": "markdown",
   "id": "289934c5",
   "metadata": {
    "tags": []
   },
   "source": [
    "### one ratio (codonfreq = 2)"
   ]
  },
  {
   "cell_type": "code",
   "execution_count": null,
   "id": "59d9d620-67c8-40fa-bb88-7e7b09c9f8ae",
   "metadata": {},
   "outputs": [],
   "source": [
    "# to allow for this code chunk to be run out of order, first switch back to the script dir\n",
    "os.chdir(script_dir)\n",
    "# change to the first segment analysis dir\n",
    "working_dir = \"../output/paml/B8441-OG-part/p1-414/branch-1r-cf2/\"\n",
    "os.chdir(working_dir)"
   ]
  },
  {
   "cell_type": "code",
   "execution_count": 40,
   "id": "99c1fe69",
   "metadata": {
    "tags": []
   },
   "outputs": [],
   "source": [
    "cml = codeml.Codeml()\n",
    "cml.working_dir = \"./\"\n",
    "cml.alignment = \"../B8441-OG-Hil-PF11765-1-414.nuc\"\n",
    "cml.tree = \"../p1-414.nwk\"\n",
    "cml.out_file = \"mlc\""
   ]
  },
  {
   "cell_type": "code",
   "execution_count": 84,
   "id": "281032e4",
   "metadata": {
    "tags": []
   },
   "outputs": [],
   "source": [
    "cml.set_options(\n",
    "    noisy = 2,\n",
    "    verbose = 0,\n",
    "    seqtype = 1,\n",
    "    CodonFreq = 2,\n",
    "    model = 0,\n",
    "    NSsites = [0],\n",
    "    icode = 8,\n",
    "    fix_kappa = 0,\n",
    "    kappa = 2,\n",
    "    fix_omega = 0,\n",
    "    omega = .4,\n",
    "    cleandata = 1,\n",
    "    fix_blength = 0\n",
    ")"
   ]
  },
  {
   "cell_type": "code",
   "execution_count": 85,
   "id": "d6e87c35",
   "metadata": {
    "tags": []
   },
   "outputs": [],
   "source": [
    "cml.ctl_file = \"codeml.ctl\"\n",
    "cml.write_ctl_file()"
   ]
  },
  {
   "cell_type": "code",
   "execution_count": 86,
   "id": "58d79391",
   "metadata": {
    "tags": []
   },
   "outputs": [],
   "source": [
    "res = cml.run()"
   ]
  },
  {
   "cell_type": "markdown",
   "id": "beb21b36",
   "metadata": {
    "jp-MarkdownHeadingCollapsed": true,
    "tags": []
   },
   "source": [
    "### free ratio (codonfreq = 2)"
   ]
  },
  {
   "cell_type": "code",
   "execution_count": null,
   "id": "7e6d9e60-18ff-444c-9be0-1454c4a2a8bb",
   "metadata": {},
   "outputs": [],
   "source": [
    "# to allow for this code chunk to be run out of order, first switch back to the script dir\n",
    "os.chdir(script_dir)\n",
    "# change to the first segment analysis dir\n",
    "working_dir = \"../output/paml/B8441-OG-part/p1-414/branch-freer-cf2/\"\n",
    "os.chdir(working_dir)"
   ]
  },
  {
   "cell_type": "code",
   "execution_count": 89,
   "id": "b9b69b19",
   "metadata": {
    "tags": []
   },
   "outputs": [],
   "source": [
    "cml = codeml.Codeml()\n",
    "cml.working_dir = \"./\"\n",
    "cml.alignment = \"../B8441-OG-Hil-PF11765-1-414.nuc\"\n",
    "cml.tree = \"../p1-414.nwk\"\n",
    "cml.out_file = \"mlc\""
   ]
  },
  {
   "cell_type": "code",
   "execution_count": 90,
   "id": "047c70d6",
   "metadata": {
    "tags": []
   },
   "outputs": [],
   "source": [
    "cml.set_options(\n",
    "    noisy = 2,\n",
    "    verbose = 0,\n",
    "    seqtype = 1,\n",
    "    CodonFreq = 2,\n",
    "    clock = 0,\n",
    "    model = 1,\n",
    "    NSsites = [0],\n",
    "    icode = 8,\n",
    "    fix_kappa = 0,\n",
    "    kappa = 2,\n",
    "    fix_omega = 0,\n",
    "    omega = .4,\n",
    "    cleandata = 1,\n",
    "    fix_blength = 0\n",
    ")"
   ]
  },
  {
   "cell_type": "code",
   "execution_count": 91,
   "id": "4fa07fdb",
   "metadata": {
    "tags": []
   },
   "outputs": [],
   "source": [
    "cml.ctl_file = \"codeml.ctl\"\n",
    "cml.write_ctl_file()"
   ]
  },
  {
   "cell_type": "code",
   "execution_count": 92,
   "id": "6069c0e2",
   "metadata": {},
   "outputs": [],
   "source": [
    "res = cml.run()"
   ]
  },
  {
   "cell_type": "markdown",
   "id": "dc3d431b",
   "metadata": {
    "tags": []
   },
   "source": [
    "### Free vs one-omega models\n",
    "First, we reimport all the model results"
   ]
  },
  {
   "cell_type": "code",
   "execution_count": 40,
   "id": "d86ebbfb",
   "metadata": {},
   "outputs": [],
   "source": [
    "# to allow for this code chunk to be run out of order, first switch back to the script dir\n",
    "os.chdir(script_dir)\n",
    "# change to the first segment analysis dir\n",
    "working_dir = \"../output/paml/B8441-OG-part/p1-414/\"\n",
    "os.chdir(working_dir)\n",
    "branch_res = {\n",
    "    'branch-1r-cf1': codeml.read('branch-1r-cf1/mlc'),\n",
    "    'branch-1r-cf2': codeml.read('branch-1r-cf2/mlc'),\n",
    "    'branch-freer-cf1': codeml.read('branch-freer-cf1/mlc'),\n",
    "    'branch-freer-cf2': codeml.read('branch-freer-cf2/mlc')\n",
    "}"
   ]
  },
  {
   "cell_type": "code",
   "execution_count": 6,
   "id": "97dda3f4",
   "metadata": {},
   "outputs": [],
   "source": [
    "def get_ll(res):\n",
    "    return(res['NSsites'][0]['lnL'])\n",
    "\n",
    "def get_np(res):\n",
    "    par = res['NSsites'][0]['parameters']['parameter list']\n",
    "    return(len(par.split(' ')))"
   ]
  },
  {
   "cell_type": "code",
   "execution_count": 45,
   "id": "0ed11c6c",
   "metadata": {},
   "outputs": [
    {
     "name": "stdout",
     "output_type": "stream",
     "text": [
      "Testing one ratio vs free ratio models, with CodonFreq=1\n",
      "df=14, 2*∆lnL=55.73, p=6.47e-07\n"
     ]
    }
   ],
   "source": [
    "dl_cf1 = get_ll(branch_res['branch-freer-cf1']) - get_ll(branch_res['branch-1r-cf1'])\n",
    "df_cf1 = get_np(branch_res['branch-freer-cf1']) - get_np(branch_res['branch-1r-cf1'])\n",
    "p_cf1 = 1 - chi2.cdf(2*dl_cf1, df = df_cf1)\n",
    "print(\"Testing one ratio vs free ratio models, with CodonFreq=1\")\n",
    "print(f'df={df_cf1}, 2*∆lnL={2*dl_cf1:.2f}, p={p_cf1:.2e}')"
   ]
  },
  {
   "cell_type": "code",
   "execution_count": 46,
   "id": "a7edaf30-2a62-411b-8e23-f436777b7d7f",
   "metadata": {},
   "outputs": [
    {
     "name": "stdout",
     "output_type": "stream",
     "text": [
      "Testing one ratio vs free ratio models, with CodonFreq=1\n",
      "df=14, 2*∆lnL=27.99, p=1.43e-02\n"
     ]
    }
   ],
   "source": [
    "dl_cf2 = get_ll(branch_res['branch-freer-cf2']) - get_ll(branch_res['branch-1r-cf2'])\n",
    "df_cf2 = get_np(branch_res['branch-freer-cf2']) - get_np(branch_res['branch-1r-cf2'])\n",
    "p_cf2 = 1 - chi2.cdf(2*dl_cf2, df = df_cf2)\n",
    "# p_cf2 = 1.427e-02 # calculated with the chi2 program from PAML package\n",
    "print(\"Testing one ratio vs free ratio models, with CodonFreq=1\")\n",
    "print(f'df={df_cf2}, 2*∆lnL={2*dl_cf2:.2f}, p={p_cf2:.2e}')"
   ]
  },
  {
   "cell_type": "markdown",
   "id": "fdb2afc9-de62-4d0a-afe1-2d521bd550d0",
   "metadata": {},
   "source": [
    "there is thus strong evidence for non-equal dN/dS along the branches. But this test is almost always significant because the null hypothesis of homogeneous dN/dS across the entire tree is not realistic under most cases."
   ]
  },
  {
   "cell_type": "markdown",
   "id": "af15b973-0f3f-4d31-8d23-80211444e73b",
   "metadata": {},
   "source": [
    "I plotted the free ratio model estimates on the gene tree using the `ggtree` package in R:\n",
    "![free ratio estimates](../output/figure/20220727-B8441-OG-p1-414-branch-freer-tree.png)\n",
    "\n",
    "By comparing the results obtained with CodonFreq=2 or CodonFreq=1, I see that two of the three branches identified as having elevated dN/dS by the F3x4 model was also implicated by the F1x4 model. Given Ziheng's [suggestion](https://groups.google.com/g/pamlsoftware/c/i7-NFSgnhq8/m/80rWE37kBgAJ), I decided to focus on the F3x4 model result and test the three branches together and separately (labeled as ω1, ω2 and ω3, respectively).\n",
    "\n",
    "My next goal is to separately test whether there are statistical support for these two branches having a dN/dS > 1."
   ]
  },
  {
   "cell_type": "markdown",
   "id": "329b1f53-976c-4e0f-9440-ca0c8c94b4a9",
   "metadata": {
    "tags": []
   },
   "source": [
    "### F1x4, two ratio (w0, w1=w2=w3=w4)"
   ]
  },
  {
   "cell_type": "code",
   "execution_count": 73,
   "id": "94c4c276-a3dd-4394-b864-849c4e77f760",
   "metadata": {},
   "outputs": [],
   "source": [
    "# to allow for this code chunk to be run out of order, first switch back to the script dir\n",
    "os.chdir(script_dir)\n",
    "# change to the first segment analysis dir\n",
    "working_dir = \"../output/paml/B8441-OG-part/p1-414/branch-2r_all-cf1/\"\n",
    "if not os.path.exists(working_dir):\n",
    "    os.mkdir(working_dir)\n",
    "os.chdir(working_dir)"
   ]
  },
  {
   "cell_type": "code",
   "execution_count": 48,
   "id": "3f413d77-71ac-479e-b9f5-a3b9511b5003",
   "metadata": {},
   "outputs": [],
   "source": [
    "cml = codeml.Codeml()\n",
    "cml.working_dir = \"./\"\n",
    "cml.alignment = \"../B8441-OG-Hil-PF11765-1-414.nuc\"\n",
    "cml.tree = \"../p1-414-2r_all-cf1.nwk\"\n",
    "cml.out_file = \"mlc\""
   ]
  },
  {
   "cell_type": "code",
   "execution_count": 49,
   "id": "21af681e-0a8f-451f-a559-aa9d7d18a3f6",
   "metadata": {},
   "outputs": [],
   "source": [
    "cml.set_options(\n",
    "    noisy = 2,\n",
    "    verbose = 0,\n",
    "    seqtype = 1,\n",
    "    CodonFreq = 1, # F1x4 codon\n",
    "    model = 2,     # 2 or more dN/dS ratios for branches\n",
    "    NSsites = [0], # one site class \n",
    "    icode = 8,     # yeast alternative nuclear code\n",
    "    fix_kappa = 0,\n",
    "    kappa = 2,\n",
    "    fix_omega = 0,\n",
    "    omega = .4,\n",
    "    cleandata = 1,\n",
    "    fix_blength = 0\n",
    ")"
   ]
  },
  {
   "cell_type": "code",
   "execution_count": 50,
   "id": "270767a2-3959-4389-9c6e-7ab5115eecfe",
   "metadata": {},
   "outputs": [],
   "source": [
    "cml.ctl_file = \"codeml.ctl\"\n",
    "cml.write_ctl_file()"
   ]
  },
  {
   "cell_type": "code",
   "execution_count": 51,
   "id": "983626d5-9e14-4757-b274-d62f54b11ead",
   "metadata": {},
   "outputs": [],
   "source": [
    "res = cml.run()"
   ]
  },
  {
   "cell_type": "code",
   "execution_count": 66,
   "id": "824d2262-bd5b-4b4d-a82b-4bb71572cd05",
   "metadata": {},
   "outputs": [],
   "source": [
    "# define a few helper functions\n",
    "def print_branch_test(res1, res0):\n",
    "    \"\"\"\n",
    "    extract and print the most important branch test result parameters, including\n",
    "    codonmodel, lnL, npar, omega_tree\n",
    "    also perform a log likelihood ratio test comparing the alternative with the null model\n",
    "    designated as res1 and res0\n",
    "    \"\"\"\n",
    "    # get the lnL and npar for both models\n",
    "    lnL1 = get_ll(res1); npar1 = get_np(res1)\n",
    "    lnL0 = get_ll(res0); npar0 = get_np(res0)\n",
    "    dlnL = lnL1 - lnL0; dnpar = npar1 - npar0\n",
    "    llr_P = 1 - chi2.cdf(x = 2*dlnL, df = dnpar)\n",
    "    # get the parameter lists for both models\n",
    "    res1_fit = res1[\"NSsites\"][0]; res1_par = res1_fit[\"parameters\"]\n",
    "    res0_fit = res0[\"NSsites\"][0]; res0_par = res0_fit[\"parameters\"]\n",
    "    # print useful model output\n",
    "    print(f'Main result (codon model = {res1[\"codon model\"]})\\n\\\n",
    "    lnL: {lnL1}; np: {npar1}; kappa: {res1_par[\"kappa\"]:.3f}; w: {res1_par[\"omega\"]}\\n\\\n",
    "    omega tree: {res1_fit[\"omega tree\"]}')\n",
    "    print(f'Null model (codon model = {res0[\"codon model\"]})\\n\\\n",
    "    lnL: {lnL0}; np: {npar0}; kappa: {res0_par[\"kappa\"]:.3f}; w: {res0_par[\"omega\"]}\\n\\\n",
    "    2*dlnL = {2*dlnL:.3f}, df = {dnpar}, LLR P-value = {llr_P:.2e}')"
   ]
  },
  {
   "cell_type": "code",
   "execution_count": 74,
   "id": "54aa2992-3ef5-4ea5-b053-80212112de80",
   "metadata": {},
   "outputs": [
    {
     "name": "stdout",
     "output_type": "stream",
     "text": [
      "Main result (codon model = F1x4)\n",
      "    lnL: -3421.85936; np: 18; kappa: 1.583; w: [0.12695, 1.77137]\n",
      "    omega tree: ((Hil7 #0.126954 , (((Hil1 #0.126954 , Hil2 #0.126954 ) #0.126954 , (Hil4 #0.126954 , Hil3 #0.126954 ) #0.126954 ) #1.77137 , (Hil8 #0.126954 , Hil6 #0.126954 ) #1.77137 ) #1.77137 ) #0.126954 , Hil5 #1.77137 , OG #0.126954 );\n",
      "Null model (codon model = F1x4)\n",
      "    lnL: -3427.952669; np: 17; kappa: 1.592; w: 0.13685\n",
      "    2*dlnL = 12.187, df = 1, LLR P-value = 4.81e-04\n"
     ]
    }
   ],
   "source": [
    "branch_res['branch-2r_all-cf1'] = codeml.read(\"mlc\")\n",
    "print_branch_test(branch_res['branch-2r_all-cf1'], branch_res['branch-1r-cf1'])"
   ]
  },
  {
   "cell_type": "markdown",
   "id": "29c08095-2c6a-45c6-a071-abd8beb3827b",
   "metadata": {
    "tags": []
   },
   "source": [
    "### F1x4, two ratio constrained (w0, w1=w2=w3=w4=1)"
   ]
  },
  {
   "cell_type": "code",
   "execution_count": 76,
   "id": "7a41be22-445d-42bc-8400-9b02ef37141c",
   "metadata": {},
   "outputs": [],
   "source": [
    "# to allow for this code chunk to be run out of order, first switch back to the script dir\n",
    "os.chdir(script_dir)\n",
    "# change to the first segment analysis dir\n",
    "working_dir = \"../output/paml/B8441-OG-part/p1-414/branch-2r_alleq1-cf1/\"\n",
    "if not os.path.exists(working_dir):\n",
    "    os.mkdir(working_dir)\n",
    "os.chdir(working_dir)"
   ]
  },
  {
   "cell_type": "code",
   "execution_count": 69,
   "id": "1ebb9c24-25c7-4d5b-acbd-2525e93a0464",
   "metadata": {},
   "outputs": [],
   "source": [
    "cml = codeml.Codeml()\n",
    "cml.working_dir = \"./\"\n",
    "cml.alignment = \"../B8441-OG-Hil-PF11765-1-414.nuc\"\n",
    "cml.tree = \"../p1-414-2r_all-cf1.nwk\"\n",
    "cml.out_file = \"mlc\""
   ]
  },
  {
   "cell_type": "code",
   "execution_count": 70,
   "id": "1cd2c846-4caa-49f9-a672-32f8a73d3a04",
   "metadata": {},
   "outputs": [],
   "source": [
    "cml.set_options(\n",
    "    noisy = 2,\n",
    "    verbose = 0,\n",
    "    seqtype = 1,\n",
    "    CodonFreq = 1, # F1x4 codon\n",
    "    model = 2,     # 2 or more dN/dS ratios for branches\n",
    "    NSsites = [0], # one site class \n",
    "    icode = 8,     # yeast alternative nuclear code\n",
    "    fix_kappa = 0,\n",
    "    kappa = 2,\n",
    "    fix_omega = 1,\n",
    "    omega = 1,\n",
    "    cleandata = 1,\n",
    "    fix_blength = 0\n",
    ")"
   ]
  },
  {
   "cell_type": "code",
   "execution_count": 71,
   "id": "cd3ed91f-57fe-4ea2-a686-1cf4b5e16166",
   "metadata": {},
   "outputs": [],
   "source": [
    "cml.ctl_file = \"codeml.ctl\"\n",
    "cml.write_ctl_file()"
   ]
  },
  {
   "cell_type": "code",
   "execution_count": 72,
   "id": "13dd9c5e-6ee4-4595-aee6-4140e436390a",
   "metadata": {},
   "outputs": [],
   "source": [
    "res = cml.run()"
   ]
  },
  {
   "cell_type": "code",
   "execution_count": 77,
   "id": "34f83166-08e3-41ee-8509-5973738564dc",
   "metadata": {},
   "outputs": [
    {
     "name": "stdout",
     "output_type": "stream",
     "text": [
      "Main result (codon model = F1x4)\n",
      "    lnL: -3421.85936; np: 18; kappa: 1.583; w: [0.12695, 1.77137]\n",
      "    omega tree: ((Hil7 #0.126954 , (((Hil1 #0.126954 , Hil2 #0.126954 ) #0.126954 , (Hil4 #0.126954 , Hil3 #0.126954 ) #0.126954 ) #1.77137 , (Hil8 #0.126954 , Hil6 #0.126954 ) #1.77137 ) #1.77137 ) #0.126954 , Hil5 #1.77137 , OG #0.126954 );\n",
      "Null model (codon model = F1x4)\n",
      "    lnL: -3421.992047; np: 17; kappa: 1.581; w: [0.1292, 1.0]\n",
      "    2*dlnL = 0.265, df = 1, LLR P-value = 6.06e-01\n"
     ]
    }
   ],
   "source": [
    "branch_res['branch-2r_alleq1-cf1'] = codeml.read(\"mlc\")\n",
    "print_branch_test(branch_res['branch-2r_all-cf1'], branch_res['branch-2r_alleq1-cf1'])"
   ]
  },
  {
   "cell_type": "markdown",
   "id": "79f0ac47-cd31-48ca-8420-d37db99cb232",
   "metadata": {},
   "source": [
    "### two ratio (w0, w1=w2=w3, F3x4)"
   ]
  },
  {
   "cell_type": "code",
   "execution_count": 79,
   "id": "bf9c48c6-9347-403d-b830-351961ca4452",
   "metadata": {},
   "outputs": [],
   "source": [
    "# to allow for this code chunk to be run out of order, first switch back to the script dir\n",
    "os.chdir(script_dir)\n",
    "# change to the first segment analysis dir\n",
    "working_dir = \"../output/paml/B8441-OG-part/p1-414/branch-2r_all-cf2/\"\n",
    "if not os.path.exists(working_dir):\n",
    "    os.mkdir(working_dir)\n",
    "os.chdir(working_dir)"
   ]
  },
  {
   "cell_type": "code",
   "execution_count": 80,
   "id": "0537283b-b000-4177-9015-3e82705e9c91",
   "metadata": {},
   "outputs": [],
   "source": [
    "cml = codeml.Codeml()\n",
    "cml.working_dir = \"./\"\n",
    "cml.alignment = \"../B8441-OG-Hil-PF11765-1-414.nuc\"\n",
    "cml.tree = \"../p1-414-2r_all-cf2.nwk\"\n",
    "cml.out_file = \"mlc\""
   ]
  },
  {
   "cell_type": "code",
   "execution_count": 81,
   "id": "0fda4719-18f1-410f-bb82-bf42f606968f",
   "metadata": {},
   "outputs": [],
   "source": [
    "cml.set_options(\n",
    "    noisy = 2,\n",
    "    verbose = 0,\n",
    "    seqtype = 1,\n",
    "    CodonFreq = 2, # F3x4 model\n",
    "    model = 2,     # 2 or more dN/dS ratios for branches\n",
    "    NSsites = [0], # one site class \n",
    "    icode = 8,     # yeast alternative nuclear code\n",
    "    fix_kappa = 0,\n",
    "    kappa = 2,\n",
    "    fix_omega = 0,\n",
    "    omega = .4,\n",
    "    cleandata = 1,\n",
    "    fix_blength = 0\n",
    ")"
   ]
  },
  {
   "cell_type": "code",
   "execution_count": 82,
   "id": "4173e0be-4734-4008-b400-0bc947aed8a2",
   "metadata": {},
   "outputs": [],
   "source": [
    "cml.ctl_file = \"codeml.ctl\"\n",
    "cml.write_ctl_file()"
   ]
  },
  {
   "cell_type": "code",
   "execution_count": 83,
   "id": "3b1cd46c-7feb-44ed-b737-49ac4f68bd43",
   "metadata": {},
   "outputs": [],
   "source": [
    "res = cml.run()"
   ]
  },
  {
   "cell_type": "code",
   "execution_count": 84,
   "id": "2c01f5d7-5990-4e6e-9217-f7371f6f9748",
   "metadata": {},
   "outputs": [
    {
     "name": "stdout",
     "output_type": "stream",
     "text": [
      "Main result (codon model = F3x4)\n",
      "    lnL: -3360.672152; np: 18; kappa: 1.316; w: [0.0292, 0.00277]\n",
      "    omega tree: ((Hil7 #0.0291987 , (((Hil1 #0.0291987 , Hil2 #0.0291987 ) #0.0291987 , (Hil4 #0.0291987 , Hil3 #0.0291987 ) #0.0291987 ) #0.0291987 , (Hil8 #0.0291987 , Hil6 #0.0291987 ) #0.00277474 ) #0.00277474 ) #0.00277474 , Hil5 #0.0291987 , OG #0.0291987 );\n",
      "Null model (codon model = F3x4)\n",
      "    lnL: -3362.613054; np: 17; kappa: 1.342; w: 0.01825\n",
      "    2*dlnL = 3.882, df = 1, LLR P-value = 4.88e-02\n"
     ]
    }
   ],
   "source": [
    "branch_res['branch-2r_all-cf2'] = codeml.read(\"mlc\")\n",
    "print_branch_test(branch_res['branch-2r_all-cf2'], branch_res['branch-1r-cf2'])"
   ]
  },
  {
   "cell_type": "markdown",
   "id": "bdeb0cfc-6722-4bc3-a530-a8a1e8934a2f",
   "metadata": {},
   "source": [
    "Note that the foreground lineages in the alternative model, which were selected based on them having significantly elevated dN/dS in the free ratio model, actually had a lower dN/dS estimate than the background. This is difficult to interpret."
   ]
  }
 ],
 "metadata": {
  "kernelspec": {
   "display_name": "Python 3",
   "language": "python",
   "name": "python3"
  },
  "language_info": {
   "codemirror_mode": {
    "name": "ipython",
    "version": 3
   },
   "file_extension": ".py",
   "mimetype": "text/x-python",
   "name": "python",
   "nbconvert_exporter": "python",
   "pygments_lexer": "ipython3",
   "version": "3.7.12"
  }
 },
 "nbformat": 4,
 "nbformat_minor": 5
}
