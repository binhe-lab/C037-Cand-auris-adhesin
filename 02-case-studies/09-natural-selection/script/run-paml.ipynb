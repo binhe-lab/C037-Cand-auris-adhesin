{
 "cells": [
  {
   "cell_type": "markdown",
   "id": "416c30aa",
   "metadata": {
    "tags": []
   },
   "source": [
    "# Goal\n",
    "Programmatically run PAMl analysis with different input alignment, tree and options, and collect the results for output. This helps with reproducibility and makes documenting the analysis easier.\n",
    "\n",
    "# Approach\n",
    "Use `Biopython`'s integration for PAML."
   ]
  },
  {
   "cell_type": "markdown",
   "id": "413a77dc-373d-42f1-a0e8-91d9665158ac",
   "metadata": {},
   "source": [
    "## Setup environments"
   ]
  },
  {
   "cell_type": "code",
   "execution_count": 1,
   "id": "17f4cd3d",
   "metadata": {},
   "outputs": [],
   "source": [
    "from Bio.Phylo.PAML import codeml\n",
    "from scipy.stats import chi2\n",
    "import os\n",
    "import csv"
   ]
  },
  {
   "cell_type": "code",
   "execution_count": 2,
   "id": "ae49b7ad",
   "metadata": {},
   "outputs": [
    {
     "name": "stdout",
     "output_type": "stream",
     "text": [
      "/Users/bhe2/Documents/work/current/C037-Cand-auris-adhesin/02-case-studies/09-natural-selection/script\n"
     ]
    }
   ],
   "source": [
    "# store the script directory\n",
    "script_dir = os.path.abspath('')\n",
    "print(script_dir)"
   ]
  },
  {
   "cell_type": "markdown",
   "id": "ffd08b26-0a15-44e8-b784-72d7b0b1966b",
   "metadata": {
    "tags": []
   },
   "source": [
    "## Helper functions"
   ]
  },
  {
   "cell_type": "code",
   "execution_count": 78,
   "id": "97dda3f4",
   "metadata": {},
   "outputs": [],
   "source": [
    "def get_ll(res, m = 0):\n",
    "    \"\"\"\n",
    "    extract the log likelihood score\n",
    "    default to NSsite = 0\n",
    "    \"\"\"\n",
    "    return(res['NSsites'][m]['lnL'])\n",
    "\n",
    "def get_np(res, m = 0):\n",
    "    \"\"\"\n",
    "    extract the log likelihood score\n",
    "    default to NSsite = 0\n",
    "    \"\"\"\n",
    "    par = res['NSsites'][m]['parameters']['parameter list']\n",
    "    return(len(par.split(' ')))"
   ]
  },
  {
   "cell_type": "code",
   "execution_count": 8,
   "id": "f7485cc2-8749-4d28-af32-429f427a1429",
   "metadata": {},
   "outputs": [],
   "source": [
    "# function to extract the useful information from each model fit\n",
    "def get_site_model_fit(res):\n",
    "    out = [] # list of lists to store the model output\n",
    "    codon = res['codon model'] # codon model used\n",
    "    for m, fit in res['NSsites'].items():\n",
    "        # model number\n",
    "        M = f'M{m}'\n",
    "        # get the model description\n",
    "        desc = dict.get(fit, 'description')\n",
    "        # get the number of parameters\n",
    "        par = dict.get(fit, 'parameters')\n",
    "        l = len(par['parameter list'].split(' '))\n",
    "        # get the log likelihood values\n",
    "        lnL = dict.get(fit, 'lnL')\n",
    "        # get the kappa estimate\n",
    "        k = dict.get(par, 'kappa')\n",
    "        # get the model-specific set of parameters\n",
    "        omega = ''\n",
    "        # separately deal with the different site models\n",
    "        if m == 0:\n",
    "            omega = f'w={par[\"omega\"]:.3f}'\n",
    "        elif m < 7:\n",
    "            site_class = dict.get(par, 'site classes')\n",
    "            #print(site_class)\n",
    "            for i, v in site_class.items():\n",
    "                omega += f'p{i}={v[\"proportion\"]:.3f}, w{i}={float(v[\"omega\"]):.3f}; '\n",
    "        elif m == 7:\n",
    "            omega = f'p={par[\"p\"]:.3f}, q={par[\"q\"]:.3f}'\n",
    "        elif m == 8:\n",
    "            omega = f'p0={par[\"p0\"]:.3f}, p={par[\"p\"]:.3f}, q={par[\"q\"]:.3f}; p1={1-par[\"p0\"]:.3f}, w={par[\"w\"]:.3f}'\n",
    "            if par['w'] == 1.0: # model M8a\n",
    "                M = 'M8a'\n",
    "                \n",
    "        # print the results to the screen\n",
    "        # print(f'{M}: {desc} has {l} parameters, lnL = {lnL:.3f}, kappa = {k:.3f}, \\n\\tsite classes: {omega}')\n",
    "        # append the results as a row\n",
    "        out.append([codon, M, l, lnL, k, omega, desc])\n",
    "    return(out)\n"
   ]
  },
  {
   "cell_type": "code",
   "execution_count": 79,
   "id": "df98e150-040c-4c50-b0ad-74445a2875eb",
   "metadata": {},
   "outputs": [],
   "source": [
    "# define a few helper functions\n",
    "def print_branch_test(res1, res0, m = 0):\n",
    "    \"\"\"\n",
    "    extract and print the most important branch test result parameters, including\n",
    "    codonmodel, lnL, npar, omega_tree\n",
    "    also perform a log likelihood ratio test comparing the alternative with the null model\n",
    "    designated as res1 and res0\n",
    "    default to NSsites = 0\n",
    "    \"\"\"\n",
    "    # get the lnL and npar for both models\n",
    "    lnL1 = get_ll(res1, m); npar1 = get_np(res1, m)\n",
    "    lnL0 = get_ll(res0, m); npar0 = get_np(res0, m)\n",
    "    dlnL = lnL1 - lnL0; dnpar = npar1 - npar0\n",
    "    llr_P = 1 - chi2.cdf(x = 2*dlnL, df = dnpar)\n",
    "    # get the parameter lists for both models\n",
    "    res1_fit = res1[\"NSsites\"][m]; res1_par = res1_fit[\"parameters\"]\n",
    "    res0_fit = res0[\"NSsites\"][m]; res0_par = res0_fit[\"parameters\"]\n",
    "    # print useful model output\n",
    "    print(f'Main result (codon model = {res1[\"codon model\"]})\\n\\\n",
    "    lnL: {lnL1}; np: {npar1}; kappa: {res1_par[\"kappa\"]:.3f}; w: {res1_par[\"omega\"]}')\n",
    "    # omega tree: {res1_fit[\"omega tree\"]}')\n",
    "    print(f'Null model (codon model = {res0[\"codon model\"]})\\n\\\n",
    "    lnL: {lnL0}; np: {npar0}; kappa: {res0_par[\"kappa\"]:.3f}; w: {res0_par[\"omega\"]}\\n\\\n",
    "    2*dlnL = {2*dlnL:.3f}, df = {dnpar}, LLR P-value = {llr_P:.2e}')"
   ]
  },
  {
   "cell_type": "markdown",
   "id": "1b61d1e6",
   "metadata": {},
   "source": [
    "# p1-414\n",
    "## Site models"
   ]
  },
  {
   "cell_type": "markdown",
   "id": "e77f07f6-c462-44c1-a53b-238a3eb120b1",
   "metadata": {
    "tags": []
   },
   "source": [
    "### M0,1,2,7,8 (codonfreq=1)"
   ]
  },
  {
   "cell_type": "code",
   "execution_count": 10,
   "id": "e6b0dc80",
   "metadata": {
    "tags": []
   },
   "outputs": [],
   "source": [
    "# to allow for this code chunk to be run out of order, first switch back to the script dir\n",
    "os.chdir(script_dir)\n",
    "# change to the first segment analysis dir\n",
    "working_dir = \"../output/paml/B8441-OG-part/p1-414/site-cf1/\"\n",
    "os.chdir(working_dir)"
   ]
  },
  {
   "cell_type": "code",
   "execution_count": 151,
   "id": "3771031b-8b48-4118-b2c3-7ca73d794cd6",
   "metadata": {
    "tags": []
   },
   "outputs": [],
   "source": [
    "cml = codeml.Codeml()\n",
    "cml.working_dir = \"./\"\n",
    "cml.alignment = \"../B8441-OG-Hil-PF11765-697-981.nuc\"\n",
    "cml.tree = \"../p697-981.nwk\"\n",
    "cml.out_file = \"mlc\""
   ]
  },
  {
   "cell_type": "code",
   "execution_count": 152,
   "id": "99a3b41d-d9b7-48f5-82c9-90837eb006bb",
   "metadata": {
    "tags": []
   },
   "outputs": [],
   "source": [
    "cml.set_options(\n",
    "    noisy = 2,\n",
    "    verbose = 0,\n",
    "    seqtype = 1,\n",
    "    CodonFreq = 1, # F1x4\n",
    "    clock = 0,\n",
    "    model = 0,     # one ratio for all branches\n",
    "    NSsites = [0,1,2,7,8],\n",
    "    icode = 8,\n",
    "    fix_kappa = 0,\n",
    "    kappa = 2,\n",
    "    fix_omega = 0,\n",
    "    omega = .4,\n",
    "    cleandata = 1,\n",
    "    fix_blength = 0\n",
    ")"
   ]
  },
  {
   "cell_type": "code",
   "execution_count": 153,
   "id": "cb5aaed9-6da2-42c1-bc17-0c18c75d6b8a",
   "metadata": {
    "tags": []
   },
   "outputs": [],
   "source": [
    "cml.ctl_file = \"codeml.ctl\"\n",
    "cml.write_ctl_file()"
   ]
  },
  {
   "cell_type": "code",
   "execution_count": 154,
   "id": "48e9ee03-72f4-42da-b6d2-0f2ed7e89a89",
   "metadata": {},
   "outputs": [],
   "source": [
    "res = cml.run()"
   ]
  },
  {
   "cell_type": "markdown",
   "id": "3427299d-989d-47be-88ff-f2568fe8d302",
   "metadata": {
    "tags": []
   },
   "source": [
    "### M8a (codonfreq=1)"
   ]
  },
  {
   "cell_type": "code",
   "execution_count": 106,
   "id": "4c53bd45",
   "metadata": {},
   "outputs": [
    {
     "ename": "FileNotFoundError",
     "evalue": "[Errno 2] No such file or directory: '../output/paml/B8441-OG-part/p697-981/site-M8a-cf1/'",
     "output_type": "error",
     "traceback": [
      "\u001b[0;31m---------------------------------------------------------------------------\u001b[0m",
      "\u001b[0;31mFileNotFoundError\u001b[0m                         Traceback (most recent call last)",
      "\u001b[0;32m<ipython-input-106-2ad0f9bc565d>\u001b[0m in \u001b[0;36m<module>\u001b[0;34m\u001b[0m\n\u001b[1;32m      3\u001b[0m \u001b[0;31m# change to the first segment analysis dir\u001b[0m\u001b[0;34m\u001b[0m\u001b[0;34m\u001b[0m\u001b[0;34m\u001b[0m\u001b[0m\n\u001b[1;32m      4\u001b[0m \u001b[0mworking_dir\u001b[0m \u001b[0;34m=\u001b[0m \u001b[0;34m\"../output/paml/B8441-OG-part/p697-981/site-M8a-cf1/\"\u001b[0m\u001b[0;34m\u001b[0m\u001b[0;34m\u001b[0m\u001b[0m\n\u001b[0;32m----> 5\u001b[0;31m \u001b[0mos\u001b[0m\u001b[0;34m.\u001b[0m\u001b[0mchdir\u001b[0m\u001b[0;34m(\u001b[0m\u001b[0mworking_dir\u001b[0m\u001b[0;34m)\u001b[0m\u001b[0;34m\u001b[0m\u001b[0;34m\u001b[0m\u001b[0m\n\u001b[0m",
      "\u001b[0;31mFileNotFoundError\u001b[0m: [Errno 2] No such file or directory: '../output/paml/B8441-OG-part/p697-981/site-M8a-cf1/'"
     ]
    }
   ],
   "source": [
    "# to allow for this code chunk to be run out of order, first switch back to the script dir\n",
    "os.chdir(script_dir)\n",
    "# change to the first segment analysis dir\n",
    "working_dir = \"../output/paml/B8441-OG-part/p697-981/site-M8a-cf1/\"\n",
    "os.chdir(working_dir)"
   ]
  },
  {
   "cell_type": "code",
   "execution_count": 12,
   "id": "84acaf73",
   "metadata": {
    "tags": []
   },
   "outputs": [],
   "source": [
    "cml = codeml.Codeml()\n",
    "cml.working_dir = \"./\"\n",
    "cml.alignment = \"../B8441-OG-Hil-PF11765-1-414.nuc\"\n",
    "cml.tree = \"../p1-414.nwk\"\n",
    "cml.out_file = \"mlc\""
   ]
  },
  {
   "cell_type": "code",
   "execution_count": 157,
   "id": "dbc5a03e-8b38-465b-aea4-b62a1a339708",
   "metadata": {
    "tags": []
   },
   "outputs": [],
   "source": [
    "cml.set_options(\n",
    "    noisy = 2,\n",
    "    verbose = 0,\n",
    "    seqtype = 1,\n",
    "    CodonFreq = 1, # F1x4\n",
    "    clock = 0,\n",
    "    model = 0,     # one ratio for all branches\n",
    "    NSsites = [8], # M8a\n",
    "    icode = 8,\n",
    "    fix_kappa = 0,\n",
    "    kappa = 2,\n",
    "    fix_omega = 1,\n",
    "    omega = 1,     # fix omega to be 1 as null model\n",
    "    cleandata = 1,\n",
    "    fix_blength = 0\n",
    ")"
   ]
  },
  {
   "cell_type": "code",
   "execution_count": 158,
   "id": "6cffbc68-00ae-428b-8ba2-f055748cb813",
   "metadata": {
    "tags": []
   },
   "outputs": [],
   "source": [
    "cml.ctl_file = \"codeml.ctl\"\n",
    "cml.write_ctl_file()"
   ]
  },
  {
   "cell_type": "code",
   "execution_count": 159,
   "id": "9ba35823-0477-4bed-b582-9a1fddc12052",
   "metadata": {},
   "outputs": [],
   "source": [
    "res = cml.run()"
   ]
  },
  {
   "cell_type": "markdown",
   "id": "0e48dfb5-b9f6-43e3-8a17-2d3e8097b264",
   "metadata": {
    "tags": []
   },
   "source": [
    "### M0,1,2,7,8 (codonfreq=2)"
   ]
  },
  {
   "cell_type": "code",
   "execution_count": 16,
   "id": "6f443c36",
   "metadata": {
    "tags": []
   },
   "outputs": [],
   "source": [
    "# to allow for this code chunk to be run out of order, first switch back to the script dir\n",
    "os.chdir(script_dir)\n",
    "# change to the first segment analysis dir\n",
    "working_dir = \"../output/paml/B8441-OG-part/p1-414/site-cf2/\"\n",
    "os.chdir(working_dir)"
   ]
  },
  {
   "cell_type": "code",
   "execution_count": 17,
   "id": "9e28dcd9",
   "metadata": {
    "tags": []
   },
   "outputs": [],
   "source": [
    "cml = codeml.Codeml()\n",
    "cml.working_dir = \"./\"\n",
    "cml.alignment = \"../B8441-OG-Hil-PF11765-1-414.nuc\"\n",
    "cml.tree = \"../p1-414.nwk\"\n",
    "cml.out_file = \"mlc\""
   ]
  },
  {
   "cell_type": "code",
   "execution_count": 162,
   "id": "172de914-3b20-4aae-b5c0-0caf17a5a2a7",
   "metadata": {
    "tags": []
   },
   "outputs": [],
   "source": [
    "cml.set_options(\n",
    "    noisy = 2,\n",
    "    verbose = 0,\n",
    "    seqtype = 1,\n",
    "    CodonFreq = 2, # F3x4\n",
    "    clock = 0,\n",
    "    model = 0,     # one ratio for all branches\n",
    "    NSsites = [0,1,2,7,8],\n",
    "    icode = 8,\n",
    "    fix_kappa = 0,\n",
    "    kappa = 2,\n",
    "    fix_omega = 0,\n",
    "    omega = .4,\n",
    "    cleandata = 1,\n",
    "    fix_blength = 0\n",
    ")"
   ]
  },
  {
   "cell_type": "code",
   "execution_count": 163,
   "id": "9924816b-942d-4b99-8554-0b283532dcf8",
   "metadata": {
    "tags": []
   },
   "outputs": [],
   "source": [
    "cml.ctl_file = \"codeml.ctl\"\n",
    "cml.write_ctl_file()"
   ]
  },
  {
   "cell_type": "code",
   "execution_count": 164,
   "id": "8f3aa352-ec37-41af-a760-f4e904fde4f5",
   "metadata": {},
   "outputs": [],
   "source": [
    "res = cml.run()"
   ]
  },
  {
   "cell_type": "markdown",
   "id": "f9ecf6f5-1015-498b-b1ce-abbe0297d7fd",
   "metadata": {
    "tags": []
   },
   "source": [
    "### M8a (codonfreq=2)"
   ]
  },
  {
   "cell_type": "code",
   "execution_count": 21,
   "id": "a3b2609f",
   "metadata": {},
   "outputs": [],
   "source": [
    "# to allow for this code chunk to be run out of order, first switch back to the script dir\n",
    "os.chdir(script_dir)\n",
    "# change to the first segment analysis dir\n",
    "working_dir = \"../output/paml/B8441-OG-part/p1-414/site-M8a-cf2/\"\n",
    "os.chdir(working_dir)"
   ]
  },
  {
   "cell_type": "code",
   "execution_count": 22,
   "id": "2ddc21b9",
   "metadata": {
    "tags": []
   },
   "outputs": [],
   "source": [
    "cml = codeml.Codeml()\n",
    "cml.working_dir = \"./\"\n",
    "cml.alignment = \"../B8441-OG-Hil-PF11765-1-414.nuc\"\n",
    "cml.tree = \"../p1-414.nwk\"\n",
    "cml.out_file = \"mlc\""
   ]
  },
  {
   "cell_type": "code",
   "execution_count": 167,
   "id": "7edab223-b594-430d-9d46-01181a9abec6",
   "metadata": {
    "tags": []
   },
   "outputs": [],
   "source": [
    "cml.set_options(\n",
    "    noisy = 2,\n",
    "    verbose = 0,\n",
    "    seqtype = 1,\n",
    "    CodonFreq = 2, # F3x4\n",
    "    clock = 0,\n",
    "    model = 0,     # one ratio for all branches\n",
    "    NSsites = [8], # M8a\n",
    "    icode = 8,\n",
    "    fix_kappa = 0,\n",
    "    kappa = 2,\n",
    "    fix_omega = 1, # fix omega = 1 as null\n",
    "    omega = 1,\n",
    "    cleandata = 1,\n",
    "    fix_blength = 0\n",
    ")"
   ]
  },
  {
   "cell_type": "code",
   "execution_count": 168,
   "id": "c87c8d40-d466-4419-b096-688921e659d6",
   "metadata": {
    "tags": []
   },
   "outputs": [],
   "source": [
    "cml.ctl_file = \"codeml.ctl\"\n",
    "cml.write_ctl_file()"
   ]
  },
  {
   "cell_type": "code",
   "execution_count": 169,
   "id": "dd83e45f-9cf3-49d4-a0e9-1d383e1f2282",
   "metadata": {},
   "outputs": [],
   "source": [
    "res = cml.run()"
   ]
  },
  {
   "cell_type": "markdown",
   "id": "2a173e8c-0c73-4269-8e33-22c5c71ded02",
   "metadata": {},
   "source": [
    "### Site model test result"
   ]
  },
  {
   "cell_type": "code",
   "execution_count": 170,
   "id": "397966e0-5464-4ef9-b2be-03f9d32a45a5",
   "metadata": {},
   "outputs": [],
   "source": [
    "# to allow for this code chunk to be run out of order, first switch back to the script dir\n",
    "os.chdir(script_dir)\n",
    "# change to the first segment analysis dir\n",
    "working_dir = \"../output/paml/B8441-OG-part/p697-981/\"\n",
    "os.chdir(working_dir)\n"
   ]
  },
  {
   "cell_type": "code",
   "execution_count": 114,
   "id": "b564fb06",
   "metadata": {},
   "outputs": [],
   "source": [
    "# read site model results into a dictionary\n",
    "site_res = {\n",
    "    'site-cf1': codeml.read('site-cf1/mlc'),\n",
    "    'site-cf2': codeml.read('site-cf2/mlc'),\n",
    "    'site-M8a-cf1': codeml.read('site-M8a-cf1/mlc'),\n",
    "    'site-M8a-cf2': codeml.read('site-M8a-cf2/mlc')\n",
    "}"
   ]
  },
  {
   "cell_type": "code",
   "execution_count": 172,
   "id": "56d5cafd-beaa-4f22-9e58-fed6c56433b9",
   "metadata": {},
   "outputs": [],
   "source": [
    "# process the data and write the output to a csv file\n",
    "data_rows = []\n",
    "for t in site_res1.values():\n",
    "    data_rows += get_site_model_fit(t)\n",
    "fields = ['codonfreq', 'model', 'npar', 'lnL', 'kappa', 'omega', 'description']\n",
    "with open(\"20220729-p697-981-site-model-summary-table.tsv\", \"w\") as f:\n",
    "    write = csv.writer(f, delimiter = \"\\t\")\n",
    "    write.writerow(fields)\n",
    "    write.writerows(data_rows)"
   ]
  },
  {
   "cell_type": "markdown",
   "id": "043efea9-d56c-49de-8715-59f991256a6f",
   "metadata": {},
   "source": [
    "No evidence was found to support positive selection by any of the tests."
   ]
  },
  {
   "cell_type": "markdown",
   "id": "ac740e84-2f02-4372-8369-c342cceced4a",
   "metadata": {},
   "source": [
    "## Branch models"
   ]
  },
  {
   "cell_type": "markdown",
   "id": "ecc5e461",
   "metadata": {
    "tags": []
   },
   "source": [
    "### one ratio (codonfreq = 1)"
   ]
  },
  {
   "cell_type": "code",
   "execution_count": 48,
   "id": "6c621eb5",
   "metadata": {},
   "outputs": [],
   "source": [
    "# to allow for this code chunk to be run out of order, first switch back to the script dir\n",
    "os.chdir(script_dir)\n",
    "# change to the first segment analysis dir\n",
    "working_dir = \"../output/paml/B8441-OG-part/p1-414/branch-1r-cf1/\"\n",
    "os.chdir(working_dir)"
   ]
  },
  {
   "cell_type": "code",
   "execution_count": 49,
   "id": "4dc7d85c",
   "metadata": {},
   "outputs": [],
   "source": [
    "cml = codeml.Codeml()\n",
    "cml.working_dir = \"./\"\n",
    "cml.alignment = \"../B8441-OG-Hil-PF11765-1-414.nuc\"\n",
    "cml.tree = \"../p1-414.nwk\"\n",
    "cml.out_file = \"mlc\""
   ]
  },
  {
   "cell_type": "code",
   "execution_count": 50,
   "id": "1dce164e",
   "metadata": {},
   "outputs": [],
   "source": [
    "cml.set_options(\n",
    "    noisy = 2,\n",
    "    verbose = 0,\n",
    "    seqtype = 1,\n",
    "    CodonFreq = 1,\n",
    "    model = 0,\n",
    "    NSsites = [0],\n",
    "    icode = 8,\n",
    "    fix_kappa = 0,\n",
    "    kappa = 2,\n",
    "    fix_omega = 0,\n",
    "    omega = .4,\n",
    "    cleandata = 1,\n",
    "    fix_blength = 0\n",
    ")"
   ]
  },
  {
   "cell_type": "code",
   "execution_count": 51,
   "id": "8d2f5000",
   "metadata": {},
   "outputs": [],
   "source": [
    "cml.ctl_file = \"codeml.ctl\"\n",
    "cml.write_ctl_file()"
   ]
  },
  {
   "cell_type": "code",
   "execution_count": 52,
   "id": "5ae4fae4",
   "metadata": {},
   "outputs": [],
   "source": [
    "res = cml.run()"
   ]
  },
  {
   "cell_type": "markdown",
   "id": "c7628712",
   "metadata": {
    "tags": []
   },
   "source": [
    "### free ratio (codonfreq = 1)"
   ]
  },
  {
   "cell_type": "code",
   "execution_count": 53,
   "id": "0b6b6e5d-d9f6-4b85-b034-f30afb1409ff",
   "metadata": {},
   "outputs": [],
   "source": [
    "# to allow for this code chunk to be run out of order, first switch back to the script dir\n",
    "os.chdir(script_dir)\n",
    "# change to the first segment analysis dir\n",
    "working_dir = \"../output/paml/B8441-OG-part/p1-414/branch-freer-cf1/\"\n",
    "os.chdir(working_dir)"
   ]
  },
  {
   "cell_type": "code",
   "execution_count": 54,
   "id": "72160d2e",
   "metadata": {
    "tags": []
   },
   "outputs": [],
   "source": [
    "cml = codeml.Codeml()\n",
    "cml.working_dir = \"./\"\n",
    "cml.alignment = \"../B8441-OG-Hil-PF11765-1-414.nuc\"\n",
    "cml.tree = \"../p1-414.nwk\"\n",
    "cml.out_file = \"mlc\""
   ]
  },
  {
   "cell_type": "code",
   "execution_count": 55,
   "id": "76f70585",
   "metadata": {
    "tags": []
   },
   "outputs": [],
   "source": [
    "cml.set_options(\n",
    "    noisy = 2,\n",
    "    verbose = 0,\n",
    "    seqtype = 1,\n",
    "    CodonFreq = 1,\n",
    "    clock = 0,\n",
    "    model = 1,\n",
    "    NSsites = [0],\n",
    "    icode = 8,\n",
    "    fix_kappa = 0,\n",
    "    kappa = 2,\n",
    "    fix_omega = 0,\n",
    "    omega = .4,\n",
    "    cleandata = 1,\n",
    "    fix_blength = 0\n",
    ")"
   ]
  },
  {
   "cell_type": "code",
   "execution_count": 56,
   "id": "8fa2a1c2",
   "metadata": {
    "tags": []
   },
   "outputs": [],
   "source": [
    "cml.ctl_file = \"codeml.ctl\"\n",
    "cml.write_ctl_file()"
   ]
  },
  {
   "cell_type": "code",
   "execution_count": 57,
   "id": "8e71a7a1",
   "metadata": {
    "tags": []
   },
   "outputs": [],
   "source": [
    "res = cml.run()"
   ]
  },
  {
   "cell_type": "markdown",
   "id": "289934c5",
   "metadata": {
    "tags": []
   },
   "source": [
    "### one ratio (codonfreq = 2)"
   ]
  },
  {
   "cell_type": "code",
   "execution_count": null,
   "id": "59d9d620-67c8-40fa-bb88-7e7b09c9f8ae",
   "metadata": {},
   "outputs": [],
   "source": [
    "# to allow for this code chunk to be run out of order, first switch back to the script dir\n",
    "os.chdir(script_dir)\n",
    "# change to the first segment analysis dir\n",
    "working_dir = \"../output/paml/B8441-OG-part/p1-414/branch-1r-cf2/\"\n",
    "os.chdir(working_dir)"
   ]
  },
  {
   "cell_type": "code",
   "execution_count": 40,
   "id": "99c1fe69",
   "metadata": {
    "tags": []
   },
   "outputs": [],
   "source": [
    "cml = codeml.Codeml()\n",
    "cml.working_dir = \"./\"\n",
    "cml.alignment = \"../B8441-OG-Hil-PF11765-1-414.nuc\"\n",
    "cml.tree = \"../p1-414.nwk\"\n",
    "cml.out_file = \"mlc\""
   ]
  },
  {
   "cell_type": "code",
   "execution_count": 84,
   "id": "281032e4",
   "metadata": {
    "tags": []
   },
   "outputs": [],
   "source": [
    "cml.set_options(\n",
    "    noisy = 2,\n",
    "    verbose = 0,\n",
    "    seqtype = 1,\n",
    "    CodonFreq = 2,\n",
    "    model = 0,\n",
    "    NSsites = [0],\n",
    "    icode = 8,\n",
    "    fix_kappa = 0,\n",
    "    kappa = 2,\n",
    "    fix_omega = 0,\n",
    "    omega = .4,\n",
    "    cleandata = 1,\n",
    "    fix_blength = 0\n",
    ")"
   ]
  },
  {
   "cell_type": "code",
   "execution_count": 85,
   "id": "d6e87c35",
   "metadata": {
    "tags": []
   },
   "outputs": [],
   "source": [
    "cml.ctl_file = \"codeml.ctl\"\n",
    "cml.write_ctl_file()"
   ]
  },
  {
   "cell_type": "code",
   "execution_count": 86,
   "id": "58d79391",
   "metadata": {
    "tags": []
   },
   "outputs": [],
   "source": [
    "res = cml.run()"
   ]
  },
  {
   "cell_type": "markdown",
   "id": "beb21b36",
   "metadata": {
    "jp-MarkdownHeadingCollapsed": true,
    "tags": []
   },
   "source": [
    "### free ratio (codonfreq = 2)"
   ]
  },
  {
   "cell_type": "code",
   "execution_count": null,
   "id": "7e6d9e60-18ff-444c-9be0-1454c4a2a8bb",
   "metadata": {},
   "outputs": [],
   "source": [
    "# to allow for this code chunk to be run out of order, first switch back to the script dir\n",
    "os.chdir(script_dir)\n",
    "# change to the first segment analysis dir\n",
    "working_dir = \"../output/paml/B8441-OG-part/p1-414/branch-freer-cf2/\"\n",
    "os.chdir(working_dir)"
   ]
  },
  {
   "cell_type": "code",
   "execution_count": 89,
   "id": "b9b69b19",
   "metadata": {
    "tags": []
   },
   "outputs": [],
   "source": [
    "cml = codeml.Codeml()\n",
    "cml.working_dir = \"./\"\n",
    "cml.alignment = \"../B8441-OG-Hil-PF11765-1-414.nuc\"\n",
    "cml.tree = \"../p1-414.nwk\"\n",
    "cml.out_file = \"mlc\""
   ]
  },
  {
   "cell_type": "code",
   "execution_count": 90,
   "id": "047c70d6",
   "metadata": {
    "tags": []
   },
   "outputs": [],
   "source": [
    "cml.set_options(\n",
    "    noisy = 2,\n",
    "    verbose = 0,\n",
    "    seqtype = 1,\n",
    "    CodonFreq = 2,\n",
    "    clock = 0,\n",
    "    model = 1,\n",
    "    NSsites = [0],\n",
    "    icode = 8,\n",
    "    fix_kappa = 0,\n",
    "    kappa = 2,\n",
    "    fix_omega = 0,\n",
    "    omega = .4,\n",
    "    cleandata = 1,\n",
    "    fix_blength = 0\n",
    ")"
   ]
  },
  {
   "cell_type": "code",
   "execution_count": 91,
   "id": "4fa07fdb",
   "metadata": {
    "tags": []
   },
   "outputs": [],
   "source": [
    "cml.ctl_file = \"codeml.ctl\"\n",
    "cml.write_ctl_file()"
   ]
  },
  {
   "cell_type": "code",
   "execution_count": 92,
   "id": "6069c0e2",
   "metadata": {},
   "outputs": [],
   "source": [
    "res = cml.run()"
   ]
  },
  {
   "cell_type": "markdown",
   "id": "dc3d431b",
   "metadata": {
    "tags": []
   },
   "source": [
    "### Free vs one-omega models test result\n",
    "First, we reimport all the model results"
   ]
  },
  {
   "cell_type": "code",
   "execution_count": 64,
   "id": "d86ebbfb",
   "metadata": {},
   "outputs": [],
   "source": [
    "# to allow for this code chunk to be run out of order, first switch back to the script dir\n",
    "os.chdir(script_dir)\n",
    "# change to the first segment analysis dir\n",
    "working_dir = \"../output/paml/B8441-OG-part/p1-414/\"\n",
    "os.chdir(working_dir)\n",
    "branch_res = {\n",
    "    'branch-1r-cf1': codeml.read('branch-1r-cf1/mlc'),\n",
    "    'branch-1r-cf2': codeml.read('branch-1r-cf2/mlc'),\n",
    "    'branch-freer-cf1': codeml.read('branch-freer-cf1/mlc'),\n",
    "    'branch-freer-cf2': codeml.read('branch-freer-cf2/mlc')\n",
    "}"
   ]
  },
  {
   "cell_type": "code",
   "execution_count": 80,
   "id": "0ed11c6c",
   "metadata": {},
   "outputs": [
    {
     "name": "stdout",
     "output_type": "stream",
     "text": [
      "Testing one ratio vs free ratio models, with CodonFreq=1\n",
      "df=14, 2*∆lnL=55.73, p=6.47e-07\n"
     ]
    }
   ],
   "source": [
    "dl_cf1 = get_ll(branch_res['branch-freer-cf1']) - get_ll(branch_res['branch-1r-cf1'])\n",
    "df_cf1 = get_np(branch_res['branch-freer-cf1']) - get_np(branch_res['branch-1r-cf1'])\n",
    "p_cf1 = 1 - chi2.cdf(2*dl_cf1, df = df_cf1)\n",
    "print(\"Testing one ratio vs free ratio models, with CodonFreq=1\")\n",
    "print(f'df={df_cf1}, 2*∆lnL={2*dl_cf1:.2f}, p={p_cf1:.2e}')"
   ]
  },
  {
   "cell_type": "code",
   "execution_count": 81,
   "id": "a7edaf30-2a62-411b-8e23-f436777b7d7f",
   "metadata": {},
   "outputs": [
    {
     "name": "stdout",
     "output_type": "stream",
     "text": [
      "Testing one ratio vs free ratio models, with CodonFreq=1\n",
      "df=14, 2*∆lnL=27.99, p=1.43e-02\n"
     ]
    }
   ],
   "source": [
    "dl_cf2 = get_ll(branch_res['branch-freer-cf2']) - get_ll(branch_res['branch-1r-cf2'])\n",
    "df_cf2 = get_np(branch_res['branch-freer-cf2']) - get_np(branch_res['branch-1r-cf2'])\n",
    "p_cf2 = 1 - chi2.cdf(2*dl_cf2, df = df_cf2)\n",
    "# p_cf2 = 1.427e-02 # calculated with the chi2 program from PAML package\n",
    "print(\"Testing one ratio vs free ratio models, with CodonFreq=1\")\n",
    "print(f'df={df_cf2}, 2*∆lnL={2*dl_cf2:.2f}, p={p_cf2:.2e}')"
   ]
  },
  {
   "cell_type": "markdown",
   "id": "fdb2afc9-de62-4d0a-afe1-2d521bd550d0",
   "metadata": {},
   "source": [
    "there is thus strong evidence for non-equal dN/dS along the branches. But this test is almost always significant because the null hypothesis of homogeneous dN/dS across the entire tree is not realistic under most cases."
   ]
  },
  {
   "cell_type": "markdown",
   "id": "af15b973-0f3f-4d31-8d23-80211444e73b",
   "metadata": {},
   "source": [
    "I plotted the free ratio model estimates on the gene tree using the `ggtree` package in R:\n",
    "![free ratio estimates](../output/figure/20220727-B8441-OG-p1-414-branch-freer-tree.png)\n",
    "\n",
    "By comparing the results obtained with CodonFreq=2 or CodonFreq=1, I see that two of the three branches identified as having elevated dN/dS by the F3x4 model was also implicated by the F1x4 model. Given Ziheng's [suggestion](https://groups.google.com/g/pamlsoftware/c/i7-NFSgnhq8/m/80rWE37kBgAJ), I decided to focus on the F3x4 model result and test the three branches together and separately (labeled as ω1, ω2 and ω3, respectively).\n",
    "\n",
    "My next goal is to separately test whether there are statistical support for these two branches having a dN/dS > 1."
   ]
  },
  {
   "cell_type": "markdown",
   "id": "329b1f53-976c-4e0f-9440-ca0c8c94b4a9",
   "metadata": {
    "tags": []
   },
   "source": [
    "### F1x4, two ratio (w0, w1=w2=w3=w4)"
   ]
  },
  {
   "cell_type": "code",
   "execution_count": 150,
   "id": "94c4c276-a3dd-4394-b864-849c4e77f760",
   "metadata": {},
   "outputs": [],
   "source": [
    "# to allow for this code chunk to be run out of order, first switch back to the script dir\n",
    "os.chdir(script_dir)\n",
    "# change to the first segment analysis dir\n",
    "working_dir = \"../output/paml/B8441-OG-part/p697-981/site-cf1/\"\n",
    "if not os.path.exists(working_dir):\n",
    "    os.mkdir(working_dir)\n",
    "os.chdir(working_dir)"
   ]
  },
  {
   "cell_type": "code",
   "execution_count": 59,
   "id": "3f413d77-71ac-479e-b9f5-a3b9511b5003",
   "metadata": {},
   "outputs": [],
   "source": [
    "cml = codeml.Codeml()\n",
    "cml.working_dir = \"./\"\n",
    "cml.alignment = \"../B8441-OG-Hil-PF11765-1-414.nuc\"\n",
    "cml.tree = \"../p1-414-2r_all-cf1.nwk\"\n",
    "cml.out_file = \"mlc\""
   ]
  },
  {
   "cell_type": "code",
   "execution_count": 60,
   "id": "21af681e-0a8f-451f-a559-aa9d7d18a3f6",
   "metadata": {},
   "outputs": [],
   "source": [
    "cml.set_options(\n",
    "    noisy = 2,\n",
    "    verbose = 0,\n",
    "    seqtype = 1,\n",
    "    CodonFreq = 1, # F1x4 codon\n",
    "    model = 2,     # 2 or more dN/dS ratios for branches\n",
    "    NSsites = [0], # one site class \n",
    "    icode = 8,     # yeast alternative nuclear code\n",
    "    fix_kappa = 0,\n",
    "    kappa = 2,\n",
    "    fix_omega = 0,\n",
    "    omega = .4,\n",
    "    cleandata = 1,\n",
    "    fix_blength = 0\n",
    ")"
   ]
  },
  {
   "cell_type": "code",
   "execution_count": 61,
   "id": "270767a2-3959-4389-9c6e-7ab5115eecfe",
   "metadata": {},
   "outputs": [],
   "source": [
    "cml.ctl_file = \"codeml.ctl\"\n",
    "cml.write_ctl_file()"
   ]
  },
  {
   "cell_type": "code",
   "execution_count": 62,
   "id": "983626d5-9e14-4757-b274-d62f54b11ead",
   "metadata": {},
   "outputs": [],
   "source": [
    "res = cml.run()"
   ]
  },
  {
   "cell_type": "code",
   "execution_count": 83,
   "id": "54aa2992-3ef5-4ea5-b053-80212112de80",
   "metadata": {},
   "outputs": [
    {
     "name": "stdout",
     "output_type": "stream",
     "text": [
      "Main result (codon model = F1x4)\n",
      "    lnL: -3421.85936; np: 18; kappa: 1.583; w: [0.12695, 1.77137]\n",
      "Null model (codon model = F1x4)\n",
      "    lnL: -3427.952669; np: 17; kappa: 1.592; w: 0.13685\n",
      "    2*dlnL = 12.187, df = 1, LLR P-value = 4.81e-04\n"
     ]
    }
   ],
   "source": [
    "branch_res['branch-2r_all-cf1'] = codeml.read(\"mlc\")\n",
    "print_branch_test(branch_res['branch-2r_all-cf1'], branch_res['branch-1r-cf1'])"
   ]
  },
  {
   "cell_type": "markdown",
   "id": "29c08095-2c6a-45c6-a071-abd8beb3827b",
   "metadata": {
    "tags": []
   },
   "source": [
    "### F1x4, two ratio constrained (w0, w1=w2=w3=w4=1)"
   ]
  },
  {
   "cell_type": "code",
   "execution_count": 84,
   "id": "7a41be22-445d-42bc-8400-9b02ef37141c",
   "metadata": {},
   "outputs": [],
   "source": [
    "# to allow for this code chunk to be run out of order, first switch back to the script dir\n",
    "os.chdir(script_dir)\n",
    "# change to the first segment analysis dir\n",
    "working_dir = \"../output/paml/B8441-OG-part/p1-414/branch-2r_alleq1-cf1/\"\n",
    "if not os.path.exists(working_dir):\n",
    "    os.mkdir(working_dir)\n",
    "os.chdir(working_dir)"
   ]
  },
  {
   "cell_type": "code",
   "execution_count": 33,
   "id": "1ebb9c24-25c7-4d5b-acbd-2525e93a0464",
   "metadata": {},
   "outputs": [],
   "source": [
    "cml = codeml.Codeml()\n",
    "cml.working_dir = \"./\"\n",
    "cml.alignment = \"../B8441-OG-Hil-PF11765-1-414.nuc\"\n",
    "cml.tree = \"../p1-414-2r_all-cf1.nwk\"\n",
    "cml.out_file = \"mlc\""
   ]
  },
  {
   "cell_type": "code",
   "execution_count": 34,
   "id": "1cd2c846-4caa-49f9-a672-32f8a73d3a04",
   "metadata": {},
   "outputs": [],
   "source": [
    "cml.set_options(\n",
    "    noisy = 2,\n",
    "    verbose = 0,\n",
    "    seqtype = 1,\n",
    "    CodonFreq = 1, # F1x4 codon\n",
    "    model = 2,     # 2 or more dN/dS ratios for branches\n",
    "    NSsites = [0], # one site class \n",
    "    icode = 8,     # yeast alternative nuclear code\n",
    "    fix_kappa = 0,\n",
    "    kappa = 2,\n",
    "    fix_omega = 1,\n",
    "    omega = 1,\n",
    "    cleandata = 1,\n",
    "    fix_blength = 0\n",
    ")"
   ]
  },
  {
   "cell_type": "code",
   "execution_count": 35,
   "id": "cd3ed91f-57fe-4ea2-a686-1cf4b5e16166",
   "metadata": {},
   "outputs": [],
   "source": [
    "cml.ctl_file = \"codeml.ctl\"\n",
    "cml.write_ctl_file()"
   ]
  },
  {
   "cell_type": "code",
   "execution_count": 36,
   "id": "13dd9c5e-6ee4-4595-aee6-4140e436390a",
   "metadata": {},
   "outputs": [],
   "source": [
    "res = cml.run()"
   ]
  },
  {
   "cell_type": "code",
   "execution_count": 85,
   "id": "34f83166-08e3-41ee-8509-5973738564dc",
   "metadata": {},
   "outputs": [
    {
     "name": "stdout",
     "output_type": "stream",
     "text": [
      "Main result (codon model = F1x4)\n",
      "    lnL: -3421.85936; np: 18; kappa: 1.583; w: [0.12695, 1.77137]\n",
      "Null model (codon model = F1x4)\n",
      "    lnL: -3421.992047; np: 17; kappa: 1.581; w: [0.1292, 1.0]\n",
      "    2*dlnL = 0.265, df = 1, LLR P-value = 6.06e-01\n"
     ]
    }
   ],
   "source": [
    "branch_res['branch-2r_alleq1-cf1'] = codeml.read(\"mlc\")\n",
    "print_branch_test(branch_res['branch-2r_all-cf1'], branch_res['branch-2r_alleq1-cf1'])"
   ]
  },
  {
   "cell_type": "markdown",
   "id": "79f0ac47-cd31-48ca-8420-d37db99cb232",
   "metadata": {},
   "source": [
    "### two ratio (w0, w1=w2=w3, F3x4)"
   ]
  },
  {
   "cell_type": "code",
   "execution_count": 79,
   "id": "bf9c48c6-9347-403d-b830-351961ca4452",
   "metadata": {},
   "outputs": [],
   "source": [
    "# to allow for this code chunk to be run out of order, first switch back to the script dir\n",
    "os.chdir(script_dir)\n",
    "# change to the first segment analysis dir\n",
    "working_dir = \"../output/paml/B8441-OG-part/p1-414/branch-2r_all-cf2/\"\n",
    "if not os.path.exists(working_dir):\n",
    "    os.mkdir(working_dir)\n",
    "os.chdir(working_dir)"
   ]
  },
  {
   "cell_type": "code",
   "execution_count": 80,
   "id": "0537283b-b000-4177-9015-3e82705e9c91",
   "metadata": {},
   "outputs": [],
   "source": [
    "cml = codeml.Codeml()\n",
    "cml.working_dir = \"./\"\n",
    "cml.alignment = \"../B8441-OG-Hil-PF11765-1-414.nuc\"\n",
    "cml.tree = \"../p1-414-2r_all-cf2.nwk\"\n",
    "cml.out_file = \"mlc\""
   ]
  },
  {
   "cell_type": "code",
   "execution_count": 81,
   "id": "0fda4719-18f1-410f-bb82-bf42f606968f",
   "metadata": {},
   "outputs": [],
   "source": [
    "cml.set_options(\n",
    "    noisy = 2,\n",
    "    verbose = 0,\n",
    "    seqtype = 1,\n",
    "    CodonFreq = 2, # F3x4 model\n",
    "    model = 2,     # 2 or more dN/dS ratios for branches\n",
    "    NSsites = [0], # one site class \n",
    "    icode = 8,     # yeast alternative nuclear code\n",
    "    fix_kappa = 0,\n",
    "    kappa = 2,\n",
    "    fix_omega = 0,\n",
    "    omega = .4,\n",
    "    cleandata = 1,\n",
    "    fix_blength = 0\n",
    ")"
   ]
  },
  {
   "cell_type": "code",
   "execution_count": 82,
   "id": "4173e0be-4734-4008-b400-0bc947aed8a2",
   "metadata": {},
   "outputs": [],
   "source": [
    "cml.ctl_file = \"codeml.ctl\"\n",
    "cml.write_ctl_file()"
   ]
  },
  {
   "cell_type": "code",
   "execution_count": 83,
   "id": "3b1cd46c-7feb-44ed-b737-49ac4f68bd43",
   "metadata": {},
   "outputs": [],
   "source": [
    "res = cml.run()"
   ]
  },
  {
   "cell_type": "code",
   "execution_count": 84,
   "id": "2c01f5d7-5990-4e6e-9217-f7371f6f9748",
   "metadata": {},
   "outputs": [
    {
     "name": "stdout",
     "output_type": "stream",
     "text": [
      "Main result (codon model = F3x4)\n",
      "    lnL: -3360.672152; np: 18; kappa: 1.316; w: [0.0292, 0.00277]\n",
      "    omega tree: ((Hil7 #0.0291987 , (((Hil1 #0.0291987 , Hil2 #0.0291987 ) #0.0291987 , (Hil4 #0.0291987 , Hil3 #0.0291987 ) #0.0291987 ) #0.0291987 , (Hil8 #0.0291987 , Hil6 #0.0291987 ) #0.00277474 ) #0.00277474 ) #0.00277474 , Hil5 #0.0291987 , OG #0.0291987 );\n",
      "Null model (codon model = F3x4)\n",
      "    lnL: -3362.613054; np: 17; kappa: 1.342; w: 0.01825\n",
      "    2*dlnL = 3.882, df = 1, LLR P-value = 4.88e-02\n"
     ]
    }
   ],
   "source": [
    "branch_res['branch-2r_all-cf2'] = codeml.read(\"mlc\")\n",
    "print_branch_test(branch_res['branch-2r_all-cf2'], branch_res['branch-1r-cf2'])"
   ]
  },
  {
   "cell_type": "markdown",
   "id": "bdeb0cfc-6722-4bc3-a530-a8a1e8934a2f",
   "metadata": {},
   "source": [
    "Note that the foreground lineages in the alternative model, which were selected based on them having significantly elevated dN/dS in the free ratio model, actually had a lower dN/dS estimate than the background. This is difficult to interpret."
   ]
  },
  {
   "cell_type": "markdown",
   "id": "541004f6-beac-468a-870b-198107b9f435",
   "metadata": {},
   "source": [
    "## Branch-site model\n",
    "This model tests selection on a subset of the sites in a subset of lineages (foreground). The alternative model is specified by `Model A: model = 2, NSsites = 2, fix_omega = 0` and the null model is specified by `Model A1: model = 2, NSsites = 2, fix_omega = 1, omega = 1`\n",
    "### Alternative model, (F1x4)"
   ]
  },
  {
   "cell_type": "code",
   "execution_count": 72,
   "id": "12b2fa02-54ca-4cec-aa45-b42275019c22",
   "metadata": {},
   "outputs": [],
   "source": [
    "# to allow for this code chunk to be run out of order, first switch back to the script dir\n",
    "os.chdir(script_dir)\n",
    "# change to the first segment analysis dir\n",
    "working_dir = \"../output/paml/B8441-OG-part/p1-414/brnsite-alt-2r_all-cf1/\"\n",
    "if not os.path.exists(working_dir):\n",
    "    os.mkdir(working_dir)\n",
    "os.chdir(working_dir)"
   ]
  },
  {
   "cell_type": "code",
   "execution_count": 39,
   "id": "8ae74af0-c1ba-4027-a3a8-3b9883dc3a0c",
   "metadata": {},
   "outputs": [],
   "source": [
    "cml = codeml.Codeml()\n",
    "cml.working_dir = \"./\"\n",
    "cml.alignment = \"../B8441-OG-Hil-PF11765-1-414.nuc\"\n",
    "cml.tree = \"../p1-414-2r_all-cf1.nwk\"\n",
    "cml.out_file = \"mlc\""
   ]
  },
  {
   "cell_type": "code",
   "execution_count": 40,
   "id": "10b43869-9888-43d7-b158-74478e89b42c",
   "metadata": {},
   "outputs": [],
   "source": [
    "cml.set_options(\n",
    "    noisy = 2,\n",
    "    verbose = 0,\n",
    "    seqtype = 1,\n",
    "    CodonFreq = 2, # F3x4 model\n",
    "    model = 2,     # 2 or more dN/dS ratios for branches\n",
    "    NSsites = [2], # three classes, constrained, neutral and positive\n",
    "    icode = 8,     # yeast alternative nuclear code\n",
    "    fix_kappa = 0,\n",
    "    kappa = 2,\n",
    "    fix_omega = 0,\n",
    "    omega = .4,\n",
    "    cleandata = 1,\n",
    "    fix_blength = 0\n",
    ")"
   ]
  },
  {
   "cell_type": "code",
   "execution_count": 41,
   "id": "b94fb2a5-be6f-4844-9094-7f18a83b68c0",
   "metadata": {},
   "outputs": [],
   "source": [
    "cml.ctl_file = \"codeml.ctl\"\n",
    "cml.write_ctl_file()"
   ]
  },
  {
   "cell_type": "code",
   "execution_count": 42,
   "id": "9ecb107d-bd1b-4a99-bf3d-8d555db46b27",
   "metadata": {},
   "outputs": [],
   "source": [
    "res = cml.run()"
   ]
  },
  {
   "cell_type": "markdown",
   "id": "4b59a472-8744-4e10-aece-a82dfe2b9acf",
   "metadata": {},
   "source": [
    "### Null model (F1x4)"
   ]
  },
  {
   "cell_type": "code",
   "execution_count": 43,
   "id": "8e2a0855-bfbb-4de8-87b1-97405968f553",
   "metadata": {},
   "outputs": [],
   "source": [
    "# to allow for this code chunk to be run out of order, first switch back to the script dir\n",
    "os.chdir(script_dir)\n",
    "# change to the first segment analysis dir\n",
    "working_dir = \"../output/paml/B8441-OG-part/p1-414/brnsite-null-2r_all-cf1/\"\n",
    "if not os.path.exists(working_dir):\n",
    "    os.mkdir(working_dir)\n",
    "os.chdir(working_dir)"
   ]
  },
  {
   "cell_type": "code",
   "execution_count": 44,
   "id": "3216b9c8-b2b4-4276-999f-ca17fd06c3b8",
   "metadata": {},
   "outputs": [],
   "source": [
    "cml = codeml.Codeml()\n",
    "cml.working_dir = \"./\"\n",
    "cml.alignment = \"../B8441-OG-Hil-PF11765-1-414.nuc\"\n",
    "cml.tree = \"../p1-414-2r_all-cf1.nwk\"\n",
    "cml.out_file = \"mlc\""
   ]
  },
  {
   "cell_type": "code",
   "execution_count": 45,
   "id": "f8ac7725-6ad0-45b2-ad21-20850f017e86",
   "metadata": {},
   "outputs": [],
   "source": [
    "cml.set_options(\n",
    "    noisy = 2,\n",
    "    verbose = 0,\n",
    "    seqtype = 1,\n",
    "    CodonFreq = 2, # F3x4 model\n",
    "    model = 2,     # 2 or more dN/dS ratios for branches\n",
    "    NSsites = [2], # three classes, constrained, neutral and positive\n",
    "    icode = 8,     # yeast alternative nuclear code\n",
    "    fix_kappa = 0,\n",
    "    kappa = 2,\n",
    "    fix_omega = 1,\n",
    "    omega = 1,\n",
    "    cleandata = 1,\n",
    "    fix_blength = 0\n",
    ")"
   ]
  },
  {
   "cell_type": "code",
   "execution_count": 46,
   "id": "8290357c-fbfb-4c0c-9424-f31b409110e0",
   "metadata": {},
   "outputs": [],
   "source": [
    "cml.ctl_file = \"codeml.ctl\"\n",
    "cml.write_ctl_file()"
   ]
  },
  {
   "cell_type": "code",
   "execution_count": 47,
   "id": "b2eb0635-0cfa-46da-afb6-34eea9d0b1c1",
   "metadata": {},
   "outputs": [],
   "source": [
    "res = cml.run()"
   ]
  },
  {
   "cell_type": "markdown",
   "id": "b87b2b94-68c0-44f9-93e5-009840d45869",
   "metadata": {},
   "source": [
    "### Branch-site model test"
   ]
  },
  {
   "cell_type": "code",
   "execution_count": 87,
   "id": "9c0ace3c-d00a-42e8-aec1-578776d9840b",
   "metadata": {},
   "outputs": [],
   "source": [
    "# to allow for this code chunk to be run out of order, first switch back to the script dir\n",
    "os.chdir(script_dir)\n",
    "# change to the first segment analysis dir\n",
    "working_dir = \"../output/paml/B8441-OG-part/p1-414/\"\n",
    "os.chdir(working_dir)\n",
    "brnsite_res = {\n",
    "    'alt-2r_all-cf1': codeml.read('brnsite-alt-2r_all-cf1/mlc'),\n",
    "    'null-2r_all-cf1': codeml.read('brnsite-null-2r_all-cf1/mlc')\n",
    "}"
   ]
  },
  {
   "cell_type": "code",
   "execution_count": 90,
   "id": "fd5ff8d1-fe18-46b3-9c43-f2a838fe8490",
   "metadata": {},
   "outputs": [
    {
     "name": "stdout",
     "output_type": "stream",
     "text": [
      "Testing one ratio vs free ratio models, with CodonFreq=1\n",
      "df=3362.942643, 2*∆lnL=0.16, p=1.00e+00\n"
     ]
    }
   ],
   "source": [
    "dl_bs_cf1 = get_ll(brnsite_res['alt-2r_all-cf1'], m = 2) - get_ll(brnsite_res['null-2r_all-cf1'], m = 2)\n",
    "df_bs_cf1 = get_np(brnsite_res['alt-2r_all-cf1'], m = 2) - get_ll(brnsite_res['null-2r_all-cf1'], m = 2)\n",
    "p_bs_cf1 = 1 - chi2.cdf(2*dl_bs_cf1, df = df_bs_cf1)\n",
    "print(\"Testing one ratio vs free ratio models, with CodonFreq=1\")\n",
    "print(f'df={df_bs_cf1}, 2*∆lnL={2*dl_bs_cf1:.2f}, p={p_bs_cf1:.2e}')"
   ]
  },
  {
   "cell_type": "markdown",
   "id": "96d53728-b17d-40c6-b357-1be6712faee4",
   "metadata": {},
   "source": [
    "No evidence of positive selection."
   ]
  },
  {
   "cell_type": "markdown",
   "id": "c309bf2d-3ac4-4c44-a6e9-1a2675cef612",
   "metadata": {},
   "source": [
    "# p697-981"
   ]
  },
  {
   "cell_type": "markdown",
   "id": "ab589149-0692-479d-8271-3f9353516134",
   "metadata": {},
   "source": [
    "## Site models"
   ]
  },
  {
   "cell_type": "markdown",
   "id": "ed2299b6-3b08-4122-8211-87c5608e9bc1",
   "metadata": {
    "jp-MarkdownHeadingCollapsed": true,
    "tags": []
   },
   "source": [
    "### M0,1,2,7,8 (codonfreq=1)"
   ]
  },
  {
   "cell_type": "code",
   "execution_count": 150,
   "id": "f829fbb2",
   "metadata": {},
   "outputs": [],
   "source": [
    "# to allow for this code chunk to be run out of order, first switch back to the script dir\n",
    "os.chdir(script_dir)\n",
    "# change to the first segment analysis dir\n",
    "working_dir = \"../output/paml/B8441-OG-part/p697-981/site-cf1/\"\n",
    "if not os.path.exists(working_dir):\n",
    "    os.mkdir(working_dir)\n",
    "os.chdir(working_dir)"
   ]
  },
  {
   "cell_type": "code",
   "execution_count": 151,
   "id": "d7f10549",
   "metadata": {
    "tags": []
   },
   "outputs": [],
   "source": [
    "cml = codeml.Codeml()\n",
    "cml.working_dir = \"./\"\n",
    "cml.alignment = \"../B8441-OG-Hil-PF11765-697-981.nuc\"\n",
    "cml.tree = \"../p697-981.nwk\"\n",
    "cml.out_file = \"mlc\""
   ]
  },
  {
   "cell_type": "code",
   "execution_count": 152,
   "id": "9f78123e",
   "metadata": {
    "tags": []
   },
   "outputs": [],
   "source": [
    "cml.set_options(\n",
    "    noisy = 2,\n",
    "    verbose = 0,\n",
    "    seqtype = 1,\n",
    "    CodonFreq = 1, # F1x4\n",
    "    clock = 0,\n",
    "    model = 0,     # one ratio for all branches\n",
    "    NSsites = [0,1,2,7,8],\n",
    "    icode = 8,\n",
    "    fix_kappa = 0,\n",
    "    kappa = 2,\n",
    "    fix_omega = 0,\n",
    "    omega = .4,\n",
    "    cleandata = 1,\n",
    "    fix_blength = 0\n",
    ")"
   ]
  },
  {
   "cell_type": "code",
   "execution_count": 153,
   "id": "875905f7",
   "metadata": {
    "tags": []
   },
   "outputs": [],
   "source": [
    "cml.ctl_file = \"codeml.ctl\"\n",
    "cml.write_ctl_file()"
   ]
  },
  {
   "cell_type": "code",
   "execution_count": 154,
   "id": "1c6d4c83",
   "metadata": {},
   "outputs": [],
   "source": [
    "res = cml.run()"
   ]
  },
  {
   "cell_type": "markdown",
   "id": "dbbc2921-f710-4cc8-80f2-3b6a7cf0111c",
   "metadata": {
    "tags": []
   },
   "source": [
    "### M8a (codonfreq=1)"
   ]
  },
  {
   "cell_type": "code",
   "execution_count": 155,
   "id": "a841e156-4765-4c8d-a4fc-a5f9451b47ed",
   "metadata": {},
   "outputs": [],
   "source": [
    "# to allow for this code chunk to be run out of order, first switch back to the script dir\n",
    "os.chdir(script_dir)\n",
    "# change to the first segment analysis dir\n",
    "working_dir = \"../output/paml/B8441-OG-part/p697-981/site-M8a-cf1/\"\n",
    "if not os.path.exists(working_dir):\n",
    "    os.mkdir(working_dir)\n",
    "os.chdir(working_dir)"
   ]
  },
  {
   "cell_type": "code",
   "execution_count": 156,
   "id": "9e860a2b-ebeb-4c74-876f-e17569d7cfe4",
   "metadata": {
    "tags": []
   },
   "outputs": [],
   "source": [
    "cml = codeml.Codeml()\n",
    "cml.working_dir = \"./\"\n",
    "cml.alignment = \"../B8441-OG-Hil-PF11765-697-981.nuc\"\n",
    "cml.tree = \"../p697-981.nwk\"\n",
    "cml.out_file = \"mlc\""
   ]
  },
  {
   "cell_type": "code",
   "execution_count": 157,
   "id": "6cbd6120",
   "metadata": {
    "tags": []
   },
   "outputs": [],
   "source": [
    "cml.set_options(\n",
    "    noisy = 2,\n",
    "    verbose = 0,\n",
    "    seqtype = 1,\n",
    "    CodonFreq = 1, # F1x4\n",
    "    clock = 0,\n",
    "    model = 0,     # one ratio for all branches\n",
    "    NSsites = [8], # M8a\n",
    "    icode = 8,\n",
    "    fix_kappa = 0,\n",
    "    kappa = 2,\n",
    "    fix_omega = 1,\n",
    "    omega = 1,     # fix omega to be 1 as null model\n",
    "    cleandata = 1,\n",
    "    fix_blength = 0\n",
    ")"
   ]
  },
  {
   "cell_type": "code",
   "execution_count": 158,
   "id": "5604173a",
   "metadata": {
    "tags": []
   },
   "outputs": [],
   "source": [
    "cml.ctl_file = \"codeml.ctl\"\n",
    "cml.write_ctl_file()"
   ]
  },
  {
   "cell_type": "code",
   "execution_count": 159,
   "id": "895bef52",
   "metadata": {},
   "outputs": [],
   "source": [
    "res = cml.run()"
   ]
  },
  {
   "cell_type": "markdown",
   "id": "0186751b-4a23-4ffb-9b77-aac1f3c68340",
   "metadata": {
    "tags": []
   },
   "source": [
    "### M0,1,2,7,8 (codonfreq=2)"
   ]
  },
  {
   "cell_type": "code",
   "execution_count": 160,
   "id": "21de7704-b7fb-4871-bce9-920e51938d2f",
   "metadata": {},
   "outputs": [],
   "source": [
    "# to allow for this code chunk to be run out of order, first switch back to the script dir\n",
    "os.chdir(script_dir)\n",
    "# change to the first segment analysis dir\n",
    "working_dir = \"../output/paml/B8441-OG-part/p697-981/site-cf2/\"\n",
    "if not os.path.exists(working_dir):\n",
    "    os.mkdir(working_dir)\n",
    "os.chdir(working_dir)"
   ]
  },
  {
   "cell_type": "code",
   "execution_count": 161,
   "id": "b99eae64-cba7-424b-ba24-d761a142de11",
   "metadata": {
    "tags": []
   },
   "outputs": [],
   "source": [
    "cml = codeml.Codeml()\n",
    "cml.working_dir = \"./\"\n",
    "cml.alignment = \"../B8441-OG-Hil-PF11765-697-981.nuc\"\n",
    "cml.tree = \"../p697-981.nwk\"\n",
    "cml.out_file = \"mlc\""
   ]
  },
  {
   "cell_type": "code",
   "execution_count": 162,
   "id": "34d60e68",
   "metadata": {
    "tags": []
   },
   "outputs": [],
   "source": [
    "cml.set_options(\n",
    "    noisy = 2,\n",
    "    verbose = 0,\n",
    "    seqtype = 1,\n",
    "    CodonFreq = 2, # F3x4\n",
    "    clock = 0,\n",
    "    model = 0,     # one ratio for all branches\n",
    "    NSsites = [0,1,2,7,8],\n",
    "    icode = 8,\n",
    "    fix_kappa = 0,\n",
    "    kappa = 2,\n",
    "    fix_omega = 0,\n",
    "    omega = .4,\n",
    "    cleandata = 1,\n",
    "    fix_blength = 0\n",
    ")"
   ]
  },
  {
   "cell_type": "code",
   "execution_count": 163,
   "id": "270f8e4d",
   "metadata": {
    "tags": []
   },
   "outputs": [],
   "source": [
    "cml.ctl_file = \"codeml.ctl\"\n",
    "cml.write_ctl_file()"
   ]
  },
  {
   "cell_type": "code",
   "execution_count": 164,
   "id": "11042e29",
   "metadata": {},
   "outputs": [],
   "source": [
    "res = cml.run()"
   ]
  },
  {
   "cell_type": "markdown",
   "id": "4227bfd5-c053-45ec-94d2-c01234e0a76d",
   "metadata": {
    "tags": []
   },
   "source": [
    "### M8a (codonfreq=2)"
   ]
  },
  {
   "cell_type": "code",
   "execution_count": 165,
   "id": "64b4fc77-692f-44d5-adbc-82bd65af8072",
   "metadata": {},
   "outputs": [],
   "source": [
    "# to allow for this code chunk to be run out of order, first switch back to the script dir\n",
    "os.chdir(script_dir)\n",
    "# change to the first segment analysis dir\n",
    "working_dir = \"../output/paml/B8441-OG-part/p697-981/site-M8a-cf2/\"\n",
    "if not os.path.exists(working_dir):\n",
    "    os.mkdir(working_dir)\n",
    "os.chdir(working_dir)"
   ]
  },
  {
   "cell_type": "code",
   "execution_count": 166,
   "id": "9603b4c8-7a61-476c-a0e8-73fea9add6ca",
   "metadata": {
    "tags": []
   },
   "outputs": [],
   "source": [
    "cml = codeml.Codeml()\n",
    "cml.working_dir = \"./\"\n",
    "cml.alignment = \"../B8441-OG-Hil-PF11765-697-981.nuc\"\n",
    "cml.tree = \"../p697-981.nwk\"\n",
    "cml.out_file = \"mlc\""
   ]
  },
  {
   "cell_type": "code",
   "execution_count": 167,
   "id": "d694faae",
   "metadata": {
    "tags": []
   },
   "outputs": [],
   "source": [
    "cml.set_options(\n",
    "    noisy = 2,\n",
    "    verbose = 0,\n",
    "    seqtype = 1,\n",
    "    CodonFreq = 2, # F3x4\n",
    "    clock = 0,\n",
    "    model = 0,     # one ratio for all branches\n",
    "    NSsites = [8], # M8a\n",
    "    icode = 8,\n",
    "    fix_kappa = 0,\n",
    "    kappa = 2,\n",
    "    fix_omega = 1, # fix omega = 1 as null\n",
    "    omega = 1,\n",
    "    cleandata = 1,\n",
    "    fix_blength = 0\n",
    ")"
   ]
  },
  {
   "cell_type": "code",
   "execution_count": 168,
   "id": "c9c3e4f3",
   "metadata": {
    "tags": []
   },
   "outputs": [],
   "source": [
    "cml.ctl_file = \"codeml.ctl\"\n",
    "cml.write_ctl_file()"
   ]
  },
  {
   "cell_type": "code",
   "execution_count": 169,
   "id": "8e0a39f2",
   "metadata": {},
   "outputs": [],
   "source": [
    "res = cml.run()"
   ]
  },
  {
   "cell_type": "markdown",
   "id": "af0e9524-66bb-4443-b4c7-65d078403d5f",
   "metadata": {},
   "source": [
    "### Site model test result"
   ]
  },
  {
   "cell_type": "code",
   "execution_count": 170,
   "id": "0e6746e7",
   "metadata": {},
   "outputs": [],
   "source": [
    "# to allow for this code chunk to be run out of order, first switch back to the script dir\n",
    "os.chdir(script_dir)\n",
    "# change to the first segment analysis dir\n",
    "working_dir = \"../output/paml/B8441-OG-part/p697-981/\"\n",
    "os.chdir(working_dir)\n"
   ]
  },
  {
   "cell_type": "code",
   "execution_count": 171,
   "id": "36165621-d5d2-45fc-bd53-4c8026146c28",
   "metadata": {},
   "outputs": [],
   "source": [
    "# read site model results into a dictionary\n",
    "site_res1 = {\n",
    "    'cf1': codeml.read('site-cf1/mlc'),\n",
    "    'cf2': codeml.read('site-cf2/mlc'),\n",
    "    'M8a-cf1': codeml.read('site-M8a-cf1/mlc'),\n",
    "    'M8a-cf2': codeml.read('site-M8a-cf2/mlc')\n",
    "}"
   ]
  },
  {
   "cell_type": "code",
   "execution_count": 172,
   "id": "2eb82ae0",
   "metadata": {},
   "outputs": [],
   "source": [
    "# process the data and write the output to a csv file\n",
    "data_rows = []\n",
    "for t in site_res1.values():\n",
    "    data_rows += get_site_model_fit(t)\n",
    "fields = ['codonfreq', 'model', 'npar', 'lnL', 'kappa', 'omega', 'description']\n",
    "with open(\"20220729-p697-981-site-model-summary-table.tsv\", \"w\") as f:\n",
    "    write = csv.writer(f, delimiter = \"\\t\")\n",
    "    write.writerow(fields)\n",
    "    write.writerows(data_rows)"
   ]
  },
  {
   "cell_type": "markdown",
   "id": "f5a75a59-f3c9-48fe-ad7b-0c93bcf524a4",
   "metadata": {},
   "source": [
    "No evidence was found to support positive selection by any of the tests."
   ]
  },
  {
   "cell_type": "markdown",
   "id": "5c122d6a-5bf5-46cd-853a-a22aa8b9454c",
   "metadata": {},
   "source": [
    "## Branch models"
   ]
  },
  {
   "cell_type": "markdown",
   "id": "51111668-e7ae-4183-9a48-cc3bf6fabfd1",
   "metadata": {
    "tags": []
   },
   "source": [
    "### one ratio (F1x4)"
   ]
  },
  {
   "cell_type": "code",
   "execution_count": 173,
   "id": "75b88990-bb0f-4b62-aed2-80d30a16e268",
   "metadata": {},
   "outputs": [],
   "source": [
    "# to allow for this code chunk to be run out of order, first switch back to the script dir\n",
    "os.chdir(script_dir)\n",
    "# change to the first segment analysis dir\n",
    "working_dir = \"../output/paml/B8441-OG-part/p697-981/branch-1r-cf1/\"\n",
    "if not os.path.exists(working_dir):\n",
    "    os.mkdir(working_dir)\n",
    "os.chdir(working_dir)"
   ]
  },
  {
   "cell_type": "code",
   "execution_count": 174,
   "id": "78dd5c32-ea1a-4603-bdc9-f6cde8ee8b96",
   "metadata": {},
   "outputs": [],
   "source": [
    "cml = codeml.Codeml()\n",
    "cml.working_dir = \"./\"\n",
    "cml.alignment = \"../B8441-OG-Hil-PF11765-697-981.nuc\"\n",
    "cml.tree = \"../p697-981.nwk\"\n",
    "cml.out_file = \"mlc\""
   ]
  },
  {
   "cell_type": "code",
   "execution_count": 175,
   "id": "33822378-0072-436b-b58d-bc31daf55632",
   "metadata": {},
   "outputs": [],
   "source": [
    "cml.set_options(\n",
    "    noisy = 2,\n",
    "    verbose = 0,\n",
    "    seqtype = 1,\n",
    "    CodonFreq = 1,  # F1x4\n",
    "    model = 0,      # 1 ratio\n",
    "    NSsites = [0],\n",
    "    icode = 8,\n",
    "    fix_kappa = 0,\n",
    "    kappa = 2,\n",
    "    fix_omega = 0,\n",
    "    omega = .4,\n",
    "    cleandata = 1,\n",
    "    fix_blength = 0\n",
    ")"
   ]
  },
  {
   "cell_type": "code",
   "execution_count": 176,
   "id": "2426f727-e1e6-4c14-9f03-fc26c7970cd0",
   "metadata": {},
   "outputs": [],
   "source": [
    "cml.ctl_file = \"codeml.ctl\"\n",
    "cml.write_ctl_file()"
   ]
  },
  {
   "cell_type": "code",
   "execution_count": 177,
   "id": "5d9d3aae-ca9c-452a-b766-43c4be668309",
   "metadata": {},
   "outputs": [],
   "source": [
    "res = cml.run()"
   ]
  },
  {
   "cell_type": "markdown",
   "id": "338e0799-d5c2-4237-a500-9ff3d0284888",
   "metadata": {
    "tags": []
   },
   "source": [
    "### free ratio (F1x4)"
   ]
  },
  {
   "cell_type": "code",
   "execution_count": 178,
   "id": "3da94dbb-c1a1-4c59-8541-64b83b9c7ca7",
   "metadata": {},
   "outputs": [],
   "source": [
    "# to allow for this code chunk to be run out of order, first switch back to the script dir\n",
    "os.chdir(script_dir)\n",
    "# change to the first segment analysis dir\n",
    "working_dir = \"../output/paml/B8441-OG-part/p697-981/branch-freer-cf1/\"\n",
    "if not os.path.exists(working_dir):\n",
    "    os.mkdir(working_dir)\n",
    "os.chdir(working_dir)"
   ]
  },
  {
   "cell_type": "code",
   "execution_count": 179,
   "id": "23008fbf-676d-4861-b637-a513d68f6b51",
   "metadata": {},
   "outputs": [],
   "source": [
    "cml = codeml.Codeml()\n",
    "cml.working_dir = \"./\"\n",
    "cml.alignment = \"../B8441-OG-Hil-PF11765-697-981.nuc\"\n",
    "cml.tree = \"../p697-981.nwk\"\n",
    "cml.out_file = \"mlc\""
   ]
  },
  {
   "cell_type": "code",
   "execution_count": 180,
   "id": "1f5098ce-cb11-4245-9902-8c3ca40d476a",
   "metadata": {
    "tags": []
   },
   "outputs": [],
   "source": [
    "cml.set_options(\n",
    "    noisy = 2,\n",
    "    verbose = 0,\n",
    "    seqtype = 1,\n",
    "    CodonFreq = 1,  # F1x4\n",
    "    clock = 0,\n",
    "    model = 1,      # free ratio\n",
    "    NSsites = [0],\n",
    "    icode = 8,\n",
    "    fix_kappa = 0,\n",
    "    kappa = 2,\n",
    "    fix_omega = 0,\n",
    "    omega = .4,\n",
    "    cleandata = 1,\n",
    "    fix_blength = 0\n",
    ")"
   ]
  },
  {
   "cell_type": "code",
   "execution_count": 181,
   "id": "7a757a56-1b4f-4647-bbd6-1ae93068737c",
   "metadata": {
    "tags": []
   },
   "outputs": [],
   "source": [
    "cml.ctl_file = \"codeml.ctl\"\n",
    "cml.write_ctl_file()"
   ]
  },
  {
   "cell_type": "code",
   "execution_count": 182,
   "id": "bc369ebf-1013-46f4-8d80-89f590930326",
   "metadata": {
    "tags": []
   },
   "outputs": [],
   "source": [
    "res = cml.run()"
   ]
  },
  {
   "cell_type": "markdown",
   "id": "173373ba-38be-4a39-b424-a6c74a3f85e9",
   "metadata": {
    "tags": []
   },
   "source": [
    "### one ratio (F3x4)"
   ]
  },
  {
   "cell_type": "code",
   "execution_count": 183,
   "id": "ea4b5cb6-3b6d-444f-a1e2-b19dacbcb5af",
   "metadata": {},
   "outputs": [],
   "source": [
    "# to allow for this code chunk to be run out of order, first switch back to the script dir\n",
    "os.chdir(script_dir)\n",
    "# change to the first segment analysis dir\n",
    "working_dir = \"../output/paml/B8441-OG-part/p697-981/branch-1r-cf2/\"\n",
    "if not os.path.exists(working_dir):\n",
    "    os.mkdir(working_dir)\n",
    "os.chdir(working_dir)"
   ]
  },
  {
   "cell_type": "code",
   "execution_count": 184,
   "id": "7ba92adc-cb75-40fc-a915-25d742369b46",
   "metadata": {},
   "outputs": [],
   "source": [
    "cml = codeml.Codeml()\n",
    "cml.working_dir = \"./\"\n",
    "cml.alignment = \"../B8441-OG-Hil-PF11765-697-981.nuc\"\n",
    "cml.tree = \"../p697-981.nwk\"\n",
    "cml.out_file = \"mlc\""
   ]
  },
  {
   "cell_type": "code",
   "execution_count": 185,
   "id": "155b23c5-b0af-4fb4-bb28-64d680bb8f34",
   "metadata": {
    "tags": []
   },
   "outputs": [],
   "source": [
    "cml.set_options(\n",
    "    noisy = 2,\n",
    "    verbose = 0,\n",
    "    seqtype = 1,\n",
    "    CodonFreq = 2,  # F3x4\n",
    "    model = 0,      # one ratio\n",
    "    NSsites = [0],\n",
    "    icode = 8,\n",
    "    fix_kappa = 0,\n",
    "    kappa = 2,\n",
    "    fix_omega = 0,\n",
    "    omega = .4,\n",
    "    cleandata = 1,\n",
    "    fix_blength = 0\n",
    ")"
   ]
  },
  {
   "cell_type": "code",
   "execution_count": 186,
   "id": "9f8f5252-f749-46a0-a0bc-d189a0e236b5",
   "metadata": {
    "tags": []
   },
   "outputs": [],
   "source": [
    "cml.ctl_file = \"codeml.ctl\"\n",
    "cml.write_ctl_file()"
   ]
  },
  {
   "cell_type": "code",
   "execution_count": 187,
   "id": "698d608a-7fe0-4889-9f67-a98ceb4fcee2",
   "metadata": {
    "tags": []
   },
   "outputs": [],
   "source": [
    "res = cml.run()"
   ]
  },
  {
   "cell_type": "markdown",
   "id": "b2bcf0c5-2edc-43e1-8fb6-5eda8f61692b",
   "metadata": {
    "tags": []
   },
   "source": [
    "### free ratio (F3x4)"
   ]
  },
  {
   "cell_type": "code",
   "execution_count": 188,
   "id": "b429ceda-4da1-48ba-b20b-be463fb785e3",
   "metadata": {},
   "outputs": [],
   "source": [
    "# to allow for this code chunk to be run out of order, first switch back to the script dir\n",
    "os.chdir(script_dir)\n",
    "# change to the first segment analysis dir\n",
    "working_dir = \"../output/paml/B8441-OG-part/p697-981/branch-freer-cf2/\"\n",
    "if not os.path.exists(working_dir):\n",
    "    os.mkdir(working_dir)\n",
    "os.chdir(working_dir)"
   ]
  },
  {
   "cell_type": "code",
   "execution_count": 189,
   "id": "334eeae0-c172-43b5-a995-09027b23315c",
   "metadata": {},
   "outputs": [],
   "source": [
    "cml = codeml.Codeml()\n",
    "cml.working_dir = \"./\"\n",
    "cml.alignment = \"../B8441-OG-Hil-PF11765-697-981.nuc\"\n",
    "cml.tree = \"../p697-981.nwk\"\n",
    "cml.out_file = \"mlc\""
   ]
  },
  {
   "cell_type": "code",
   "execution_count": 190,
   "id": "dbabf871-f18d-4ed7-adc1-53f4b6ec976d",
   "metadata": {
    "tags": []
   },
   "outputs": [],
   "source": [
    "cml.set_options(\n",
    "    noisy = 2,\n",
    "    verbose = 0,\n",
    "    seqtype = 1,\n",
    "    CodonFreq = 2,  # F3x4\n",
    "    clock = 0,\n",
    "    model = 1,      # free ratio\n",
    "    NSsites = [0],\n",
    "    icode = 8,\n",
    "    fix_kappa = 0,\n",
    "    kappa = 2,\n",
    "    fix_omega = 0,\n",
    "    omega = .4,\n",
    "    cleandata = 1,\n",
    "    fix_blength = 0\n",
    ")"
   ]
  },
  {
   "cell_type": "code",
   "execution_count": 191,
   "id": "bb801e02-c59e-4b3f-92f4-1d37e4bfe44d",
   "metadata": {
    "tags": []
   },
   "outputs": [],
   "source": [
    "cml.ctl_file = \"codeml.ctl\"\n",
    "cml.write_ctl_file()"
   ]
  },
  {
   "cell_type": "code",
   "execution_count": 192,
   "id": "acce0e5a-b8ab-4438-b49a-8036e83378e3",
   "metadata": {},
   "outputs": [],
   "source": [
    "res = cml.run()"
   ]
  },
  {
   "cell_type": "markdown",
   "id": "189e11be-03e4-4b1c-8663-450b5b85dae4",
   "metadata": {
    "tags": []
   },
   "source": [
    "### Free vs one-omega models test result\n",
    "First, we reimport all the model results"
   ]
  },
  {
   "cell_type": "code",
   "execution_count": 193,
   "id": "6f747141-793a-4e9b-8f6d-441dcbb418c2",
   "metadata": {},
   "outputs": [],
   "source": [
    "# to allow for this code chunk to be run out of order, first switch back to the script dir\n",
    "os.chdir(script_dir)\n",
    "# change to the first segment analysis dir\n",
    "working_dir = \"../output/paml/B8441-OG-part/p697-981/\"\n",
    "os.chdir(working_dir)\n",
    "branch_res = {\n",
    "    '1r-cf1': codeml.read('branch-1r-cf1/mlc'),\n",
    "    '1r-cf2': codeml.read('branch-1r-cf2/mlc'),\n",
    "    'freer-cf1': codeml.read('branch-freer-cf1/mlc'),\n",
    "    'freer-cf2': codeml.read('branch-freer-cf2/mlc')\n",
    "}"
   ]
  },
  {
   "cell_type": "code",
   "execution_count": 194,
   "id": "7345e742-7734-449c-8436-abfdaa405876",
   "metadata": {},
   "outputs": [
    {
     "name": "stdout",
     "output_type": "stream",
     "text": [
      "Main result (codon model = F1x4)\n",
      "    lnL: -2391.612283; np: 31; kappa: 1.429; w: [0.23095, 0.00445, 998.99991, 0.14377, 0.07403, 999.0, 92.44628, 511.2296, 0.1592, 0.11967, 0.10617, 957.23845, 0.04349, 0.62278, 0.17973]\n",
      "Null model (codon model = F1x4)\n",
      "    lnL: -2411.367957; np: 17; kappa: 1.413; w: 0.18181\n",
      "    2*dlnL = 39.511, df = 14, LLR P-value = 3.04e-04\n"
     ]
    }
   ],
   "source": [
    "print_branch_test(branch_res['freer-cf1'], branch_res['1r-cf1'])"
   ]
  },
  {
   "cell_type": "code",
   "execution_count": 195,
   "id": "59e6664e-48a0-4144-88c2-c697f3d572da",
   "metadata": {},
   "outputs": [
    {
     "name": "stdout",
     "output_type": "stream",
     "text": [
      "Main result (codon model = F3x4)\n",
      "    lnL: -2380.28829; np: 31; kappa: 1.194; w: [0.65755, 0.00425, 999.0, 0.12997, 0.01553, 999.0, 0.1662, 999.0, 0.1177, 0.07865, 999.0, 0.11371, 0.0142, 0.28089, 0.02319]\n",
      "Null model (codon model = F3x4)\n",
      "    lnL: -2391.8604; np: 17; kappa: 1.443; w: 0.03329\n",
      "    2*dlnL = 23.144, df = 14, LLR P-value = 5.80e-02\n"
     ]
    }
   ],
   "source": [
    "print_branch_test(branch_res['freer-cf2'], branch_res['1r-cf2'])"
   ]
  },
  {
   "cell_type": "markdown",
   "id": "6c186144-1f29-47d2-97d4-ea962aa9efc7",
   "metadata": {},
   "source": [
    "there is thus strong evidence for non-equal dN/dS along the branches. But this test is almost always significant because the null hypothesis of homogeneous dN/dS across the entire tree is not realistic under most cases."
   ]
  },
  {
   "cell_type": "markdown",
   "id": "ce9a2446-9602-418b-873c-13533199c725",
   "metadata": {},
   "source": [
    "I plotted the free ratio model estimates on the gene tree using the `ggtree` package in R:\n",
    "![free ratio estimates](../output/figure/20220727-B8441-OG-p1-414-branch-freer-tree.png)\n",
    "\n",
    "By comparing the results obtained with CodonFreq=2 or CodonFreq=1, I see that two of the three branches identified as having elevated dN/dS by the F3x4 model was also implicated by the F1x4 model. Given Ziheng's [suggestion](https://groups.google.com/g/pamlsoftware/c/i7-NFSgnhq8/m/80rWE37kBgAJ), I decided to focus on the F3x4 model result and test the three branches together and separately (labeled as ω1, ω2 and ω3, respectively).\n",
    "\n",
    "My next goal is to separately test whether there are statistical support for these two branches having a dN/dS > 1."
   ]
  }
 ],
 "metadata": {
  "kernelspec": {
   "display_name": "Python 3",
   "language": "python",
   "name": "python3"
  },
  "language_info": {
   "codemirror_mode": {
    "name": "ipython",
    "version": 3
   },
   "file_extension": ".py",
   "mimetype": "text/x-python",
   "name": "python",
   "nbconvert_exporter": "python",
   "pygments_lexer": "ipython3",
   "version": "3.7.12"
  },
  "toc-autonumbering": false,
  "toc-showcode": false,
  "toc-showmarkdowntxt": false,
  "toc-showtags": false
 },
 "nbformat": 4,
 "nbformat_minor": 5
}
