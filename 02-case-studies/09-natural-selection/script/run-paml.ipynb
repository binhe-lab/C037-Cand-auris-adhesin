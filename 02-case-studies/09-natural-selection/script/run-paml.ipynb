{
 "cells": [
  {
   "cell_type": "markdown",
   "id": "b3da425f",
   "metadata": {},
   "source": [
    "## Goal\n",
    "Programmatically run PAMl analysis with different input alignment, tree and options, and collect the results for output. This helps with reproducibility and makes documenting the analysis easier.\n",
    "\n",
    "## Approach\n",
    "Use `Biopython`'s integration for PAML."
   ]
  },
  {
   "cell_type": "code",
   "execution_count": 1,
   "id": "dd948ac5",
   "metadata": {
    "jupyter": {
     "source_hidden": true
    }
   },
   "outputs": [],
   "source": [
    "from Bio.Phylo.PAML import codeml\n",
    "import os"
   ]
  },
  {
   "cell_type": "code",
   "execution_count": 23,
   "id": "a6ca79bf",
   "metadata": {
    "jupyter": {
     "source_hidden": true
    }
   },
   "outputs": [
    {
     "name": "stdout",
     "output_type": "stream",
     "text": [
      "/Users/bhe2/Documents/work/current/C037-Cand-auris-adhesin/02-case-studies/09-natural-selection/script\n"
     ]
    }
   ],
   "source": [
    "# store the script directory\n",
    "script_dir = os.path.abspath('')\n",
    "print(script_dir)"
   ]
  },
  {
   "cell_type": "markdown",
   "id": "6fad8b72",
   "metadata": {},
   "source": [
    "## Analysis"
   ]
  },
  {
   "cell_type": "markdown",
   "id": "4e5f24c3",
   "metadata": {},
   "source": [
    "### p1-414 / branch one ratio / codonfreq = 1"
   ]
  },
  {
   "cell_type": "code",
   "execution_count": 39,
   "id": "5c10fe36",
   "metadata": {
    "jupyter": {
     "source_hidden": true
    }
   },
   "outputs": [],
   "source": [
    "# change to the first segment analysis dir\n",
    "working_dir = \"../output/paml/B8441-OG-part/p1-414/branch-1r-cf1/\"\n",
    "os.chdir(working_dir)"
   ]
  },
  {
   "cell_type": "code",
   "execution_count": 40,
   "id": "2963df35",
   "metadata": {
    "jupyter": {
     "source_hidden": true
    }
   },
   "outputs": [],
   "source": [
    "cml = codeml.Codeml()\n",
    "cml.working_dir = \"./\"\n",
    "cml.alignment = \"../B8441-OG-Hil-PF11765-1-414.nuc\"\n",
    "cml.tree = \"../p1-414.nwk\"\n",
    "cml.out_file = \"mlc\""
   ]
  },
  {
   "cell_type": "code",
   "execution_count": 41,
   "id": "c5ff6a15",
   "metadata": {
    "jupyter": {
     "source_hidden": true
    }
   },
   "outputs": [],
   "source": [
    "cml.set_options(\n",
    "    noisy = 2,\n",
    "    verbose = 0,\n",
    "    seqtype = 1,\n",
    "    CodonFreq = 1,\n",
    "    model = 0,\n",
    "    NSsites = [0],\n",
    "    icode = 8,\n",
    "    fix_kappa = 0,\n",
    "    kappa = 2,\n",
    "    fix_omega = 0,\n",
    "    omega = .4,\n",
    "    cleandata = 1,\n",
    "    fix_blength = 0\n",
    ")"
   ]
  },
  {
   "cell_type": "code",
   "execution_count": 54,
   "id": "ad6837e3",
   "metadata": {
    "jupyter": {
     "source_hidden": true
    }
   },
   "outputs": [],
   "source": [
    "cml.ctl_file = \"codeml.ctl\"\n",
    "cml.write_ctl_file()"
   ]
  },
  {
   "cell_type": "code",
   "execution_count": 55,
   "id": "c8cf3fef",
   "metadata": {
    "jupyter": {
     "source_hidden": true
    }
   },
   "outputs": [],
   "source": [
    "res = cml.run()"
   ]
  },
  {
   "cell_type": "code",
   "execution_count": 62,
   "id": "bbaed736",
   "metadata": {
    "jupyter": {
     "source_hidden": true
    }
   },
   "outputs": [],
   "source": [
    "sum_res = {\"branch-1r-cf1\": res}"
   ]
  },
  {
   "cell_type": "markdown",
   "id": "ee38f3a0",
   "metadata": {},
   "source": [
    "### p1-414 / branch free ratio / codonfreq = 1"
   ]
  },
  {
   "cell_type": "code",
   "execution_count": 68,
   "id": "69f14711",
   "metadata": {
    "jupyter": {
     "source_hidden": true
    }
   },
   "outputs": [],
   "source": [
    "# change to the first segment analysis dir\n",
    "working_dir = \"../branch-freer-cf1/\"\n",
    "os.chdir(working_dir)"
   ]
  },
  {
   "cell_type": "code",
   "execution_count": 69,
   "id": "c40fe895",
   "metadata": {
    "jupyter": {
     "source_hidden": true
    }
   },
   "outputs": [],
   "source": [
    "cml = codeml.Codeml()\n",
    "cml.working_dir = \"./\"\n",
    "cml.alignment = \"../B8441-OG-Hil-PF11765-1-414.nuc\"\n",
    "cml.tree = \"../p1-414.nwk\"\n",
    "cml.out_file = \"mlc\""
   ]
  },
  {
   "cell_type": "code",
   "execution_count": 74,
   "id": "17032ec8",
   "metadata": {
    "jupyter": {
     "source_hidden": true
    }
   },
   "outputs": [],
   "source": [
    "cml.set_options(\n",
    "    noisy = 2,\n",
    "    verbose = 0,\n",
    "    seqtype = 1,\n",
    "    CodonFreq = 1,\n",
    "    clock = 0,\n",
    "    model = 1,\n",
    "    NSsites = [0],\n",
    "    icode = 8,\n",
    "    fix_kappa = 0,\n",
    "    kappa = 2,\n",
    "    fix_omega = 0,\n",
    "    omega = .4,\n",
    "    cleandata = 1,\n",
    "    fix_blength = 0\n",
    ")"
   ]
  },
  {
   "cell_type": "code",
   "execution_count": 75,
   "id": "469d2378",
   "metadata": {
    "jupyter": {
     "source_hidden": true
    }
   },
   "outputs": [],
   "source": [
    "cml.ctl_file = \"codeml.ctl\"\n",
    "cml.write_ctl_file()"
   ]
  },
  {
   "cell_type": "code",
   "execution_count": 76,
   "id": "0ff276c0",
   "metadata": {
    "jupyter": {
     "source_hidden": true
    }
   },
   "outputs": [],
   "source": [
    "res = cml.run()"
   ]
  },
  {
   "cell_type": "code",
   "execution_count": 77,
   "id": "d869f388",
   "metadata": {
    "jupyter": {
     "source_hidden": true
    }
   },
   "outputs": [],
   "source": [
    "sum_res = {\"branch-freer-cf1\": res}"
   ]
  },
  {
   "cell_type": "markdown",
   "id": "619e4202",
   "metadata": {},
   "source": [
    "### p1-414 / branch one ratio / codonfreq = 2"
   ]
  },
  {
   "cell_type": "code",
   "execution_count": 83,
   "id": "038dd610",
   "metadata": {
    "jupyter": {
     "source_hidden": true
    }
   },
   "outputs": [],
   "source": [
    "# change to the first segment analysis dir\n",
    "working_dir = \"../branch-1r-cf2/\"\n",
    "os.chdir(working_dir)"
   ]
  },
  {
   "cell_type": "code",
   "execution_count": 40,
   "id": "44feded9",
   "metadata": {
    "jupyter": {
     "source_hidden": true
    }
   },
   "outputs": [],
   "source": [
    "cml = codeml.Codeml()\n",
    "cml.working_dir = \"./\"\n",
    "cml.alignment = \"../B8441-OG-Hil-PF11765-1-414.nuc\"\n",
    "cml.tree = \"../p1-414.nwk\"\n",
    "cml.out_file = \"mlc\""
   ]
  },
  {
   "cell_type": "code",
   "execution_count": 84,
   "id": "96c0f356",
   "metadata": {
    "jupyter": {
     "source_hidden": true
    }
   },
   "outputs": [],
   "source": [
    "cml.set_options(\n",
    "    noisy = 2,\n",
    "    verbose = 0,\n",
    "    seqtype = 1,\n",
    "    CodonFreq = 2,\n",
    "    model = 0,\n",
    "    NSsites = [0],\n",
    "    icode = 8,\n",
    "    fix_kappa = 0,\n",
    "    kappa = 2,\n",
    "    fix_omega = 0,\n",
    "    omega = .4,\n",
    "    cleandata = 1,\n",
    "    fix_blength = 0\n",
    ")"
   ]
  },
  {
   "cell_type": "code",
   "execution_count": 85,
   "id": "a00e86f5",
   "metadata": {
    "jupyter": {
     "source_hidden": true
    }
   },
   "outputs": [],
   "source": [
    "cml.ctl_file = \"codeml.ctl\"\n",
    "cml.write_ctl_file()"
   ]
  },
  {
   "cell_type": "code",
   "execution_count": 86,
   "id": "a44e08ec",
   "metadata": {
    "jupyter": {
     "source_hidden": true
    }
   },
   "outputs": [],
   "source": [
    "res = cml.run()"
   ]
  },
  {
   "cell_type": "code",
   "execution_count": 87,
   "id": "184d726b",
   "metadata": {
    "jupyter": {
     "source_hidden": true
    }
   },
   "outputs": [],
   "source": [
    "sum_res = {\"branch-1r-cf2\": res}"
   ]
  },
  {
   "cell_type": "markdown",
   "id": "14b66393",
   "metadata": {},
   "source": [
    "### p1-414 / branch free ratio / codonfreq = 2"
   ]
  },
  {
   "cell_type": "code",
   "execution_count": 88,
   "id": "0e34dcec",
   "metadata": {
    "jupyter": {
     "source_hidden": true
    }
   },
   "outputs": [],
   "source": [
    "# change to the first segment analysis dir\n",
    "working_dir = \"../branch-freer-cf2/\"\n",
    "os.chdir(working_dir)"
   ]
  },
  {
   "cell_type": "code",
   "execution_count": 89,
   "id": "f4f1d8fb",
   "metadata": {
    "jupyter": {
     "source_hidden": true
    }
   },
   "outputs": [],
   "source": [
    "cml = codeml.Codeml()\n",
    "cml.working_dir = \"./\"\n",
    "cml.alignment = \"../B8441-OG-Hil-PF11765-1-414.nuc\"\n",
    "cml.tree = \"../p1-414.nwk\"\n",
    "cml.out_file = \"mlc\""
   ]
  },
  {
   "cell_type": "code",
   "execution_count": 90,
   "id": "dc04785c",
   "metadata": {
    "jupyter": {
     "source_hidden": true
    }
   },
   "outputs": [],
   "source": [
    "cml.set_options(\n",
    "    noisy = 2,\n",
    "    verbose = 0,\n",
    "    seqtype = 1,\n",
    "    CodonFreq = 2,\n",
    "    clock = 0,\n",
    "    model = 1,\n",
    "    NSsites = [0],\n",
    "    icode = 8,\n",
    "    fix_kappa = 0,\n",
    "    kappa = 2,\n",
    "    fix_omega = 0,\n",
    "    omega = .4,\n",
    "    cleandata = 1,\n",
    "    fix_blength = 0\n",
    ")"
   ]
  },
  {
   "cell_type": "code",
   "execution_count": 91,
   "id": "cc77a08c",
   "metadata": {
    "jupyter": {
     "source_hidden": true
    }
   },
   "outputs": [],
   "source": [
    "cml.ctl_file = \"codeml.ctl\"\n",
    "cml.write_ctl_file()"
   ]
  },
  {
   "cell_type": "code",
   "execution_count": 92,
   "id": "4a95894b",
   "metadata": {
    "jupyter": {
     "source_hidden": true
    }
   },
   "outputs": [],
   "source": [
    "res = cml.run()"
   ]
  },
  {
   "cell_type": "code",
   "execution_count": 93,
   "id": "08c8965a",
   "metadata": {
    "jupyter": {
     "source_hidden": true
    }
   },
   "outputs": [],
   "source": [
    "sum_res = {\"branch-freer-cf2\": res}"
   ]
  },
  {
   "cell_type": "code",
   "execution_count": null,
   "id": "d4d30f9d",
   "metadata": {
    "jupyter": {
     "source_hidden": true
    }
   },
   "outputs": [],
   "source": [
    "for model, res in sum_res.items():\n",
    "    "
   ]
  }
 ],
 "metadata": {
  "kernelspec": {
   "display_name": "Python 3",
   "language": "python",
   "name": "python3"
  },
  "language_info": {
   "codemirror_mode": {
    "name": "ipython",
    "version": 3
   },
   "file_extension": ".py",
   "mimetype": "text/x-python",
   "name": "python",
   "nbconvert_exporter": "python",
   "pygments_lexer": "ipython3",
   "version": "3.7.7"
  }
 },
 "nbformat": 4,
 "nbformat_minor": 5
}
