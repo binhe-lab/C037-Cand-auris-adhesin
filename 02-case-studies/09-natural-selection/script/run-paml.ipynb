{
 "cells": [
  {
   "cell_type": "markdown",
   "id": "416c30aa",
   "metadata": {
    "tags": []
   },
   "source": [
    "# Goal\n",
    "Programmatically run PAMl analysis with different input alignment, tree and options, and collect the results for output. This helps with reproducibility and makes documenting the analysis easier.\n",
    "\n",
    "# Approach\n",
    "Use `Biopython`'s integration for PAML."
   ]
  },
  {
   "cell_type": "markdown",
   "id": "413a77dc-373d-42f1-a0e8-91d9665158ac",
   "metadata": {},
   "source": [
    "## Setup environments"
   ]
  },
  {
   "cell_type": "code",
   "execution_count": 1,
   "id": "17f4cd3d",
   "metadata": {},
   "outputs": [],
   "source": [
    "from Bio.Phylo.PAML import codeml\n",
    "from scipy.stats import chi2\n",
    "import os\n",
    "import csv"
   ]
  },
  {
   "cell_type": "code",
   "execution_count": 2,
   "id": "ae49b7ad",
   "metadata": {},
   "outputs": [
    {
     "name": "stdout",
     "output_type": "stream",
     "text": [
      "/Users/bhe2/Documents/work/current/C037-Cand-auris-adhesin/02-case-studies/09-natural-selection/script\n"
     ]
    }
   ],
   "source": [
    "# store the script directory\n",
    "script_dir = os.path.abspath('')\n",
    "print(script_dir)"
   ]
  },
  {
   "cell_type": "markdown",
   "id": "ffd08b26-0a15-44e8-b784-72d7b0b1966b",
   "metadata": {
    "tags": []
   },
   "source": [
    "## Helper functions"
   ]
  },
  {
   "cell_type": "code",
   "execution_count": 3,
   "id": "97dda3f4",
   "metadata": {},
   "outputs": [],
   "source": [
    "def get_ll(res, m = 0):\n",
    "    \"\"\"\n",
    "    extract the log likelihood score\n",
    "    default to NSsite = 0\n",
    "    \"\"\"\n",
    "    return(res['NSsites'][m]['lnL'])\n",
    "\n",
    "def get_np(res, m = 0):\n",
    "    \"\"\"\n",
    "    extract the log likelihood score\n",
    "    default to NSsite = 0\n",
    "    \"\"\"\n",
    "    par = res['NSsites'][m]['parameters']['parameter list']\n",
    "    return(len(par.split(' ')))"
   ]
  },
  {
   "cell_type": "code",
   "execution_count": 76,
   "id": "77dc2009-6b64-47a8-9c27-725bd4c48ce4",
   "metadata": {},
   "outputs": [],
   "source": [
    "# helper function to extract the model fit from NSsite model objects\n",
    "def get_omega(fit, m):\n",
    "    # model number\n",
    "    M = f'M{m}'\n",
    "    par = dict.get(fit, 'parameters')\n",
    "    # get the model-specific set of parameters\n",
    "    omega = ''\n",
    "    # separately deal with the different site models\n",
    "    if m == 0:\n",
    "        omega = f'w={par[\"omega\"]:.3f}'\n",
    "    elif m < 7:\n",
    "        site_class = dict.get(par, 'site classes')\n",
    "        #print(site_class)\n",
    "        for i, v in site_class.items():\n",
    "            omega += f'p{i}={v[\"proportion\"]:.3f}, w{i}={float(v[\"omega\"]):.3f}; '\n",
    "    elif m == 7:\n",
    "        omega = f'p={par[\"p\"]:.3f}, q={par[\"q\"]:.3f}'\n",
    "    elif m == 8:\n",
    "        omega = f'p0={par[\"p0\"]:.3f}, p={par[\"p\"]:.3f}, q={par[\"q\"]:.3f}; p1={1-par[\"p0\"]:.3f}, w={par[\"w\"]:.3f}'\n",
    "        if par['w'] == 1.0: # model M8a\n",
    "            M = 'M8a'\n",
    "    return([M, omega])\n",
    "   "
   ]
  },
  {
   "cell_type": "code",
   "execution_count": 74,
   "id": "c14a35e3-5e47-424a-a9bc-82b240f0fd68",
   "metadata": {},
   "outputs": [],
   "source": [
    "# function to extract the useful information from each model fit\n",
    "def get_site_model_fit(res):\n",
    "    out = []\n",
    "    codon = res['codon model'] # codon model used\n",
    "    for m, fit in res['NSsites'].items():\n",
    "        # model number\n",
    "        M = f'M{m}'\n",
    "        # get the model description\n",
    "        desc = dict.get(fit, 'description')\n",
    "        # get the number of parameters\n",
    "        par = dict.get(fit, 'parameters')\n",
    "        l = len(par['parameter list'].split(' '))\n",
    "        # get the log likelihood values\n",
    "        lnL = dict.get(fit, 'lnL')\n",
    "        # get the kappa estimate\n",
    "        k = dict.get(par, 'kappa')\n",
    "        # get the model-specific set of parameters\n",
    "        omega = ''\n",
    "        # separately deal with the different site models\n",
    "        if m == 0:\n",
    "            omega = f'w={par[\"omega\"]:.3f}'\n",
    "        elif m < 7:\n",
    "            site_class = dict.get(par, 'site classes')\n",
    "            #print(site_class)\n",
    "            for i, v in site_class.items():\n",
    "                omega += f'p{i}={v[\"proportion\"]:.3f}, w{i}={float(v[\"omega\"]):.3f}; '\n",
    "        elif m == 7:\n",
    "            omega = f'p={par[\"p\"]:.3f}, q={par[\"q\"]:.3f}'\n",
    "        elif m == 8:\n",
    "            omega = f'p0={par[\"p0\"]:.3f}, p={par[\"p\"]:.3f}, q={par[\"q\"]:.3f}; p1={1-par[\"p0\"]:.3f}, w={par[\"w\"]:.3f}'\n",
    "            if par['w'] == 1.0: # model M8a\n",
    "                M = 'M8a'\n",
    "                \n",
    "        # print the results to the screen\n",
    "        # print(f'{M}: {desc} has {l} parameters, lnL = {lnL:.3f}, kappa = {k:.3f}, \\n\\tsite classes: {omega}')\n",
    "        # append the results as a row\n",
    "        out.append([codon, M, l, lnL, k, omega, desc])\n",
    "    return(out)"
   ]
  },
  {
   "cell_type": "code",
   "execution_count": 119,
   "id": "c86698a7-8cc5-4485-b1f7-2671cecc30b6",
   "metadata": {},
   "outputs": [],
   "source": [
    "def site_test(res1, m1, m0, res0 = None):\n",
    "    \"\"\"\n",
    "    given two result objects and model number, print the test result\n",
    "    by default, the two NSsite model results are presumed to be in the \n",
    "    same object. an optional second result object can be passed to res1\n",
    "    when comparing M8a with M8\n",
    "    \"\"\"\n",
    "    if res0 is None:\n",
    "        res0 = res1\n",
    "    # get the lnL and npar for both models\n",
    "    lnL1 = get_ll(res1, m1); npar1 = get_np(res1, m1)\n",
    "    lnL0 = get_ll(res0, m0); npar0 = get_np(res0, m0)\n",
    "    dlnL = lnL1 - lnL0; dnpar = npar1 - npar0\n",
    "    llr_P = 1 - chi2.cdf(x = 2*dlnL, df = dnpar)\n",
    "    # get the parameter lists for both models\n",
    "    res1_fit = res1[\"NSsites\"][m1]; res1_par = res1_fit[\"parameters\"]\n",
    "    res0_fit = res0[\"NSsites\"][m0]; res0_par = res0_fit[\"parameters\"]\n",
    "    M1, omega1 = get_omega(res1_fit, m1)\n",
    "    M0, omega0 = get_omega(res0_fit, m0)\n",
    "    # print test result\n",
    "    print(f'2*dlnL = {2*dlnL:.3f}, df = {dnpar}, LLR P-value = {llr_P:.2e}')\n",
    "    print('')\n",
    "    print(f'{M1} ({res1[\"codon model\"]}): lnL: {lnL1:.3f}; np: {npar1}; kappa: {res1_par[\"kappa\"]:.3f}\\n\\\n",
    "    w: {omega1}')\n",
    "    print('')\n",
    "    print(f'{M0} ({res0[\"codon model\"]}): lnL: {lnL0:.3f}; np: {npar0}; kappa: {res0_par[\"kappa\"]:.3f}\\n\\\n",
    "    w: {omega0}')\n",
    "    "
   ]
  },
  {
   "cell_type": "code",
   "execution_count": 123,
   "id": "187ae81c-bd82-4c1d-a959-e5078d8b565f",
   "metadata": {},
   "outputs": [],
   "source": [
    "# Test M2a vs M1a, M8 vs M7 and M8a vs M8\n",
    "def print_site_test(res, resM8a):\n",
    "    \"\"\"\n",
    "    perform a log likelihood ratio test comparing M2a vs M1a, M8 vs M7\n",
    "    and M8a vs M8. resM8a is the output specifically for M8a\n",
    "    \"\"\"\n",
    "    print('-- M2a vs M1a --')\n",
    "    site_test(res, 2, 1)\n",
    "    print('///\\n')\n",
    "    print(\"-- M8 vs M7 --\")\n",
    "    site_test(res, 8, 7)\n",
    "    print('///\\n')\n",
    "    print(\"-- M8a vs M8 --\")\n",
    "    site_test(res, 8, 8, resM8a)\n",
    "    print('///\\n')"
   ]
  },
  {
   "cell_type": "code",
   "execution_count": 102,
   "id": "76dad71d-9c40-4cd7-b39c-3b24bdb0201c",
   "metadata": {
    "tags": []
   },
   "outputs": [],
   "source": [
    "# print branch test results\n",
    "def print_branch_test(res1, res0, m = 0):\n",
    "    \"\"\"\n",
    "    extract and print the most important branch test result parameters, including\n",
    "    codonmodel, lnL, npar, omega_tree\n",
    "    also perform a log likelihood ratio test comparing the alternative with the null model\n",
    "    designated as res1 and res0\n",
    "    default to NSsites = 0\n",
    "    \"\"\"\n",
    "    # get the lnL and npar for both models\n",
    "    lnL1 = get_ll(res1, m); npar1 = get_np(res1, m)\n",
    "    lnL0 = get_ll(res0, m); npar0 = get_np(res0, m)\n",
    "    dlnL = lnL1 - lnL0; dnpar = npar1 - npar0\n",
    "    llr_P = 1 - chi2.cdf(x = 2*dlnL, df = dnpar)\n",
    "    # get the parameter lists for both models\n",
    "    res1_fit = res1[\"NSsites\"][m]; res1_par = res1_fit[\"parameters\"]\n",
    "    res0_fit = res0[\"NSsites\"][m]; res0_par = res0_fit[\"parameters\"]\n",
    "    # print useful model output\n",
    "    print(f'Main result (codon model = {res1[\"codon model\"]})\\n\\\n",
    "    lnL: {lnL1}; np: {npar1}; kappa: {res1_par[\"kappa\"]:.3f}; w: {res1_par[\"omega\"]}')\n",
    "    # omega tree: {res1_fit[\"omega tree\"]}')\n",
    "    print(f'Null model (codon model = {res0[\"codon model\"]})\\n\\\n",
    "    lnL: {lnL0}; np: {npar0}; kappa: {res0_par[\"kappa\"]:.3f}; w: {res0_par[\"omega\"]}\\n\\\n",
    "    2*dlnL = {2*dlnL:.3f}, df = {dnpar}, LLR P-value = {llr_P:.2e}')"
   ]
  },
  {
   "cell_type": "markdown",
   "id": "1b61d1e6",
   "metadata": {
    "tags": [],
    "toc-hr-collapsed": true
   },
   "source": [
    "# p1-414\n",
    "## Site models"
   ]
  },
  {
   "cell_type": "markdown",
   "id": "e77f07f6-c462-44c1-a53b-238a3eb120b1",
   "metadata": {
    "tags": []
   },
   "source": [
    "### M0,1,2,7,8 (codonfreq=1)"
   ]
  },
  {
   "cell_type": "code",
   "execution_count": 6,
   "id": "a5771cf6",
   "metadata": {
    "tags": []
   },
   "outputs": [],
   "source": [
    "# to allow for this code chunk to be run out of order, first switch back to the script dir\n",
    "os.chdir(script_dir)\n",
    "# change to the first segment analysis dir\n",
    "working_dir = \"../output/paml/B8441-OG-part/p1-414/site-cf1/\"\n",
    "os.chdir(working_dir)"
   ]
  },
  {
   "cell_type": "code",
   "execution_count": 7,
   "id": "3771031b-8b48-4118-b2c3-7ca73d794cd6",
   "metadata": {
    "tags": []
   },
   "outputs": [],
   "source": [
    "cml = codeml.Codeml()\n",
    "cml.working_dir = \"./\"\n",
    "cml.alignment = \"../B8441-OG-Hil-PF11765-1-414.nuc\"\n",
    "cml.tree = \"../p1-414.nwk\"\n",
    "cml.out_file = \"mlc\""
   ]
  },
  {
   "cell_type": "code",
   "execution_count": 8,
   "id": "99a3b41d-d9b7-48f5-82c9-90837eb006bb",
   "metadata": {
    "tags": []
   },
   "outputs": [],
   "source": [
    "cml.set_options(\n",
    "    noisy = 2,\n",
    "    verbose = 0,\n",
    "    seqtype = 1,\n",
    "    CodonFreq = 1, # F1x4\n",
    "    clock = 0,\n",
    "    model = 0,     # one ratio for all branches\n",
    "    NSsites = [0,1,2,7,8],\n",
    "    icode = 8,\n",
    "    fix_kappa = 0,\n",
    "    kappa = 2,\n",
    "    fix_omega = 0,\n",
    "    omega = .4,\n",
    "    cleandata = 1,\n",
    "    fix_blength = 0\n",
    ")"
   ]
  },
  {
   "cell_type": "code",
   "execution_count": 9,
   "id": "cb5aaed9-6da2-42c1-bc17-0c18c75d6b8a",
   "metadata": {
    "tags": []
   },
   "outputs": [],
   "source": [
    "cml.ctl_file = \"codeml.ctl\"\n",
    "cml.write_ctl_file()"
   ]
  },
  {
   "cell_type": "code",
   "execution_count": 10,
   "id": "48e9ee03-72f4-42da-b6d2-0f2ed7e89a89",
   "metadata": {},
   "outputs": [],
   "source": [
    "res = cml.run()"
   ]
  },
  {
   "cell_type": "markdown",
   "id": "3427299d-989d-47be-88ff-f2568fe8d302",
   "metadata": {
    "tags": []
   },
   "source": [
    "### M8a (codonfreq=1)"
   ]
  },
  {
   "cell_type": "code",
   "execution_count": 11,
   "id": "2fb59eaf-027d-42b8-9e33-46b1d326454e",
   "metadata": {
    "tags": []
   },
   "outputs": [],
   "source": [
    "# to allow for this code chunk to be run out of order, first switch back to the script dir\n",
    "os.chdir(script_dir)\n",
    "# change to the first segment analysis dir\n",
    "working_dir = \"../output/paml/B8441-OG-part/p1-414/site-M8a-cf1/\"\n",
    "os.chdir(working_dir)"
   ]
  },
  {
   "cell_type": "code",
   "execution_count": 12,
   "id": "f9cac60a",
   "metadata": {
    "tags": []
   },
   "outputs": [],
   "source": [
    "cml = codeml.Codeml()\n",
    "cml.working_dir = \"./\"\n",
    "cml.alignment = \"../B8441-OG-Hil-PF11765-1-414.nuc\"\n",
    "cml.tree = \"../p1-414.nwk\"\n",
    "cml.out_file = \"mlc\""
   ]
  },
  {
   "cell_type": "code",
   "execution_count": 13,
   "id": "dbc5a03e-8b38-465b-aea4-b62a1a339708",
   "metadata": {
    "tags": []
   },
   "outputs": [],
   "source": [
    "cml.set_options(\n",
    "    noisy = 2,\n",
    "    verbose = 0,\n",
    "    seqtype = 1,\n",
    "    CodonFreq = 1, # F1x4\n",
    "    clock = 0,\n",
    "    model = 0,     # one ratio for all branches\n",
    "    NSsites = [8], # M8a\n",
    "    icode = 8,\n",
    "    fix_kappa = 0,\n",
    "    kappa = 2,\n",
    "    fix_omega = 1,\n",
    "    omega = 1,     # fix omega to be 1 as null model\n",
    "    cleandata = 1,\n",
    "    fix_blength = 0\n",
    ")"
   ]
  },
  {
   "cell_type": "code",
   "execution_count": 14,
   "id": "6cffbc68-00ae-428b-8ba2-f055748cb813",
   "metadata": {
    "tags": []
   },
   "outputs": [],
   "source": [
    "cml.ctl_file = \"codeml.ctl\"\n",
    "cml.write_ctl_file()"
   ]
  },
  {
   "cell_type": "code",
   "execution_count": 15,
   "id": "9ba35823-0477-4bed-b582-9a1fddc12052",
   "metadata": {},
   "outputs": [],
   "source": [
    "res = cml.run()"
   ]
  },
  {
   "cell_type": "markdown",
   "id": "0e48dfb5-b9f6-43e3-8a17-2d3e8097b264",
   "metadata": {
    "tags": []
   },
   "source": [
    "### M0,1,2,7,8 (codonfreq=2)"
   ]
  },
  {
   "cell_type": "code",
   "execution_count": 17,
   "id": "713dbbad",
   "metadata": {
    "tags": []
   },
   "outputs": [],
   "source": [
    "# to allow for this code chunk to be run out of order, first switch back to the script dir\n",
    "os.chdir(script_dir)\n",
    "# change to the first segment analysis dir\n",
    "working_dir = \"../output/paml/B8441-OG-part/p1-414/site-cf2/\"\n",
    "if not os.path.exists(working_dir):\n",
    "    os.mkdir(working_dir)\n",
    "os.chdir(working_dir)"
   ]
  },
  {
   "cell_type": "code",
   "execution_count": 18,
   "id": "e19dc68c",
   "metadata": {
    "tags": []
   },
   "outputs": [],
   "source": [
    "cml = codeml.Codeml()\n",
    "cml.working_dir = \"./\"\n",
    "cml.alignment = \"../B8441-OG-Hil-PF11765-1-414.nuc\"\n",
    "cml.tree = \"../p1-414.nwk\"\n",
    "cml.out_file = \"mlc\""
   ]
  },
  {
   "cell_type": "code",
   "execution_count": 19,
   "id": "172de914-3b20-4aae-b5c0-0caf17a5a2a7",
   "metadata": {
    "tags": []
   },
   "outputs": [],
   "source": [
    "cml.set_options(\n",
    "    noisy = 2,\n",
    "    verbose = 0,\n",
    "    seqtype = 1,\n",
    "    CodonFreq = 2, # F3x4\n",
    "    clock = 0,\n",
    "    model = 0,     # one ratio for all branches\n",
    "    NSsites = [0,1,2,7,8],\n",
    "    icode = 8,\n",
    "    fix_kappa = 0,\n",
    "    kappa = 2,\n",
    "    fix_omega = 0,\n",
    "    omega = .4,\n",
    "    cleandata = 1,\n",
    "    fix_blength = 0\n",
    ")"
   ]
  },
  {
   "cell_type": "code",
   "execution_count": 20,
   "id": "9924816b-942d-4b99-8554-0b283532dcf8",
   "metadata": {
    "tags": []
   },
   "outputs": [],
   "source": [
    "cml.ctl_file = \"codeml.ctl\"\n",
    "cml.write_ctl_file()"
   ]
  },
  {
   "cell_type": "code",
   "execution_count": 21,
   "id": "8f3aa352-ec37-41af-a760-f4e904fde4f5",
   "metadata": {},
   "outputs": [],
   "source": [
    "res = cml.run()"
   ]
  },
  {
   "cell_type": "markdown",
   "id": "f9ecf6f5-1015-498b-b1ce-abbe0297d7fd",
   "metadata": {
    "tags": []
   },
   "source": [
    "### M8a (codonfreq=2)"
   ]
  },
  {
   "cell_type": "code",
   "execution_count": 22,
   "id": "82dd7c5c",
   "metadata": {},
   "outputs": [],
   "source": [
    "# to allow for this code chunk to be run out of order, first switch back to the script dir\n",
    "os.chdir(script_dir)\n",
    "# change to the first segment analysis dir\n",
    "working_dir = \"../output/paml/B8441-OG-part/p1-414/site-M8a-cf2/\"\n",
    "if not os.path.exists(working_dir):\n",
    "    os.mkdir(working_dir)\n",
    "os.chdir(working_dir)"
   ]
  },
  {
   "cell_type": "code",
   "execution_count": 23,
   "id": "f711d973",
   "metadata": {
    "tags": []
   },
   "outputs": [],
   "source": [
    "cml = codeml.Codeml()\n",
    "cml.working_dir = \"./\"\n",
    "cml.alignment = \"../B8441-OG-Hil-PF11765-1-414.nuc\"\n",
    "cml.tree = \"../p1-414.nwk\"\n",
    "cml.out_file = \"mlc\""
   ]
  },
  {
   "cell_type": "code",
   "execution_count": 24,
   "id": "7edab223-b594-430d-9d46-01181a9abec6",
   "metadata": {
    "tags": []
   },
   "outputs": [],
   "source": [
    "cml.set_options(\n",
    "    noisy = 2,\n",
    "    verbose = 0,\n",
    "    seqtype = 1,\n",
    "    CodonFreq = 2, # F3x4\n",
    "    clock = 0,\n",
    "    model = 0,     # one ratio for all branches\n",
    "    NSsites = [8], # M8a\n",
    "    icode = 8,\n",
    "    fix_kappa = 0,\n",
    "    kappa = 2,\n",
    "    fix_omega = 1, # fix omega = 1 as null\n",
    "    omega = 1,\n",
    "    cleandata = 1,\n",
    "    fix_blength = 0\n",
    ")"
   ]
  },
  {
   "cell_type": "code",
   "execution_count": 25,
   "id": "c87c8d40-d466-4419-b096-688921e659d6",
   "metadata": {
    "tags": []
   },
   "outputs": [],
   "source": [
    "cml.ctl_file = \"codeml.ctl\"\n",
    "cml.write_ctl_file()"
   ]
  },
  {
   "cell_type": "code",
   "execution_count": 26,
   "id": "dd83e45f-9cf3-49d4-a0e9-1d383e1f2282",
   "metadata": {},
   "outputs": [],
   "source": [
    "res = cml.run()"
   ]
  },
  {
   "cell_type": "markdown",
   "id": "2a173e8c-0c73-4269-8e33-22c5c71ded02",
   "metadata": {},
   "source": [
    "### Site model test result"
   ]
  },
  {
   "cell_type": "code",
   "execution_count": 132,
   "id": "397966e0-5464-4ef9-b2be-03f9d32a45a5",
   "metadata": {},
   "outputs": [],
   "source": [
    "# to allow for this code chunk to be run out of order, first switch back to the script dir\n",
    "os.chdir(script_dir)\n",
    "# change to the first segment analysis dir\n",
    "working_dir = \"../output/paml/B8441-OG-part/p1-414/\"\n",
    "os.chdir(working_dir)\n"
   ]
  },
  {
   "cell_type": "code",
   "execution_count": 133,
   "id": "608a7c1b",
   "metadata": {},
   "outputs": [],
   "source": [
    "# read site model results into a dictionary\n",
    "site_res = {\n",
    "    'site-cf1': codeml.read('site-cf1/mlc'),\n",
    "    'site-cf2': codeml.read('site-cf2/mlc'),\n",
    "    'site-M8a-cf1': codeml.read('site-M8a-cf1/mlc'),\n",
    "    'site-M8a-cf2': codeml.read('site-M8a-cf2/mlc')\n",
    "}"
   ]
  },
  {
   "cell_type": "code",
   "execution_count": 134,
   "id": "56d5cafd-beaa-4f22-9e58-fed6c56433b9",
   "metadata": {},
   "outputs": [],
   "source": [
    "# process the data and write the output to a csv file\n",
    "data_rows = []\n",
    "for t in site_res.values():\n",
    "    data_rows += get_site_model_fit(t)\n",
    "fields = ['codonfreq', 'model', 'npar', 'lnL', 'kappa', 'omega', 'description']\n",
    "with open(\"20220727-p1-414-site-model-summary-table.tsv\", \"w\") as f:\n",
    "    write = csv.writer(f, delimiter = \"\\t\")\n",
    "    write.writerow(fields)\n",
    "    write.writerows(data_rows)"
   ]
  },
  {
   "cell_type": "code",
   "execution_count": 135,
   "id": "5c211868-3a99-4374-8823-8f58ec0f5dd1",
   "metadata": {},
   "outputs": [
    {
     "name": "stdout",
     "output_type": "stream",
     "text": [
      "CodonFreq = 1\n",
      "-- M2a vs M1a --\n",
      "2*dlnL = 0.000, df = 2, LLR P-value = 1.00e+00\n",
      "\n",
      "M2 (F1x4): lnL: -3412.984; np: 20; kappa: 1.758\n",
      "    w: p0=0.884, w0=0.130; p1=0.057, w1=1.000; p2=0.060, w2=1.000; \n",
      "\n",
      "M1 (F1x4): lnL: -3412.984; np: 18; kappa: 1.758\n",
      "    w: p0=0.884, w0=0.130; p1=0.116, w1=1.000; \n",
      "///\n",
      "\n",
      "-- M8 vs M7 --\n",
      "2*dlnL = -0.001, df = 2, LLR P-value = 1.00e+00\n",
      "\n",
      "M8 (F1x4): lnL: -3390.595; np: 20; kappa: 1.696\n",
      "    w: p0=1.000, p=1.275, q=6.783; p1=0.000, w=4.777\n",
      "\n",
      "M7 (F1x4): lnL: -3390.594; np: 18; kappa: 1.696\n",
      "    w: p=1.275, q=6.783\n",
      "///\n",
      "\n",
      "-- M8a vs M8 --\n",
      "2*dlnL = 1.164, df = 1, LLR P-value = 2.81e-01\n",
      "\n",
      "M8 (F1x4): lnL: -3390.595; np: 20; kappa: 1.696\n",
      "    w: p0=1.000, p=1.275, q=6.783; p1=0.000, w=4.777\n",
      "\n",
      "M8a (F1x4): lnL: -3391.177; np: 19; kappa: 1.705\n",
      "    w: p0=0.990, p=1.217, q=6.490; p1=0.010, w=1.000\n",
      "///\n",
      "\n",
      "\n",
      "CodonFreq = 2\n",
      "-- M2a vs M1a --\n",
      "2*dlnL = 0.000, df = 2, LLR P-value = 1.00e+00\n",
      "\n",
      "M2 (F3x4): lnL: -3351.508; np: 20; kappa: 1.471\n",
      "    w: p0=0.903, w0=0.058; p1=0.016, w1=1.000; p2=0.081, w2=1.000; \n",
      "\n",
      "M1 (F3x4): lnL: -3351.508; np: 18; kappa: 1.471\n",
      "    w: p0=0.903, w0=0.058; p1=0.097, w1=1.000; \n",
      "///\n",
      "\n",
      "-- M8 vs M7 --\n",
      "2*dlnL = -0.000, df = 2, LLR P-value = 1.00e+00\n",
      "\n",
      "M8 (F3x4): lnL: -3316.619; np: 20; kappa: 1.392\n",
      "    w: p0=1.000, p=1.120, q=36.018; p1=0.000, w=35.572\n",
      "\n",
      "M7 (F3x4): lnL: -3316.618; np: 18; kappa: 1.392\n",
      "    w: p=1.120, q=36.008\n",
      "///\n",
      "\n",
      "-- M8a vs M8 --\n",
      "2*dlnL = 2.400, df = 1, LLR P-value = 1.21e-01\n",
      "\n",
      "M8 (F3x4): lnL: -3316.619; np: 20; kappa: 1.392\n",
      "    w: p0=1.000, p=1.120, q=36.018; p1=0.000, w=35.572\n",
      "\n",
      "M8a (F3x4): lnL: -3317.819; np: 19; kappa: 1.421\n",
      "    w: p0=0.991, p=1.087, q=32.633; p1=0.009, w=1.000\n",
      "///\n",
      "\n"
     ]
    }
   ],
   "source": [
    "# perform the three pairs of tests\n",
    "print(\"CodonFreq = 1\")\n",
    "print_site_test(site_res['site-cf1'], site_res['site-M8a-cf1'])\n",
    "print('')                    \n",
    "print(\"CodonFreq = 2\")\n",
    "print_site_test(site_res['site-cf2'], site_res['site-M8a-cf2'])"
   ]
  },
  {
   "cell_type": "markdown",
   "id": "043efea9-d56c-49de-8715-59f991256a6f",
   "metadata": {},
   "source": [
    "No evidence was found to support positive selection by any of the tests."
   ]
  },
  {
   "cell_type": "markdown",
   "id": "ac740e84-2f02-4372-8369-c342cceced4a",
   "metadata": {},
   "source": [
    "## Branch models"
   ]
  },
  {
   "cell_type": "markdown",
   "id": "ecc5e461",
   "metadata": {
    "tags": []
   },
   "source": [
    "### one ratio (codonfreq = 1)"
   ]
  },
  {
   "cell_type": "code",
   "execution_count": 48,
   "id": "6c621eb5",
   "metadata": {},
   "outputs": [],
   "source": [
    "# to allow for this code chunk to be run out of order, first switch back to the script dir\n",
    "os.chdir(script_dir)\n",
    "# change to the first segment analysis dir\n",
    "working_dir = \"../output/paml/B8441-OG-part/p1-414/branch-1r-cf1/\"\n",
    "if not os.path.exists(working_dir):\n",
    "    os.mkdir(working_dir)\n",
    "os.chdir(working_dir)"
   ]
  },
  {
   "cell_type": "code",
   "execution_count": 49,
   "id": "4dc7d85c",
   "metadata": {},
   "outputs": [],
   "source": [
    "cml = codeml.Codeml()\n",
    "cml.working_dir = \"./\"\n",
    "cml.alignment = \"../B8441-OG-Hil-PF11765-1-414.nuc\"\n",
    "cml.tree = \"../p1-414.nwk\"\n",
    "cml.out_file = \"mlc\""
   ]
  },
  {
   "cell_type": "code",
   "execution_count": 50,
   "id": "1dce164e",
   "metadata": {},
   "outputs": [],
   "source": [
    "cml.set_options(\n",
    "    noisy = 2,\n",
    "    verbose = 0,\n",
    "    seqtype = 1,\n",
    "    CodonFreq = 1,\n",
    "    model = 0,\n",
    "    NSsites = [0],\n",
    "    icode = 8,\n",
    "    fix_kappa = 0,\n",
    "    kappa = 2,\n",
    "    fix_omega = 0,\n",
    "    omega = .4,\n",
    "    cleandata = 1,\n",
    "    fix_blength = 0\n",
    ")"
   ]
  },
  {
   "cell_type": "code",
   "execution_count": 51,
   "id": "8d2f5000",
   "metadata": {},
   "outputs": [],
   "source": [
    "cml.ctl_file = \"codeml.ctl\"\n",
    "cml.write_ctl_file()"
   ]
  },
  {
   "cell_type": "code",
   "execution_count": 52,
   "id": "5ae4fae4",
   "metadata": {},
   "outputs": [],
   "source": [
    "res = cml.run()"
   ]
  },
  {
   "cell_type": "markdown",
   "id": "c7628712",
   "metadata": {
    "tags": []
   },
   "source": [
    "### free ratio (codonfreq = 1)"
   ]
  },
  {
   "cell_type": "code",
   "execution_count": 53,
   "id": "0b6b6e5d-d9f6-4b85-b034-f30afb1409ff",
   "metadata": {},
   "outputs": [],
   "source": [
    "# to allow for this code chunk to be run out of order, first switch back to the script dir\n",
    "os.chdir(script_dir)\n",
    "# change to the first segment analysis dir\n",
    "working_dir = \"../output/paml/B8441-OG-part/p1-414/branch-freer-cf1/\"\n",
    "os.chdir(working_dir)"
   ]
  },
  {
   "cell_type": "code",
   "execution_count": 54,
   "id": "72160d2e",
   "metadata": {
    "tags": []
   },
   "outputs": [],
   "source": [
    "cml = codeml.Codeml()\n",
    "cml.working_dir = \"./\"\n",
    "cml.alignment = \"../B8441-OG-Hil-PF11765-1-414.nuc\"\n",
    "cml.tree = \"../p1-414.nwk\"\n",
    "cml.out_file = \"mlc\""
   ]
  },
  {
   "cell_type": "code",
   "execution_count": 55,
   "id": "76f70585",
   "metadata": {
    "tags": []
   },
   "outputs": [],
   "source": [
    "cml.set_options(\n",
    "    noisy = 2,\n",
    "    verbose = 0,\n",
    "    seqtype = 1,\n",
    "    CodonFreq = 1,\n",
    "    clock = 0,\n",
    "    model = 1,\n",
    "    NSsites = [0],\n",
    "    icode = 8,\n",
    "    fix_kappa = 0,\n",
    "    kappa = 2,\n",
    "    fix_omega = 0,\n",
    "    omega = .4,\n",
    "    cleandata = 1,\n",
    "    fix_blength = 0\n",
    ")"
   ]
  },
  {
   "cell_type": "code",
   "execution_count": 56,
   "id": "8fa2a1c2",
   "metadata": {
    "tags": []
   },
   "outputs": [],
   "source": [
    "cml.ctl_file = \"codeml.ctl\"\n",
    "cml.write_ctl_file()"
   ]
  },
  {
   "cell_type": "code",
   "execution_count": 57,
   "id": "8e71a7a1",
   "metadata": {
    "tags": []
   },
   "outputs": [],
   "source": [
    "res = cml.run()"
   ]
  },
  {
   "cell_type": "markdown",
   "id": "289934c5",
   "metadata": {
    "tags": []
   },
   "source": [
    "### one ratio (codonfreq = 2)"
   ]
  },
  {
   "cell_type": "code",
   "execution_count": null,
   "id": "59d9d620-67c8-40fa-bb88-7e7b09c9f8ae",
   "metadata": {},
   "outputs": [],
   "source": [
    "# to allow for this code chunk to be run out of order, first switch back to the script dir\n",
    "os.chdir(script_dir)\n",
    "# change to the first segment analysis dir\n",
    "working_dir = \"../output/paml/B8441-OG-part/p1-414/branch-1r-cf2/\"\n",
    "os.chdir(working_dir)"
   ]
  },
  {
   "cell_type": "code",
   "execution_count": 40,
   "id": "99c1fe69",
   "metadata": {
    "tags": []
   },
   "outputs": [],
   "source": [
    "cml = codeml.Codeml()\n",
    "cml.working_dir = \"./\"\n",
    "cml.alignment = \"../B8441-OG-Hil-PF11765-1-414.nuc\"\n",
    "cml.tree = \"../p1-414.nwk\"\n",
    "cml.out_file = \"mlc\""
   ]
  },
  {
   "cell_type": "code",
   "execution_count": 84,
   "id": "281032e4",
   "metadata": {
    "tags": []
   },
   "outputs": [],
   "source": [
    "cml.set_options(\n",
    "    noisy = 2,\n",
    "    verbose = 0,\n",
    "    seqtype = 1,\n",
    "    CodonFreq = 2,\n",
    "    model = 0,\n",
    "    NSsites = [0],\n",
    "    icode = 8,\n",
    "    fix_kappa = 0,\n",
    "    kappa = 2,\n",
    "    fix_omega = 0,\n",
    "    omega = .4,\n",
    "    cleandata = 1,\n",
    "    fix_blength = 0\n",
    ")"
   ]
  },
  {
   "cell_type": "code",
   "execution_count": 85,
   "id": "d6e87c35",
   "metadata": {
    "tags": []
   },
   "outputs": [],
   "source": [
    "cml.ctl_file = \"codeml.ctl\"\n",
    "cml.write_ctl_file()"
   ]
  },
  {
   "cell_type": "code",
   "execution_count": 86,
   "id": "58d79391",
   "metadata": {
    "tags": []
   },
   "outputs": [],
   "source": [
    "res = cml.run()"
   ]
  },
  {
   "cell_type": "markdown",
   "id": "beb21b36",
   "metadata": {
    "jp-MarkdownHeadingCollapsed": true,
    "tags": []
   },
   "source": [
    "### free ratio (codonfreq = 2)"
   ]
  },
  {
   "cell_type": "code",
   "execution_count": null,
   "id": "7e6d9e60-18ff-444c-9be0-1454c4a2a8bb",
   "metadata": {},
   "outputs": [],
   "source": [
    "# to allow for this code chunk to be run out of order, first switch back to the script dir\n",
    "os.chdir(script_dir)\n",
    "# change to the first segment analysis dir\n",
    "working_dir = \"../output/paml/B8441-OG-part/p1-414/branch-freer-cf2/\"\n",
    "os.chdir(working_dir)"
   ]
  },
  {
   "cell_type": "code",
   "execution_count": 89,
   "id": "b9b69b19",
   "metadata": {
    "tags": []
   },
   "outputs": [],
   "source": [
    "cml = codeml.Codeml()\n",
    "cml.working_dir = \"./\"\n",
    "cml.alignment = \"../B8441-OG-Hil-PF11765-1-414.nuc\"\n",
    "cml.tree = \"../p1-414.nwk\"\n",
    "cml.out_file = \"mlc\""
   ]
  },
  {
   "cell_type": "code",
   "execution_count": 90,
   "id": "047c70d6",
   "metadata": {
    "tags": []
   },
   "outputs": [],
   "source": [
    "cml.set_options(\n",
    "    noisy = 2,\n",
    "    verbose = 0,\n",
    "    seqtype = 1,\n",
    "    CodonFreq = 2,\n",
    "    clock = 0,\n",
    "    model = 1,\n",
    "    NSsites = [0],\n",
    "    icode = 8,\n",
    "    fix_kappa = 0,\n",
    "    kappa = 2,\n",
    "    fix_omega = 0,\n",
    "    omega = .4,\n",
    "    cleandata = 1,\n",
    "    fix_blength = 0\n",
    ")"
   ]
  },
  {
   "cell_type": "code",
   "execution_count": 91,
   "id": "4fa07fdb",
   "metadata": {
    "tags": []
   },
   "outputs": [],
   "source": [
    "cml.ctl_file = \"codeml.ctl\"\n",
    "cml.write_ctl_file()"
   ]
  },
  {
   "cell_type": "code",
   "execution_count": 92,
   "id": "6069c0e2",
   "metadata": {},
   "outputs": [],
   "source": [
    "res = cml.run()"
   ]
  },
  {
   "cell_type": "markdown",
   "id": "dc3d431b",
   "metadata": {
    "tags": []
   },
   "source": [
    "### Free vs one-omega models test result\n",
    "First, we reimport all the model results"
   ]
  },
  {
   "cell_type": "code",
   "execution_count": 31,
   "id": "d86ebbfb",
   "metadata": {},
   "outputs": [],
   "source": [
    "# to allow for this code chunk to be run out of order, first switch back to the script dir\n",
    "os.chdir(script_dir)\n",
    "# change to the first segment analysis dir\n",
    "working_dir = \"../output/paml/B8441-OG-part/p1-414/\"\n",
    "os.chdir(working_dir)\n",
    "branch_res = {\n",
    "    '1r-cf1': codeml.read('branch-1r-cf1/mlc'),\n",
    "    '1r-cf2': codeml.read('branch-1r-cf2/mlc'),\n",
    "    'freer-cf1': codeml.read('branch-freer-cf1/mlc'),\n",
    "    'freer-cf2': codeml.read('branch-freer-cf2/mlc')\n",
    "}"
   ]
  },
  {
   "cell_type": "code",
   "execution_count": 33,
   "id": "0ed11c6c",
   "metadata": {},
   "outputs": [
    {
     "name": "stdout",
     "output_type": "stream",
     "text": [
      "Testing one ratio vs free ratio models, with CodonFreq=1\n",
      "df=14, 2*∆lnL=55.73, p=6.47e-07\n"
     ]
    }
   ],
   "source": [
    "dl_cf1 = get_ll(branch_res['freer-cf1']) - get_ll(branch_res['1r-cf1'])\n",
    "df_cf1 = get_np(branch_res['freer-cf1']) - get_np(branch_res['1r-cf1'])\n",
    "p_cf1 = 1 - chi2.cdf(2*dl_cf1, df = df_cf1)\n",
    "print(\"Testing one ratio vs free ratio models, with CodonFreq=1\")\n",
    "print(f'df={df_cf1}, 2*∆lnL={2*dl_cf1:.2f}, p={p_cf1:.2e}')"
   ]
  },
  {
   "cell_type": "code",
   "execution_count": 35,
   "id": "a7edaf30-2a62-411b-8e23-f436777b7d7f",
   "metadata": {},
   "outputs": [
    {
     "name": "stdout",
     "output_type": "stream",
     "text": [
      "Testing one ratio vs free ratio models, with CodonFreq=1\n",
      "df=14, 2*∆lnL=27.99, p=1.43e-02\n"
     ]
    }
   ],
   "source": [
    "dl_cf2 = get_ll(branch_res['freer-cf2']) - get_ll(branch_res['1r-cf2'])\n",
    "df_cf2 = get_np(branch_res['freer-cf2']) - get_np(branch_res['1r-cf2'])\n",
    "p_cf2 = 1 - chi2.cdf(2*dl_cf2, df = df_cf2)\n",
    "# p_cf2 = 1.427e-02 # calculated with the chi2 program from PAML package\n",
    "print(\"Testing one ratio vs free ratio models, with CodonFreq=1\")\n",
    "print(f'df={df_cf2}, 2*∆lnL={2*dl_cf2:.2f}, p={p_cf2:.2e}')"
   ]
  },
  {
   "cell_type": "markdown",
   "id": "fdb2afc9-de62-4d0a-afe1-2d521bd550d0",
   "metadata": {},
   "source": [
    "there is thus strong evidence for non-equal dN/dS along the branches. But this test is almost always significant because the null hypothesis of homogeneous dN/dS across the entire tree is not realistic under most cases."
   ]
  },
  {
   "cell_type": "markdown",
   "id": "af15b973-0f3f-4d31-8d23-80211444e73b",
   "metadata": {},
   "source": [
    "I plotted the free ratio model estimates on the gene tree using the `ggtree` package in R:\n",
    "![free ratio estimates](../output/figure/20220727-B8441-OG-p1-414-branch-freer-tree.png)\n",
    "\n",
    "By comparing the results obtained with CodonFreq=2 or CodonFreq=1, I see that two of the three branches identified as having elevated dN/dS by the F3x4 model was also implicated by the F1x4 model. Given Ziheng's [suggestion](https://groups.google.com/g/pamlsoftware/c/i7-NFSgnhq8/m/80rWE37kBgAJ), I decided to focus on the F3x4 model result and test the three branches together and separately (labeled as ω1, ω2 and ω3, respectively).\n",
    "\n",
    "My next goal is to separately test whether there are statistical support for these two branches having a dN/dS > 1."
   ]
  },
  {
   "cell_type": "markdown",
   "id": "329b1f53-976c-4e0f-9440-ca0c8c94b4a9",
   "metadata": {
    "tags": []
   },
   "source": [
    "### F1x4, two ratio (w0, w1=w2=w3=w4)"
   ]
  },
  {
   "cell_type": "code",
   "execution_count": 46,
   "id": "94c4c276-a3dd-4394-b864-849c4e77f760",
   "metadata": {},
   "outputs": [],
   "source": [
    "# to allow for this code chunk to be run out of order, first switch back to the script dir\n",
    "os.chdir(script_dir)\n",
    "# change to the first segment analysis dir\n",
    "working_dir = \"../output/paml/B8441-OG-part/p1-414/branch-2r_all-cf1/\"\n",
    "if not os.path.exists(working_dir):\n",
    "    os.mkdir(working_dir)\n",
    "os.chdir(working_dir)"
   ]
  },
  {
   "cell_type": "code",
   "execution_count": 41,
   "id": "3f413d77-71ac-479e-b9f5-a3b9511b5003",
   "metadata": {},
   "outputs": [],
   "source": [
    "cml = codeml.Codeml()\n",
    "cml.working_dir = \"./\"\n",
    "cml.alignment = \"../B8441-OG-Hil-PF11765-1-414.nuc\"\n",
    "cml.tree = \"../p1-414-2r_all-cf1.nwk\"\n",
    "cml.out_file = \"mlc\""
   ]
  },
  {
   "cell_type": "code",
   "execution_count": 42,
   "id": "21af681e-0a8f-451f-a559-aa9d7d18a3f6",
   "metadata": {},
   "outputs": [],
   "source": [
    "cml.set_options(\n",
    "    noisy = 2,\n",
    "    verbose = 0,\n",
    "    seqtype = 1,\n",
    "    CodonFreq = 1, # F1x4 codon\n",
    "    model = 2,     # 2 or more dN/dS ratios for branches\n",
    "    NSsites = [0], # one site class \n",
    "    icode = 8,     # yeast alternative nuclear code\n",
    "    fix_kappa = 0,\n",
    "    kappa = 2,\n",
    "    fix_omega = 0,\n",
    "    omega = .4,\n",
    "    cleandata = 1,\n",
    "    fix_blength = 0\n",
    ")"
   ]
  },
  {
   "cell_type": "code",
   "execution_count": 43,
   "id": "270767a2-3959-4389-9c6e-7ab5115eecfe",
   "metadata": {},
   "outputs": [],
   "source": [
    "cml.ctl_file = \"codeml.ctl\"\n",
    "cml.write_ctl_file()"
   ]
  },
  {
   "cell_type": "code",
   "execution_count": 44,
   "id": "983626d5-9e14-4757-b274-d62f54b11ead",
   "metadata": {},
   "outputs": [],
   "source": [
    "res = cml.run()"
   ]
  },
  {
   "cell_type": "code",
   "execution_count": 47,
   "id": "54aa2992-3ef5-4ea5-b053-80212112de80",
   "metadata": {},
   "outputs": [
    {
     "name": "stdout",
     "output_type": "stream",
     "text": [
      "Main result (codon model = F1x4)\n",
      "    lnL: -3421.85936; np: 18; kappa: 1.583; w: [0.12695, 1.77137]\n",
      "Null model (codon model = F1x4)\n",
      "    lnL: -3427.952669; np: 17; kappa: 1.592; w: 0.13685\n",
      "    2*dlnL = 12.187, df = 1, LLR P-value = 4.81e-04\n"
     ]
    }
   ],
   "source": [
    "branch_res['2r_all-cf1'] = codeml.read(\"mlc\")\n",
    "print_branch_test(branch_res['2r_all-cf1'], branch_res['1r-cf1'])"
   ]
  },
  {
   "cell_type": "markdown",
   "id": "29c08095-2c6a-45c6-a071-abd8beb3827b",
   "metadata": {
    "tags": []
   },
   "source": [
    "### F1x4, two ratio constrained (w0, w1=w2=w3=w4=1)"
   ]
  },
  {
   "cell_type": "code",
   "execution_count": 48,
   "id": "7a41be22-445d-42bc-8400-9b02ef37141c",
   "metadata": {},
   "outputs": [],
   "source": [
    "# to allow for this code chunk to be run out of order, first switch back to the script dir\n",
    "os.chdir(script_dir)\n",
    "# change to the first segment analysis dir\n",
    "working_dir = \"../output/paml/B8441-OG-part/p1-414/branch-2r_alleq1-cf1/\"\n",
    "if not os.path.exists(working_dir):\n",
    "    os.mkdir(working_dir)\n",
    "os.chdir(working_dir)"
   ]
  },
  {
   "cell_type": "code",
   "execution_count": 33,
   "id": "1ebb9c24-25c7-4d5b-acbd-2525e93a0464",
   "metadata": {},
   "outputs": [],
   "source": [
    "cml = codeml.Codeml()\n",
    "cml.working_dir = \"./\"\n",
    "cml.alignment = \"../B8441-OG-Hil-PF11765-1-414.nuc\"\n",
    "cml.tree = \"../p1-414-2r_all-cf1.nwk\"\n",
    "cml.out_file = \"mlc\""
   ]
  },
  {
   "cell_type": "code",
   "execution_count": 34,
   "id": "1cd2c846-4caa-49f9-a672-32f8a73d3a04",
   "metadata": {},
   "outputs": [],
   "source": [
    "cml.set_options(\n",
    "    noisy = 2,\n",
    "    verbose = 0,\n",
    "    seqtype = 1,\n",
    "    CodonFreq = 1, # F1x4 codon\n",
    "    model = 2,     # 2 or more dN/dS ratios for branches\n",
    "    NSsites = [0], # one site class \n",
    "    icode = 8,     # yeast alternative nuclear code\n",
    "    fix_kappa = 0,\n",
    "    kappa = 2,\n",
    "    fix_omega = 1,\n",
    "    omega = 1,\n",
    "    cleandata = 1,\n",
    "    fix_blength = 0\n",
    ")"
   ]
  },
  {
   "cell_type": "code",
   "execution_count": 35,
   "id": "cd3ed91f-57fe-4ea2-a686-1cf4b5e16166",
   "metadata": {},
   "outputs": [],
   "source": [
    "cml.ctl_file = \"codeml.ctl\"\n",
    "cml.write_ctl_file()"
   ]
  },
  {
   "cell_type": "code",
   "execution_count": 36,
   "id": "13dd9c5e-6ee4-4595-aee6-4140e436390a",
   "metadata": {},
   "outputs": [],
   "source": [
    "res = cml.run()"
   ]
  },
  {
   "cell_type": "code",
   "execution_count": 49,
   "id": "34f83166-08e3-41ee-8509-5973738564dc",
   "metadata": {},
   "outputs": [
    {
     "name": "stdout",
     "output_type": "stream",
     "text": [
      "Main result (codon model = F1x4)\n",
      "    lnL: -3421.85936; np: 18; kappa: 1.583; w: [0.12695, 1.77137]\n",
      "Null model (codon model = F1x4)\n",
      "    lnL: -3421.992047; np: 17; kappa: 1.581; w: [0.1292, 1.0]\n",
      "    2*dlnL = 0.265, df = 1, LLR P-value = 6.06e-01\n"
     ]
    }
   ],
   "source": [
    "branch_res['2r_alleq1-cf1'] = codeml.read(\"mlc\")\n",
    "print_branch_test(branch_res['2r_all-cf1'], branch_res['2r_alleq1-cf1'])"
   ]
  },
  {
   "cell_type": "markdown",
   "id": "8c414477-7176-4cec-a5e3-0e5e858f651e",
   "metadata": {},
   "source": [
    "No evidence of positive selection on the selected branches"
   ]
  },
  {
   "cell_type": "markdown",
   "id": "79f0ac47-cd31-48ca-8420-d37db99cb232",
   "metadata": {},
   "source": [
    "### F3x4, two ratio (w0, w1=w2=w3)"
   ]
  },
  {
   "cell_type": "code",
   "execution_count": 79,
   "id": "bf9c48c6-9347-403d-b830-351961ca4452",
   "metadata": {},
   "outputs": [],
   "source": [
    "# to allow for this code chunk to be run out of order, first switch back to the script dir\n",
    "os.chdir(script_dir)\n",
    "# change to the first segment analysis dir\n",
    "working_dir = \"../output/paml/B8441-OG-part/p1-414/branch-2r_all-cf2/\"\n",
    "if not os.path.exists(working_dir):\n",
    "    os.mkdir(working_dir)\n",
    "os.chdir(working_dir)"
   ]
  },
  {
   "cell_type": "code",
   "execution_count": 80,
   "id": "0537283b-b000-4177-9015-3e82705e9c91",
   "metadata": {},
   "outputs": [],
   "source": [
    "cml = codeml.Codeml()\n",
    "cml.working_dir = \"./\"\n",
    "cml.alignment = \"../B8441-OG-Hil-PF11765-1-414.nuc\"\n",
    "cml.tree = \"../p1-414-2r_all-cf2.nwk\"\n",
    "cml.out_file = \"mlc\""
   ]
  },
  {
   "cell_type": "code",
   "execution_count": 81,
   "id": "0fda4719-18f1-410f-bb82-bf42f606968f",
   "metadata": {},
   "outputs": [],
   "source": [
    "cml.set_options(\n",
    "    noisy = 2,\n",
    "    verbose = 0,\n",
    "    seqtype = 1,\n",
    "    CodonFreq = 2, # F3x4 model\n",
    "    model = 2,     # 2 or more dN/dS ratios for branches\n",
    "    NSsites = [0], # one site class \n",
    "    icode = 8,     # yeast alternative nuclear code\n",
    "    fix_kappa = 0,\n",
    "    kappa = 2,\n",
    "    fix_omega = 0,\n",
    "    omega = .4,\n",
    "    cleandata = 1,\n",
    "    fix_blength = 0\n",
    ")"
   ]
  },
  {
   "cell_type": "code",
   "execution_count": 82,
   "id": "4173e0be-4734-4008-b400-0bc947aed8a2",
   "metadata": {},
   "outputs": [],
   "source": [
    "cml.ctl_file = \"codeml.ctl\"\n",
    "cml.write_ctl_file()"
   ]
  },
  {
   "cell_type": "code",
   "execution_count": 83,
   "id": "3b1cd46c-7feb-44ed-b737-49ac4f68bd43",
   "metadata": {},
   "outputs": [],
   "source": [
    "res = cml.run()"
   ]
  },
  {
   "cell_type": "code",
   "execution_count": 84,
   "id": "2c01f5d7-5990-4e6e-9217-f7371f6f9748",
   "metadata": {},
   "outputs": [
    {
     "name": "stdout",
     "output_type": "stream",
     "text": [
      "Main result (codon model = F3x4)\n",
      "    lnL: -3360.672152; np: 18; kappa: 1.316; w: [0.0292, 0.00277]\n",
      "    omega tree: ((Hil7 #0.0291987 , (((Hil1 #0.0291987 , Hil2 #0.0291987 ) #0.0291987 , (Hil4 #0.0291987 , Hil3 #0.0291987 ) #0.0291987 ) #0.0291987 , (Hil8 #0.0291987 , Hil6 #0.0291987 ) #0.00277474 ) #0.00277474 ) #0.00277474 , Hil5 #0.0291987 , OG #0.0291987 );\n",
      "Null model (codon model = F3x4)\n",
      "    lnL: -3362.613054; np: 17; kappa: 1.342; w: 0.01825\n",
      "    2*dlnL = 3.882, df = 1, LLR P-value = 4.88e-02\n"
     ]
    }
   ],
   "source": [
    "branch_res['branch-2r_all-cf2'] = codeml.read(\"mlc\")\n",
    "print_branch_test(branch_res['branch-2r_all-cf2'], branch_res['branch-1r-cf2'])"
   ]
  },
  {
   "cell_type": "markdown",
   "id": "bdeb0cfc-6722-4bc3-a530-a8a1e8934a2f",
   "metadata": {},
   "source": [
    "Note that the foreground lineages in the alternative model, which were selected based on them having significantly elevated dN/dS in the free ratio model, actually had a lower dN/dS estimate than the background. This is difficult to interpret."
   ]
  },
  {
   "cell_type": "markdown",
   "id": "541004f6-beac-468a-870b-198107b9f435",
   "metadata": {},
   "source": [
    "## Branch-site model\n",
    "This model tests selection on a subset of the sites in a subset of lineages (foreground). The alternative model is specified by `Model A: model = 2, NSsites = 2, fix_omega = 0` and the null model is specified by `Model A1: model = 2, NSsites = 2, fix_omega = 1, omega = 1`\n",
    "### Alternative model, (F1x4)"
   ]
  },
  {
   "cell_type": "code",
   "execution_count": 50,
   "id": "12b2fa02-54ca-4cec-aa45-b42275019c22",
   "metadata": {},
   "outputs": [],
   "source": [
    "# to allow for this code chunk to be run out of order, first switch back to the script dir\n",
    "os.chdir(script_dir)\n",
    "# change to the first segment analysis dir\n",
    "working_dir = \"../output/paml/B8441-OG-part/p1-414/brnsite-alt-2r_all-cf1/\"\n",
    "if not os.path.exists(working_dir):\n",
    "    os.mkdir(working_dir)\n",
    "os.chdir(working_dir)"
   ]
  },
  {
   "cell_type": "code",
   "execution_count": 39,
   "id": "8ae74af0-c1ba-4027-a3a8-3b9883dc3a0c",
   "metadata": {},
   "outputs": [],
   "source": [
    "cml = codeml.Codeml()\n",
    "cml.working_dir = \"./\"\n",
    "cml.alignment = \"../B8441-OG-Hil-PF11765-1-414.nuc\"\n",
    "cml.tree = \"../p1-414-2r_all-cf1.nwk\"\n",
    "cml.out_file = \"mlc\""
   ]
  },
  {
   "cell_type": "code",
   "execution_count": 40,
   "id": "10b43869-9888-43d7-b158-74478e89b42c",
   "metadata": {},
   "outputs": [],
   "source": [
    "cml.set_options(\n",
    "    noisy = 2,\n",
    "    verbose = 0,\n",
    "    seqtype = 1,\n",
    "    CodonFreq = 2, # F3x4 model\n",
    "    model = 2,     # 2 or more dN/dS ratios for branches\n",
    "    NSsites = [2], # three classes, constrained, neutral and positive\n",
    "    icode = 8,     # yeast alternative nuclear code\n",
    "    fix_kappa = 0,\n",
    "    kappa = 2,\n",
    "    fix_omega = 0,\n",
    "    omega = .4,\n",
    "    cleandata = 1,\n",
    "    fix_blength = 0\n",
    ")"
   ]
  },
  {
   "cell_type": "code",
   "execution_count": 41,
   "id": "b94fb2a5-be6f-4844-9094-7f18a83b68c0",
   "metadata": {},
   "outputs": [],
   "source": [
    "cml.ctl_file = \"codeml.ctl\"\n",
    "cml.write_ctl_file()"
   ]
  },
  {
   "cell_type": "code",
   "execution_count": 42,
   "id": "9ecb107d-bd1b-4a99-bf3d-8d555db46b27",
   "metadata": {},
   "outputs": [],
   "source": [
    "res = cml.run()"
   ]
  },
  {
   "cell_type": "markdown",
   "id": "4b59a472-8744-4e10-aece-a82dfe2b9acf",
   "metadata": {},
   "source": [
    "### Null model (F1x4)"
   ]
  },
  {
   "cell_type": "code",
   "execution_count": 43,
   "id": "8e2a0855-bfbb-4de8-87b1-97405968f553",
   "metadata": {},
   "outputs": [],
   "source": [
    "# to allow for this code chunk to be run out of order, first switch back to the script dir\n",
    "os.chdir(script_dir)\n",
    "# change to the first segment analysis dir\n",
    "working_dir = \"../output/paml/B8441-OG-part/p1-414/brnsite-null-2r_all-cf1/\"\n",
    "if not os.path.exists(working_dir):\n",
    "    os.mkdir(working_dir)\n",
    "os.chdir(working_dir)"
   ]
  },
  {
   "cell_type": "code",
   "execution_count": 44,
   "id": "3216b9c8-b2b4-4276-999f-ca17fd06c3b8",
   "metadata": {},
   "outputs": [],
   "source": [
    "cml = codeml.Codeml()\n",
    "cml.working_dir = \"./\"\n",
    "cml.alignment = \"../B8441-OG-Hil-PF11765-1-414.nuc\"\n",
    "cml.tree = \"../p1-414-2r_all-cf1.nwk\"\n",
    "cml.out_file = \"mlc\""
   ]
  },
  {
   "cell_type": "code",
   "execution_count": 45,
   "id": "f8ac7725-6ad0-45b2-ad21-20850f017e86",
   "metadata": {},
   "outputs": [],
   "source": [
    "cml.set_options(\n",
    "    noisy = 2,\n",
    "    verbose = 0,\n",
    "    seqtype = 1,\n",
    "    CodonFreq = 2, # F3x4 model\n",
    "    model = 2,     # 2 or more dN/dS ratios for branches\n",
    "    NSsites = [2], # three classes, constrained, neutral and positive\n",
    "    icode = 8,     # yeast alternative nuclear code\n",
    "    fix_kappa = 0,\n",
    "    kappa = 2,\n",
    "    fix_omega = 1,\n",
    "    omega = 1,\n",
    "    cleandata = 1,\n",
    "    fix_blength = 0\n",
    ")"
   ]
  },
  {
   "cell_type": "code",
   "execution_count": 46,
   "id": "8290357c-fbfb-4c0c-9424-f31b409110e0",
   "metadata": {},
   "outputs": [],
   "source": [
    "cml.ctl_file = \"codeml.ctl\"\n",
    "cml.write_ctl_file()"
   ]
  },
  {
   "cell_type": "code",
   "execution_count": 47,
   "id": "b2eb0635-0cfa-46da-afb6-34eea9d0b1c1",
   "metadata": {},
   "outputs": [],
   "source": [
    "res = cml.run()"
   ]
  },
  {
   "cell_type": "markdown",
   "id": "b87b2b94-68c0-44f9-93e5-009840d45869",
   "metadata": {},
   "source": [
    "### Branch-site model test"
   ]
  },
  {
   "cell_type": "code",
   "execution_count": 51,
   "id": "9c0ace3c-d00a-42e8-aec1-578776d9840b",
   "metadata": {},
   "outputs": [],
   "source": [
    "# to allow for this code chunk to be run out of order, first switch back to the script dir\n",
    "os.chdir(script_dir)\n",
    "# change to the first segment analysis dir\n",
    "working_dir = \"../output/paml/B8441-OG-part/p1-414/\"\n",
    "os.chdir(working_dir)\n",
    "brnsite_res = {\n",
    "    'alt-2r_all-cf1': codeml.read('brnsite-alt-2r_all-cf1/mlc'),\n",
    "    'null-2r_all-cf1': codeml.read('brnsite-null-2r_all-cf1/mlc')\n",
    "}"
   ]
  },
  {
   "cell_type": "code",
   "execution_count": 52,
   "id": "fd5ff8d1-fe18-46b3-9c43-f2a838fe8490",
   "metadata": {},
   "outputs": [
    {
     "name": "stdout",
     "output_type": "stream",
     "text": [
      "Testing branch site model, with CodonFreq=1\n",
      "df=1, 2*∆lnL=0.16, p=6.89e-01\n"
     ]
    }
   ],
   "source": [
    "dl_bs_cf1 = get_ll(brnsite_res['alt-2r_all-cf1'], m = 2) - get_ll(brnsite_res['null-2r_all-cf1'], m = 2)\n",
    "df_bs_cf1 = get_np(brnsite_res['alt-2r_all-cf1'], m = 2) - get_np(brnsite_res['null-2r_all-cf1'], m = 2)\n",
    "p_bs_cf1 = 1 - chi2.cdf(2*dl_bs_cf1, df = df_bs_cf1)\n",
    "print(\"Testing branch site model, with CodonFreq=1\")\n",
    "print(f'df={df_bs_cf1}, 2*∆lnL={2*dl_bs_cf1:.2f}, p={p_bs_cf1:.2e}')"
   ]
  },
  {
   "cell_type": "markdown",
   "id": "96d53728-b17d-40c6-b357-1be6712faee4",
   "metadata": {},
   "source": [
    "No evidence of positive selection."
   ]
  },
  {
   "cell_type": "markdown",
   "id": "c309bf2d-3ac4-4c44-a6e9-1a2675cef612",
   "metadata": {
    "tags": []
   },
   "source": [
    "# p697-981"
   ]
  },
  {
   "cell_type": "markdown",
   "id": "ab589149-0692-479d-8271-3f9353516134",
   "metadata": {},
   "source": [
    "## Site models"
   ]
  },
  {
   "cell_type": "markdown",
   "id": "ed2299b6-3b08-4122-8211-87c5608e9bc1",
   "metadata": {
    "jp-MarkdownHeadingCollapsed": true,
    "tags": []
   },
   "source": [
    "### M0,1,2,7,8 (codonfreq=1)"
   ]
  },
  {
   "cell_type": "code",
   "execution_count": 150,
   "id": "28617496",
   "metadata": {},
   "outputs": [],
   "source": [
    "# to allow for this code chunk to be run out of order, first switch back to the script dir\n",
    "os.chdir(script_dir)\n",
    "# change to the first segment analysis dir\n",
    "working_dir = \"../output/paml/B8441-OG-part/p697-981/site-cf1/\"\n",
    "if not os.path.exists(working_dir):\n",
    "    os.mkdir(working_dir)\n",
    "os.chdir(working_dir)"
   ]
  },
  {
   "cell_type": "code",
   "execution_count": 151,
   "id": "3dd4557c",
   "metadata": {
    "tags": []
   },
   "outputs": [],
   "source": [
    "cml = codeml.Codeml()\n",
    "cml.working_dir = \"./\"\n",
    "cml.alignment = \"../B8441-OG-Hil-PF11765-697-981.nuc\"\n",
    "cml.tree = \"../p697-981.nwk\"\n",
    "cml.out_file = \"mlc\""
   ]
  },
  {
   "cell_type": "code",
   "execution_count": 152,
   "id": "51fe7b4e",
   "metadata": {
    "tags": []
   },
   "outputs": [],
   "source": [
    "cml.set_options(\n",
    "    noisy = 2,\n",
    "    verbose = 0,\n",
    "    seqtype = 1,\n",
    "    CodonFreq = 1, # F1x4\n",
    "    clock = 0,\n",
    "    model = 0,     # one ratio for all branches\n",
    "    NSsites = [0,1,2,7,8],\n",
    "    icode = 8,\n",
    "    fix_kappa = 0,\n",
    "    kappa = 2,\n",
    "    fix_omega = 0,\n",
    "    omega = .4,\n",
    "    cleandata = 1,\n",
    "    fix_blength = 0\n",
    ")"
   ]
  },
  {
   "cell_type": "code",
   "execution_count": 153,
   "id": "fcb59eb9",
   "metadata": {
    "tags": []
   },
   "outputs": [],
   "source": [
    "cml.ctl_file = \"codeml.ctl\"\n",
    "cml.write_ctl_file()"
   ]
  },
  {
   "cell_type": "code",
   "execution_count": 154,
   "id": "75bd6c1c",
   "metadata": {},
   "outputs": [],
   "source": [
    "res = cml.run()"
   ]
  },
  {
   "cell_type": "markdown",
   "id": "dbbc2921-f710-4cc8-80f2-3b6a7cf0111c",
   "metadata": {
    "tags": []
   },
   "source": [
    "### M8a (codonfreq=1)"
   ]
  },
  {
   "cell_type": "code",
   "execution_count": 155,
   "id": "a841e156-4765-4c8d-a4fc-a5f9451b47ed",
   "metadata": {},
   "outputs": [],
   "source": [
    "# to allow for this code chunk to be run out of order, first switch back to the script dir\n",
    "os.chdir(script_dir)\n",
    "# change to the first segment analysis dir\n",
    "working_dir = \"../output/paml/B8441-OG-part/p697-981/site-M8a-cf1/\"\n",
    "if not os.path.exists(working_dir):\n",
    "    os.mkdir(working_dir)\n",
    "os.chdir(working_dir)"
   ]
  },
  {
   "cell_type": "code",
   "execution_count": 156,
   "id": "9e860a2b-ebeb-4c74-876f-e17569d7cfe4",
   "metadata": {
    "tags": []
   },
   "outputs": [],
   "source": [
    "cml = codeml.Codeml()\n",
    "cml.working_dir = \"./\"\n",
    "cml.alignment = \"../B8441-OG-Hil-PF11765-697-981.nuc\"\n",
    "cml.tree = \"../p697-981.nwk\"\n",
    "cml.out_file = \"mlc\""
   ]
  },
  {
   "cell_type": "code",
   "execution_count": 157,
   "id": "ab4d933f",
   "metadata": {
    "tags": []
   },
   "outputs": [],
   "source": [
    "cml.set_options(\n",
    "    noisy = 2,\n",
    "    verbose = 0,\n",
    "    seqtype = 1,\n",
    "    CodonFreq = 1, # F1x4\n",
    "    clock = 0,\n",
    "    model = 0,     # one ratio for all branches\n",
    "    NSsites = [8], # M8a\n",
    "    icode = 8,\n",
    "    fix_kappa = 0,\n",
    "    kappa = 2,\n",
    "    fix_omega = 1,\n",
    "    omega = 1,     # fix omega to be 1 as null model\n",
    "    cleandata = 1,\n",
    "    fix_blength = 0\n",
    ")"
   ]
  },
  {
   "cell_type": "code",
   "execution_count": 158,
   "id": "83169f6b",
   "metadata": {
    "tags": []
   },
   "outputs": [],
   "source": [
    "cml.ctl_file = \"codeml.ctl\"\n",
    "cml.write_ctl_file()"
   ]
  },
  {
   "cell_type": "code",
   "execution_count": 159,
   "id": "36082414",
   "metadata": {},
   "outputs": [],
   "source": [
    "res = cml.run()"
   ]
  },
  {
   "cell_type": "markdown",
   "id": "0186751b-4a23-4ffb-9b77-aac1f3c68340",
   "metadata": {
    "tags": []
   },
   "source": [
    "### M0,1,2,7,8 (codonfreq=2)"
   ]
  },
  {
   "cell_type": "code",
   "execution_count": 160,
   "id": "21de7704-b7fb-4871-bce9-920e51938d2f",
   "metadata": {},
   "outputs": [],
   "source": [
    "# to allow for this code chunk to be run out of order, first switch back to the script dir\n",
    "os.chdir(script_dir)\n",
    "# change to the first segment analysis dir\n",
    "working_dir = \"../output/paml/B8441-OG-part/p697-981/site-cf2/\"\n",
    "if not os.path.exists(working_dir):\n",
    "    os.mkdir(working_dir)\n",
    "os.chdir(working_dir)"
   ]
  },
  {
   "cell_type": "code",
   "execution_count": 161,
   "id": "b99eae64-cba7-424b-ba24-d761a142de11",
   "metadata": {
    "tags": []
   },
   "outputs": [],
   "source": [
    "cml = codeml.Codeml()\n",
    "cml.working_dir = \"./\"\n",
    "cml.alignment = \"../B8441-OG-Hil-PF11765-697-981.nuc\"\n",
    "cml.tree = \"../p697-981.nwk\"\n",
    "cml.out_file = \"mlc\""
   ]
  },
  {
   "cell_type": "code",
   "execution_count": 162,
   "id": "c95af5f2",
   "metadata": {
    "tags": []
   },
   "outputs": [],
   "source": [
    "cml.set_options(\n",
    "    noisy = 2,\n",
    "    verbose = 0,\n",
    "    seqtype = 1,\n",
    "    CodonFreq = 2, # F3x4\n",
    "    clock = 0,\n",
    "    model = 0,     # one ratio for all branches\n",
    "    NSsites = [0,1,2,7,8],\n",
    "    icode = 8,\n",
    "    fix_kappa = 0,\n",
    "    kappa = 2,\n",
    "    fix_omega = 0,\n",
    "    omega = .4,\n",
    "    cleandata = 1,\n",
    "    fix_blength = 0\n",
    ")"
   ]
  },
  {
   "cell_type": "code",
   "execution_count": 163,
   "id": "da7dcb14",
   "metadata": {
    "tags": []
   },
   "outputs": [],
   "source": [
    "cml.ctl_file = \"codeml.ctl\"\n",
    "cml.write_ctl_file()"
   ]
  },
  {
   "cell_type": "code",
   "execution_count": 164,
   "id": "a9d282f0",
   "metadata": {},
   "outputs": [],
   "source": [
    "res = cml.run()"
   ]
  },
  {
   "cell_type": "markdown",
   "id": "4227bfd5-c053-45ec-94d2-c01234e0a76d",
   "metadata": {
    "tags": []
   },
   "source": [
    "### M8a (codonfreq=2)"
   ]
  },
  {
   "cell_type": "code",
   "execution_count": 165,
   "id": "64b4fc77-692f-44d5-adbc-82bd65af8072",
   "metadata": {},
   "outputs": [],
   "source": [
    "# to allow for this code chunk to be run out of order, first switch back to the script dir\n",
    "os.chdir(script_dir)\n",
    "# change to the first segment analysis dir\n",
    "working_dir = \"../output/paml/B8441-OG-part/p697-981/site-M8a-cf2/\"\n",
    "if not os.path.exists(working_dir):\n",
    "    os.mkdir(working_dir)\n",
    "os.chdir(working_dir)"
   ]
  },
  {
   "cell_type": "code",
   "execution_count": 166,
   "id": "9603b4c8-7a61-476c-a0e8-73fea9add6ca",
   "metadata": {
    "tags": []
   },
   "outputs": [],
   "source": [
    "cml = codeml.Codeml()\n",
    "cml.working_dir = \"./\"\n",
    "cml.alignment = \"../B8441-OG-Hil-PF11765-697-981.nuc\"\n",
    "cml.tree = \"../p697-981.nwk\"\n",
    "cml.out_file = \"mlc\""
   ]
  },
  {
   "cell_type": "code",
   "execution_count": 167,
   "id": "0fd2f13f",
   "metadata": {
    "tags": []
   },
   "outputs": [],
   "source": [
    "cml.set_options(\n",
    "    noisy = 2,\n",
    "    verbose = 0,\n",
    "    seqtype = 1,\n",
    "    CodonFreq = 2, # F3x4\n",
    "    clock = 0,\n",
    "    model = 0,     # one ratio for all branches\n",
    "    NSsites = [8], # M8a\n",
    "    icode = 8,\n",
    "    fix_kappa = 0,\n",
    "    kappa = 2,\n",
    "    fix_omega = 1, # fix omega = 1 as null\n",
    "    omega = 1,\n",
    "    cleandata = 1,\n",
    "    fix_blength = 0\n",
    ")"
   ]
  },
  {
   "cell_type": "code",
   "execution_count": 168,
   "id": "cc91192e",
   "metadata": {
    "tags": []
   },
   "outputs": [],
   "source": [
    "cml.ctl_file = \"codeml.ctl\"\n",
    "cml.write_ctl_file()"
   ]
  },
  {
   "cell_type": "code",
   "execution_count": 169,
   "id": "6ce5d967",
   "metadata": {},
   "outputs": [],
   "source": [
    "res = cml.run()"
   ]
  },
  {
   "cell_type": "markdown",
   "id": "af0e9524-66bb-4443-b4c7-65d078403d5f",
   "metadata": {},
   "source": [
    "### Site model test result"
   ]
  },
  {
   "cell_type": "code",
   "execution_count": 136,
   "id": "040ffb4a",
   "metadata": {},
   "outputs": [],
   "source": [
    "# to allow for this code chunk to be run out of order, first switch back to the script dir\n",
    "os.chdir(script_dir)\n",
    "# change to the first segment analysis dir\n",
    "working_dir = \"../output/paml/B8441-OG-part/p697-981/\"\n",
    "os.chdir(working_dir)\n"
   ]
  },
  {
   "cell_type": "code",
   "execution_count": 137,
   "id": "36165621-d5d2-45fc-bd53-4c8026146c28",
   "metadata": {},
   "outputs": [],
   "source": [
    "# read site model results into a dictionary\n",
    "site_res1 = {\n",
    "    'cf1': codeml.read('site-cf1/mlc'),\n",
    "    'cf2': codeml.read('site-cf2/mlc'),\n",
    "    'M8a-cf1': codeml.read('site-M8a-cf1/mlc'),\n",
    "    'M8a-cf2': codeml.read('site-M8a-cf2/mlc')\n",
    "}"
   ]
  },
  {
   "cell_type": "code",
   "execution_count": 138,
   "id": "fb34a7da",
   "metadata": {},
   "outputs": [],
   "source": [
    "# process the data and write the output to a csv file\n",
    "data_rows = []\n",
    "for t in site_res1.values():\n",
    "    data_rows += get_site_model_fit(t)\n",
    "fields = ['codonfreq', 'model', 'npar', 'lnL', 'kappa', 'omega', 'description']\n",
    "with open(\"20220729-p697-981-site-model-summary-table.tsv\", \"w\") as f:\n",
    "    write = csv.writer(f, delimiter = \"\\t\")\n",
    "    write.writerow(fields)\n",
    "    write.writerows(data_rows)"
   ]
  },
  {
   "cell_type": "code",
   "execution_count": 140,
   "id": "b9f1237e-0c18-42e3-a437-871f9930a016",
   "metadata": {},
   "outputs": [
    {
     "name": "stdout",
     "output_type": "stream",
     "text": [
      "CodonFreq = 1\n",
      "-- M2a vs M1a --\n",
      "2*dlnL = 0.000, df = 2, LLR P-value = 1.00e+00\n",
      "\n",
      "M2 (F1x4): lnL: -2342.393; np: 20; kappa: 1.641\n",
      "    w: p0=0.598, w0=0.077; p1=0.223, w1=1.000; p2=0.179, w2=1.000; \n",
      "\n",
      "M1 (F1x4): lnL: -2342.393; np: 18; kappa: 1.641\n",
      "    w: p0=0.598, w0=0.077; p1=0.402, w1=1.000; \n",
      "///\n",
      "\n",
      "-- M8 vs M7 --\n",
      "2*dlnL = 9.744, df = 2, LLR P-value = 7.66e-03\n",
      "\n",
      "M8 (F1x4): lnL: -2310.397; np: 20; kappa: 1.507\n",
      "    w: p0=0.948, p=0.514, q=1.907; p1=0.052, w=14.926\n",
      "\n",
      "M7 (F1x4): lnL: -2315.269; np: 18; kappa: 1.448\n",
      "    w: p=0.442, q=1.319\n",
      "///\n",
      "\n",
      "-- M8a vs M8 --\n",
      "2*dlnL = 7.817, df = 1, LLR P-value = 5.18e-03\n",
      "\n",
      "M8 (F1x4): lnL: -2310.397; np: 20; kappa: 1.507\n",
      "    w: p0=0.948, p=0.514, q=1.907; p1=0.052, w=14.926\n",
      "\n",
      "M8a (F1x4): lnL: -2314.305; np: 19; kappa: 1.449\n",
      "    w: p0=0.902, p=0.510, q=2.314; p1=0.098, w=1.000\n",
      "///\n",
      "\n",
      "\n",
      "CodonFreq = 2\n",
      "-- M2a vs M1a --\n",
      "2*dlnL = 4.299, df = 2, LLR P-value = 1.17e-01\n",
      "\n",
      "M2 (F3x4): lnL: -2326.418; np: 20; kappa: 1.346\n",
      "    w: p0=0.660, w0=0.064; p1=0.288, w1=1.000; p2=0.052, w2=20.134; \n",
      "\n",
      "M1 (F3x4): lnL: -2328.567; np: 18; kappa: 1.277\n",
      "    w: p0=0.676, w0=0.060; p1=0.324, w1=1.000; \n",
      "///\n",
      "\n",
      "-- M8 vs M7 --\n",
      "2*dlnL = 7.283, df = 2, LLR P-value = 2.62e-02\n",
      "\n",
      "M8 (F3x4): lnL: -2282.279; np: 20; kappa: 1.326\n",
      "    w: p0=0.939, p=0.518, q=5.868; p1=0.061, w=12.560\n",
      "\n",
      "M7 (F3x4): lnL: -2285.920; np: 18; kappa: 1.517\n",
      "    w: p=0.429, q=5.083\n",
      "///\n",
      "\n",
      "-- M8a vs M8 --\n",
      "2*dlnL = 1.140, df = 1, LLR P-value = 2.86e-01\n",
      "\n",
      "M8 (F3x4): lnL: -2282.279; np: 20; kappa: 1.326\n",
      "    w: p0=0.939, p=0.518, q=5.868; p1=0.061, w=12.560\n",
      "\n",
      "M8a (F3x4): lnL: -2282.849; np: 19; kappa: 1.460\n",
      "    w: p0=0.938, p=0.472, q=7.285; p1=0.062, w=1.000\n",
      "///\n",
      "\n"
     ]
    }
   ],
   "source": [
    "# perform the three pairs of tests\n",
    "print(\"CodonFreq = 1\")\n",
    "print_site_test(site_res1['cf1'], site_res1['M8a-cf1'])\n",
    "print('')                    \n",
    "print(\"CodonFreq = 2\")\n",
    "print_site_test(site_res1['cf2'], site_res1['M8a-cf2'])"
   ]
  },
  {
   "cell_type": "markdown",
   "id": "f5a75a59-f3c9-48fe-ad7b-0c93bcf524a4",
   "metadata": {},
   "source": [
    "to be filled in"
   ]
  },
  {
   "cell_type": "markdown",
   "id": "5c122d6a-5bf5-46cd-853a-a22aa8b9454c",
   "metadata": {},
   "source": [
    "## Branch models"
   ]
  },
  {
   "cell_type": "markdown",
   "id": "51111668-e7ae-4183-9a48-cc3bf6fabfd1",
   "metadata": {
    "tags": []
   },
   "source": [
    "### one ratio (F1x4)"
   ]
  },
  {
   "cell_type": "code",
   "execution_count": 173,
   "id": "75b88990-bb0f-4b62-aed2-80d30a16e268",
   "metadata": {},
   "outputs": [],
   "source": [
    "# to allow for this code chunk to be run out of order, first switch back to the script dir\n",
    "os.chdir(script_dir)\n",
    "# change to the first segment analysis dir\n",
    "working_dir = \"../output/paml/B8441-OG-part/p697-981/branch-1r-cf1/\"\n",
    "if not os.path.exists(working_dir):\n",
    "    os.mkdir(working_dir)\n",
    "os.chdir(working_dir)"
   ]
  },
  {
   "cell_type": "code",
   "execution_count": 174,
   "id": "78dd5c32-ea1a-4603-bdc9-f6cde8ee8b96",
   "metadata": {},
   "outputs": [],
   "source": [
    "cml = codeml.Codeml()\n",
    "cml.working_dir = \"./\"\n",
    "cml.alignment = \"../B8441-OG-Hil-PF11765-697-981.nuc\"\n",
    "cml.tree = \"../p697-981.nwk\"\n",
    "cml.out_file = \"mlc\""
   ]
  },
  {
   "cell_type": "code",
   "execution_count": 175,
   "id": "33822378-0072-436b-b58d-bc31daf55632",
   "metadata": {},
   "outputs": [],
   "source": [
    "cml.set_options(\n",
    "    noisy = 2,\n",
    "    verbose = 0,\n",
    "    seqtype = 1,\n",
    "    CodonFreq = 1,  # F1x4\n",
    "    model = 0,      # 1 ratio\n",
    "    NSsites = [0],\n",
    "    icode = 8,\n",
    "    fix_kappa = 0,\n",
    "    kappa = 2,\n",
    "    fix_omega = 0,\n",
    "    omega = .4,\n",
    "    cleandata = 1,\n",
    "    fix_blength = 0\n",
    ")"
   ]
  },
  {
   "cell_type": "code",
   "execution_count": 176,
   "id": "2426f727-e1e6-4c14-9f03-fc26c7970cd0",
   "metadata": {},
   "outputs": [],
   "source": [
    "cml.ctl_file = \"codeml.ctl\"\n",
    "cml.write_ctl_file()"
   ]
  },
  {
   "cell_type": "code",
   "execution_count": 177,
   "id": "5d9d3aae-ca9c-452a-b766-43c4be668309",
   "metadata": {},
   "outputs": [],
   "source": [
    "res = cml.run()"
   ]
  },
  {
   "cell_type": "markdown",
   "id": "338e0799-d5c2-4237-a500-9ff3d0284888",
   "metadata": {
    "tags": []
   },
   "source": [
    "### free ratio (F1x4)"
   ]
  },
  {
   "cell_type": "code",
   "execution_count": 178,
   "id": "3da94dbb-c1a1-4c59-8541-64b83b9c7ca7",
   "metadata": {},
   "outputs": [],
   "source": [
    "# to allow for this code chunk to be run out of order, first switch back to the script dir\n",
    "os.chdir(script_dir)\n",
    "# change to the first segment analysis dir\n",
    "working_dir = \"../output/paml/B8441-OG-part/p697-981/branch-freer-cf1/\"\n",
    "if not os.path.exists(working_dir):\n",
    "    os.mkdir(working_dir)\n",
    "os.chdir(working_dir)"
   ]
  },
  {
   "cell_type": "code",
   "execution_count": 179,
   "id": "23008fbf-676d-4861-b637-a513d68f6b51",
   "metadata": {},
   "outputs": [],
   "source": [
    "cml = codeml.Codeml()\n",
    "cml.working_dir = \"./\"\n",
    "cml.alignment = \"../B8441-OG-Hil-PF11765-697-981.nuc\"\n",
    "cml.tree = \"../p697-981.nwk\"\n",
    "cml.out_file = \"mlc\""
   ]
  },
  {
   "cell_type": "code",
   "execution_count": 180,
   "id": "1f5098ce-cb11-4245-9902-8c3ca40d476a",
   "metadata": {
    "tags": []
   },
   "outputs": [],
   "source": [
    "cml.set_options(\n",
    "    noisy = 2,\n",
    "    verbose = 0,\n",
    "    seqtype = 1,\n",
    "    CodonFreq = 1,  # F1x4\n",
    "    clock = 0,\n",
    "    model = 1,      # free ratio\n",
    "    NSsites = [0],\n",
    "    icode = 8,\n",
    "    fix_kappa = 0,\n",
    "    kappa = 2,\n",
    "    fix_omega = 0,\n",
    "    omega = .4,\n",
    "    cleandata = 1,\n",
    "    fix_blength = 0\n",
    ")"
   ]
  },
  {
   "cell_type": "code",
   "execution_count": 181,
   "id": "7a757a56-1b4f-4647-bbd6-1ae93068737c",
   "metadata": {
    "tags": []
   },
   "outputs": [],
   "source": [
    "cml.ctl_file = \"codeml.ctl\"\n",
    "cml.write_ctl_file()"
   ]
  },
  {
   "cell_type": "code",
   "execution_count": 182,
   "id": "bc369ebf-1013-46f4-8d80-89f590930326",
   "metadata": {
    "tags": []
   },
   "outputs": [],
   "source": [
    "res = cml.run()"
   ]
  },
  {
   "cell_type": "markdown",
   "id": "173373ba-38be-4a39-b424-a6c74a3f85e9",
   "metadata": {
    "tags": []
   },
   "source": [
    "### one ratio (F3x4)"
   ]
  },
  {
   "cell_type": "code",
   "execution_count": 183,
   "id": "ea4b5cb6-3b6d-444f-a1e2-b19dacbcb5af",
   "metadata": {},
   "outputs": [],
   "source": [
    "# to allow for this code chunk to be run out of order, first switch back to the script dir\n",
    "os.chdir(script_dir)\n",
    "# change to the first segment analysis dir\n",
    "working_dir = \"../output/paml/B8441-OG-part/p697-981/branch-1r-cf2/\"\n",
    "if not os.path.exists(working_dir):\n",
    "    os.mkdir(working_dir)\n",
    "os.chdir(working_dir)"
   ]
  },
  {
   "cell_type": "code",
   "execution_count": 184,
   "id": "7ba92adc-cb75-40fc-a915-25d742369b46",
   "metadata": {},
   "outputs": [],
   "source": [
    "cml = codeml.Codeml()\n",
    "cml.working_dir = \"./\"\n",
    "cml.alignment = \"../B8441-OG-Hil-PF11765-697-981.nuc\"\n",
    "cml.tree = \"../p697-981.nwk\"\n",
    "cml.out_file = \"mlc\""
   ]
  },
  {
   "cell_type": "code",
   "execution_count": 185,
   "id": "155b23c5-b0af-4fb4-bb28-64d680bb8f34",
   "metadata": {
    "tags": []
   },
   "outputs": [],
   "source": [
    "cml.set_options(\n",
    "    noisy = 2,\n",
    "    verbose = 0,\n",
    "    seqtype = 1,\n",
    "    CodonFreq = 2,  # F3x4\n",
    "    model = 0,      # one ratio\n",
    "    NSsites = [0],\n",
    "    icode = 8,\n",
    "    fix_kappa = 0,\n",
    "    kappa = 2,\n",
    "    fix_omega = 0,\n",
    "    omega = .4,\n",
    "    cleandata = 1,\n",
    "    fix_blength = 0\n",
    ")"
   ]
  },
  {
   "cell_type": "code",
   "execution_count": 186,
   "id": "9f8f5252-f749-46a0-a0bc-d189a0e236b5",
   "metadata": {
    "tags": []
   },
   "outputs": [],
   "source": [
    "cml.ctl_file = \"codeml.ctl\"\n",
    "cml.write_ctl_file()"
   ]
  },
  {
   "cell_type": "code",
   "execution_count": 187,
   "id": "698d608a-7fe0-4889-9f67-a98ceb4fcee2",
   "metadata": {
    "tags": []
   },
   "outputs": [],
   "source": [
    "res = cml.run()"
   ]
  },
  {
   "cell_type": "markdown",
   "id": "b2bcf0c5-2edc-43e1-8fb6-5eda8f61692b",
   "metadata": {
    "tags": []
   },
   "source": [
    "### free ratio (F3x4)"
   ]
  },
  {
   "cell_type": "code",
   "execution_count": 188,
   "id": "b429ceda-4da1-48ba-b20b-be463fb785e3",
   "metadata": {},
   "outputs": [],
   "source": [
    "# to allow for this code chunk to be run out of order, first switch back to the script dir\n",
    "os.chdir(script_dir)\n",
    "# change to the first segment analysis dir\n",
    "working_dir = \"../output/paml/B8441-OG-part/p697-981/branch-freer-cf2/\"\n",
    "if not os.path.exists(working_dir):\n",
    "    os.mkdir(working_dir)\n",
    "os.chdir(working_dir)"
   ]
  },
  {
   "cell_type": "code",
   "execution_count": 189,
   "id": "334eeae0-c172-43b5-a995-09027b23315c",
   "metadata": {},
   "outputs": [],
   "source": [
    "cml = codeml.Codeml()\n",
    "cml.working_dir = \"./\"\n",
    "cml.alignment = \"../B8441-OG-Hil-PF11765-697-981.nuc\"\n",
    "cml.tree = \"../p697-981.nwk\"\n",
    "cml.out_file = \"mlc\""
   ]
  },
  {
   "cell_type": "code",
   "execution_count": 190,
   "id": "dbabf871-f18d-4ed7-adc1-53f4b6ec976d",
   "metadata": {
    "tags": []
   },
   "outputs": [],
   "source": [
    "cml.set_options(\n",
    "    noisy = 2,\n",
    "    verbose = 0,\n",
    "    seqtype = 1,\n",
    "    CodonFreq = 2,  # F3x4\n",
    "    clock = 0,\n",
    "    model = 1,      # free ratio\n",
    "    NSsites = [0],\n",
    "    icode = 8,\n",
    "    fix_kappa = 0,\n",
    "    kappa = 2,\n",
    "    fix_omega = 0,\n",
    "    omega = .4,\n",
    "    cleandata = 1,\n",
    "    fix_blength = 0\n",
    ")"
   ]
  },
  {
   "cell_type": "code",
   "execution_count": 191,
   "id": "bb801e02-c59e-4b3f-92f4-1d37e4bfe44d",
   "metadata": {
    "tags": []
   },
   "outputs": [],
   "source": [
    "cml.ctl_file = \"codeml.ctl\"\n",
    "cml.write_ctl_file()"
   ]
  },
  {
   "cell_type": "code",
   "execution_count": 192,
   "id": "acce0e5a-b8ab-4438-b49a-8036e83378e3",
   "metadata": {},
   "outputs": [],
   "source": [
    "res = cml.run()"
   ]
  },
  {
   "cell_type": "markdown",
   "id": "189e11be-03e4-4b1c-8663-450b5b85dae4",
   "metadata": {
    "tags": []
   },
   "source": [
    "### Free vs one-omega models test result\n",
    "First, we reimport all the model results"
   ]
  },
  {
   "cell_type": "code",
   "execution_count": 268,
   "id": "6f747141-793a-4e9b-8f6d-441dcbb418c2",
   "metadata": {},
   "outputs": [],
   "source": [
    "# to allow for this code chunk to be run out of order, first switch back to the script dir\n",
    "os.chdir(script_dir)\n",
    "# change to the first segment analysis dir\n",
    "working_dir = \"../output/paml/B8441-OG-part/p697-981/\"\n",
    "os.chdir(working_dir)\n",
    "branch_res = {\n",
    "    '1r-cf1': codeml.read('branch-1r-cf1/mlc'),\n",
    "    '1r-cf2': codeml.read('branch-1r-cf2/mlc'),\n",
    "    'freer-cf1': codeml.read('branch-freer-cf1/mlc'),\n",
    "    'freer-cf2': codeml.read('branch-freer-cf2/mlc')\n",
    "}"
   ]
  },
  {
   "cell_type": "code",
   "execution_count": 194,
   "id": "7345e742-7734-449c-8436-abfdaa405876",
   "metadata": {},
   "outputs": [
    {
     "name": "stdout",
     "output_type": "stream",
     "text": [
      "Main result (codon model = F1x4)\n",
      "    lnL: -2391.612283; np: 31; kappa: 1.429; w: [0.23095, 0.00445, 998.99991, 0.14377, 0.07403, 999.0, 92.44628, 511.2296, 0.1592, 0.11967, 0.10617, 957.23845, 0.04349, 0.62278, 0.17973]\n",
      "Null model (codon model = F1x4)\n",
      "    lnL: -2411.367957; np: 17; kappa: 1.413; w: 0.18181\n",
      "    2*dlnL = 39.511, df = 14, LLR P-value = 3.04e-04\n"
     ]
    }
   ],
   "source": [
    "print_branch_test(branch_res['freer-cf1'], branch_res['1r-cf1'])"
   ]
  },
  {
   "cell_type": "code",
   "execution_count": 195,
   "id": "59e6664e-48a0-4144-88c2-c697f3d572da",
   "metadata": {},
   "outputs": [
    {
     "name": "stdout",
     "output_type": "stream",
     "text": [
      "Main result (codon model = F3x4)\n",
      "    lnL: -2380.28829; np: 31; kappa: 1.194; w: [0.65755, 0.00425, 999.0, 0.12997, 0.01553, 999.0, 0.1662, 999.0, 0.1177, 0.07865, 999.0, 0.11371, 0.0142, 0.28089, 0.02319]\n",
      "Null model (codon model = F3x4)\n",
      "    lnL: -2391.8604; np: 17; kappa: 1.443; w: 0.03329\n",
      "    2*dlnL = 23.144, df = 14, LLR P-value = 5.80e-02\n"
     ]
    }
   ],
   "source": [
    "print_branch_test(branch_res['freer-cf2'], branch_res['1r-cf2'])"
   ]
  },
  {
   "cell_type": "markdown",
   "id": "6c186144-1f29-47d2-97d4-ea962aa9efc7",
   "metadata": {},
   "source": [
    "there is thus strong evidence for non-equal dN/dS along the branches. But this test is almost always significant because the null hypothesis of homogeneous dN/dS across the entire tree is not realistic under most cases."
   ]
  },
  {
   "cell_type": "markdown",
   "id": "ce9a2446-9602-418b-873c-13533199c725",
   "metadata": {},
   "source": [
    "I plotted the free ratio model estimates on the gene tree using the `ggtree` package in R:\n",
    "![free ratio estimates](../output/figure/20220730-B8441-OG-p697-981-branch-freer-tree.png)\n",
    "\n",
    "For this partition, the two models gave quite similar results.\n"
   ]
  },
  {
   "cell_type": "markdown",
   "id": "9ddf6f0a-07d7-488b-8407-f94c1efd5214",
   "metadata": {},
   "source": [
    "Comparing the two results, I hypothesize that there has been accelerated evolution in the internal branches 11..12, 11..13, 13..14, 14..15 and 15..16. Considering that the placement of Hil7 in the PF11765 domain tree is uncertain (low BS support), and since p1-414 tree placed Hil7 as the outgroup for Hil1, 2, 3, 4, 6 and 8, it is conceivable that Hil7 is still the outgroup here and that the foreground branches encompasses all the internal branches after the divergence of Hil1, 2, 3, 4, 6 and 8 from Hil5 and Hil7."
   ]
  },
  {
   "cell_type": "markdown",
   "id": "09b3b9d4-67d2-4365-82de-401b70c6d5c2",
   "metadata": {
    "tags": []
   },
   "source": [
    "### F1x4, two ratio (w0, w1=w2=w3=w4)"
   ]
  },
  {
   "cell_type": "code",
   "execution_count": 305,
   "id": "87f82335-8b6f-4815-ac4f-72cda70cc144",
   "metadata": {},
   "outputs": [],
   "source": [
    "# to allow for this code chunk to be run out of order, first switch back to the script dir\n",
    "os.chdir(script_dir)\n",
    "# change to the first segment analysis dir\n",
    "working_dir = \"../output/paml/B8441-OG-part/p697-981/branch-2r_all-cf1/\"\n",
    "if not os.path.exists(working_dir):\n",
    "    os.mkdir(working_dir)\n",
    "os.chdir(working_dir)"
   ]
  },
  {
   "cell_type": "code",
   "execution_count": 306,
   "id": "165adae8-a568-4f98-87e4-54b2f0245acf",
   "metadata": {},
   "outputs": [],
   "source": [
    "cml = codeml.Codeml()\n",
    "cml.working_dir = \"./\"\n",
    "cml.alignment = \"../B8441-OG-Hil-PF11765-697-981.nuc\"\n",
    "cml.tree = \"../p697-981-2r_all-cf1.nwk\"\n",
    "cml.out_file = \"mlc\""
   ]
  },
  {
   "cell_type": "code",
   "execution_count": 307,
   "id": "5ef1510a-1710-45ec-b31c-70d298c0122b",
   "metadata": {},
   "outputs": [],
   "source": [
    "cml.set_options(\n",
    "    noisy = 2,\n",
    "    verbose = 0,\n",
    "    seqtype = 1,\n",
    "    CodonFreq = 1, # F1x4 codon\n",
    "    model = 2,     # 2 or more dN/dS ratios for branches\n",
    "    NSsites = [0], # one site class \n",
    "    icode = 8,     # yeast alternative nuclear code\n",
    "    fix_kappa = 0,\n",
    "    kappa = 2,\n",
    "    fix_omega = 0,\n",
    "    omega = .4,\n",
    "    cleandata = 1,\n",
    "    fix_blength = 0\n",
    ")"
   ]
  },
  {
   "cell_type": "code",
   "execution_count": 308,
   "id": "82d8880c-2b2b-42ec-9644-4bb513a37f16",
   "metadata": {},
   "outputs": [],
   "source": [
    "cml.ctl_file = \"codeml.ctl\"\n",
    "cml.write_ctl_file()"
   ]
  },
  {
   "cell_type": "code",
   "execution_count": 309,
   "id": "d4020592-8d3f-4b6b-b9e2-46cfb28ff3e3",
   "metadata": {},
   "outputs": [],
   "source": [
    "res = cml.run()"
   ]
  },
  {
   "cell_type": "code",
   "execution_count": 310,
   "id": "cb82fcf4-34f3-4b34-8317-ca7c5bffafbd",
   "metadata": {},
   "outputs": [
    {
     "name": "stdout",
     "output_type": "stream",
     "text": [
      "Main result (codon model = F1x4)\n",
      "    lnL: -2406.811492; np: 18; kappa: 1.407; w: [0.13764, 1.52567]\n",
      "Null model (codon model = F1x4)\n",
      "    lnL: -2411.367957; np: 17; kappa: 1.413; w: 0.18181\n",
      "    2*dlnL = 9.113, df = 1, LLR P-value = 2.54e-03\n"
     ]
    }
   ],
   "source": [
    "branch_res['2r_all-cf1'] = codeml.read(\"mlc\")\n",
    "print_branch_test(branch_res['2r_all-cf1'], branch_res['1r-cf1'])"
   ]
  },
  {
   "cell_type": "markdown",
   "id": "5a8fa336-72bf-4487-b916-c3de462cee46",
   "metadata": {
    "tags": []
   },
   "source": [
    "### F3x4, two ratio (w0, w1=w2=w3=w4)"
   ]
  },
  {
   "cell_type": "code",
   "execution_count": 311,
   "id": "562b2598-127e-4adc-8b38-8f5055a2641d",
   "metadata": {},
   "outputs": [],
   "source": [
    "# to allow for this code chunk to be run out of order, first switch back to the script dir\n",
    "os.chdir(script_dir)\n",
    "# change to the first segment analysis dir\n",
    "working_dir = \"../output/paml/B8441-OG-part/p697-981/branch-2r_all-cf2/\"\n",
    "if not os.path.exists(working_dir):\n",
    "    os.mkdir(working_dir)\n",
    "os.chdir(working_dir)"
   ]
  },
  {
   "cell_type": "code",
   "execution_count": 312,
   "id": "c3232b18-d45a-4275-94ad-64301b96aeb5",
   "metadata": {},
   "outputs": [],
   "source": [
    "cml = codeml.Codeml()\n",
    "cml.working_dir = \"./\"\n",
    "cml.alignment = \"../B8441-OG-Hil-PF11765-697-981.nuc\"\n",
    "# following the same foreground group choices as for F1x4 model\n",
    "cml.tree = \"../p697-981-2r_all-cf1.nwk\"\n",
    "cml.out_file = \"mlc\""
   ]
  },
  {
   "cell_type": "code",
   "execution_count": 313,
   "id": "8c358221-1a36-4639-8475-b17e0e12aff4",
   "metadata": {},
   "outputs": [],
   "source": [
    "cml.set_options(\n",
    "    noisy = 2,\n",
    "    verbose = 0,\n",
    "    seqtype = 1,\n",
    "    CodonFreq = 2, # F3x4 codon\n",
    "    model = 2,     # 2 or more dN/dS ratios for branches\n",
    "    NSsites = [0], # one site class \n",
    "    icode = 8,     # yeast alternative nuclear code\n",
    "    fix_kappa = 0,\n",
    "    kappa = 2,\n",
    "    fix_omega = 0,\n",
    "    omega = .4,\n",
    "    cleandata = 1,\n",
    "    fix_blength = 0\n",
    ")"
   ]
  },
  {
   "cell_type": "code",
   "execution_count": 314,
   "id": "64f82d20-773f-4b30-8fbb-2ffc4a87ab8a",
   "metadata": {},
   "outputs": [],
   "source": [
    "cml.ctl_file = \"codeml.ctl\"\n",
    "cml.write_ctl_file()"
   ]
  },
  {
   "cell_type": "code",
   "execution_count": 315,
   "id": "d3dfec09-efa7-4c8a-b77b-9f82bad4174d",
   "metadata": {},
   "outputs": [],
   "source": [
    "res = cml.run()"
   ]
  },
  {
   "cell_type": "code",
   "execution_count": 316,
   "id": "16fbd52a-e2c4-44b2-b32a-3e87bcdbe5a4",
   "metadata": {},
   "outputs": [
    {
     "name": "stdout",
     "output_type": "stream",
     "text": [
      "Main result (codon model = F3x4)\n",
      "    lnL: -2389.812147; np: 18; kappa: 1.412; w: [0.03353, 999.0]\n",
      "Null model (codon model = F3x4)\n",
      "    lnL: -2391.8604; np: 17; kappa: 1.443; w: 0.03329\n",
      "    2*dlnL = 4.097, df = 1, LLR P-value = 4.30e-02\n"
     ]
    }
   ],
   "source": [
    "branch_res['2r_all-cf2'] = codeml.read(\"mlc\")\n",
    "print_branch_test(branch_res['2r_all-cf2'], branch_res['1r-cf2'])"
   ]
  },
  {
   "cell_type": "markdown",
   "id": "540c919b-7a7f-4f91-9257-c4c382e8b0bb",
   "metadata": {
    "tags": []
   },
   "source": [
    "### F1x4, two ratio constrained (w0, w1=w2=w3=w4=1)"
   ]
  },
  {
   "cell_type": "code",
   "execution_count": 317,
   "id": "c4eb01ec-015e-444d-b106-d850675afab2",
   "metadata": {},
   "outputs": [],
   "source": [
    "# to allow for this code chunk to be run out of order, first switch back to the script dir\n",
    "os.chdir(script_dir)\n",
    "# change to the first segment analysis dir\n",
    "working_dir = \"../output/paml/B8441-OG-part/p697-981/branch-2r_alleq1-cf1/\"\n",
    "if not os.path.exists(working_dir):\n",
    "    os.mkdir(working_dir)\n",
    "os.chdir(working_dir)"
   ]
  },
  {
   "cell_type": "code",
   "execution_count": 318,
   "id": "60cdf0fe-a6a0-4466-950c-9db9f08ef997",
   "metadata": {},
   "outputs": [],
   "source": [
    "cml = codeml.Codeml()\n",
    "cml.working_dir = \"./\"\n",
    "cml.alignment = \"../B8441-OG-Hil-PF11765-697-981.nuc\"\n",
    "cml.tree = \"../p697-981-2r_all-cf1.nwk\"\n",
    "cml.out_file = \"mlc\""
   ]
  },
  {
   "cell_type": "code",
   "execution_count": 319,
   "id": "a86f6f48-5612-4256-8817-31bd8056039d",
   "metadata": {},
   "outputs": [],
   "source": [
    "cml.set_options(\n",
    "    noisy = 2,\n",
    "    verbose = 0,\n",
    "    seqtype = 1,\n",
    "    CodonFreq = 1, # F1x4 codon\n",
    "    model = 2,     # 2 or more dN/dS ratios for branches\n",
    "    NSsites = [0], # one site class \n",
    "    icode = 8,     # yeast alternative nuclear code\n",
    "    fix_kappa = 0,\n",
    "    kappa = 2,\n",
    "    fix_omega = 1,\n",
    "    omega = 1,\n",
    "    cleandata = 1,\n",
    "    fix_blength = 0\n",
    ")"
   ]
  },
  {
   "cell_type": "code",
   "execution_count": 320,
   "id": "0e52aaa5-271d-4ad2-90e8-ae6ac1654ec9",
   "metadata": {},
   "outputs": [],
   "source": [
    "cml.ctl_file = \"codeml.ctl\"\n",
    "cml.write_ctl_file()"
   ]
  },
  {
   "cell_type": "code",
   "execution_count": 321,
   "id": "5d7f6cc7-21a8-42b0-994d-7996816b16e7",
   "metadata": {},
   "outputs": [],
   "source": [
    "res = cml.run()"
   ]
  },
  {
   "cell_type": "code",
   "execution_count": 322,
   "id": "440e1b79-c627-4591-895c-6ccc7e54c43a",
   "metadata": {},
   "outputs": [
    {
     "name": "stdout",
     "output_type": "stream",
     "text": [
      "Main result (codon model = F1x4)\n",
      "    lnL: -2406.811492; np: 18; kappa: 1.407; w: [0.13764, 1.52567]\n",
      "Null model (codon model = F1x4)\n",
      "    lnL: -2406.843304; np: 17; kappa: 1.406; w: [0.14099, 1.0]\n",
      "    2*dlnL = 0.064, df = 1, LLR P-value = 8.01e-01\n"
     ]
    }
   ],
   "source": [
    "branch_res['2r_alleq1-cf1'] = codeml.read(\"mlc\")\n",
    "print_branch_test(branch_res['2r_all-cf1'], branch_res['2r_alleq1-cf1'])"
   ]
  },
  {
   "cell_type": "markdown",
   "id": "27797eed-4109-47b7-97ad-923148d5c5da",
   "metadata": {},
   "source": [
    "No evidence of positive selection"
   ]
  },
  {
   "cell_type": "markdown",
   "id": "c784754e-088b-45a9-b288-a934f345ffa3",
   "metadata": {
    "tags": []
   },
   "source": [
    "### F3x4, two ratio constrained (w0, w1=w2=w3=w4=1)"
   ]
  },
  {
   "cell_type": "code",
   "execution_count": 323,
   "id": "6050535c-3911-422b-be4b-cfe9784ecb7e",
   "metadata": {},
   "outputs": [],
   "source": [
    "# to allow for this code chunk to be run out of order, first switch back to the script dir\n",
    "os.chdir(script_dir)\n",
    "# change to the first segment analysis dir\n",
    "working_dir = \"../output/paml/B8441-OG-part/p697-981/branch-2r_alleq1-cf2/\"\n",
    "if not os.path.exists(working_dir):\n",
    "    os.mkdir(working_dir)\n",
    "os.chdir(working_dir)"
   ]
  },
  {
   "cell_type": "code",
   "execution_count": 324,
   "id": "1f31173c-00d8-4da3-b070-d397e4d214f1",
   "metadata": {},
   "outputs": [],
   "source": [
    "cml = codeml.Codeml()\n",
    "cml.working_dir = \"./\"\n",
    "cml.alignment = \"../B8441-OG-Hil-PF11765-697-981.nuc\"\n",
    "cml.tree = \"../p697-981-2r_all-cf1.nwk\"\n",
    "cml.out_file = \"mlc\""
   ]
  },
  {
   "cell_type": "code",
   "execution_count": 325,
   "id": "bf3a46f0-3738-47a5-9eb7-e3b3472fe94b",
   "metadata": {},
   "outputs": [],
   "source": [
    "cml.set_options(\n",
    "    noisy = 2,\n",
    "    verbose = 0,\n",
    "    seqtype = 1,\n",
    "    CodonFreq = 2, # F3x4 codon\n",
    "    model = 2,     # 2 or more dN/dS ratios for branches\n",
    "    NSsites = [0], # one site class \n",
    "    icode = 8,     # yeast alternative nuclear code\n",
    "    fix_kappa = 0,\n",
    "    kappa = 2,\n",
    "    fix_omega = 1,\n",
    "    omega = 1,\n",
    "    cleandata = 1,\n",
    "    fix_blength = 0\n",
    ")"
   ]
  },
  {
   "cell_type": "code",
   "execution_count": 326,
   "id": "e3239e69-dc28-45ae-b44c-b5f1c2001bf8",
   "metadata": {},
   "outputs": [],
   "source": [
    "cml.ctl_file = \"codeml.ctl\"\n",
    "cml.write_ctl_file()"
   ]
  },
  {
   "cell_type": "code",
   "execution_count": 327,
   "id": "6079dbe6-6023-4132-869e-5c5d32b43335",
   "metadata": {},
   "outputs": [],
   "source": [
    "res = cml.run()"
   ]
  },
  {
   "cell_type": "code",
   "execution_count": 328,
   "id": "2e68d693-a6a4-422b-ad1c-be1868101032",
   "metadata": {},
   "outputs": [
    {
     "name": "stdout",
     "output_type": "stream",
     "text": [
      "Main result (codon model = F3x4)\n",
      "    lnL: -2389.812147; np: 18; kappa: 1.412; w: [0.03353, 999.0]\n",
      "Null model (codon model = F3x4)\n",
      "    lnL: -2389.952596; np: 17; kappa: 1.414; w: [0.03357, 1.0]\n",
      "    2*dlnL = 0.281, df = 1, LLR P-value = 5.96e-01\n"
     ]
    }
   ],
   "source": [
    "branch_res['2r_alleq1-cf2'] = codeml.read(\"mlc\")\n",
    "print_branch_test(branch_res['2r_all-cf2'], branch_res['2r_alleq1-cf2'])"
   ]
  },
  {
   "cell_type": "markdown",
   "id": "e5688fc2-6502-49a0-bead-dee0cb40814b",
   "metadata": {},
   "source": [
    "No evidence of positive selection"
   ]
  },
  {
   "cell_type": "markdown",
   "id": "4f34f853-5f3d-41ad-8b37-6148c017e516",
   "metadata": {
    "tags": []
   },
   "source": [
    "## Branch-site model\n",
    "This model tests selection on a subset of the sites in a subset of lineages (foreground). The alternative model is specified by `Model A: model = 2, NSsites = 2, fix_omega = 0` and the null model is specified by `Model A1: model = 2, NSsites = 2, fix_omega = 1, omega = 1`"
   ]
  },
  {
   "cell_type": "markdown",
   "id": "069f8e75-f222-4697-9427-7d14e216e272",
   "metadata": {
    "tags": []
   },
   "source": [
    "### Alternative model, (F1x4)"
   ]
  },
  {
   "cell_type": "code",
   "execution_count": 329,
   "id": "0f65f01f-6503-4191-b4dd-202c63a7a45d",
   "metadata": {},
   "outputs": [],
   "source": [
    "# to allow for this code chunk to be run out of order, first switch back to the script dir\n",
    "os.chdir(script_dir)\n",
    "# change to the first segment analysis dir\n",
    "working_dir = \"../output/paml/B8441-OG-part/p697-981/brnsite-alt-2r_all-cf1/\"\n",
    "if not os.path.exists(working_dir):\n",
    "    os.mkdir(working_dir)\n",
    "os.chdir(working_dir)"
   ]
  },
  {
   "cell_type": "code",
   "execution_count": 330,
   "id": "e5aaa271-b2a3-4709-84c7-b727cee62263",
   "metadata": {},
   "outputs": [],
   "source": [
    "cml = codeml.Codeml()\n",
    "cml.working_dir = \"./\"\n",
    "cml.alignment = \"../B8441-OG-Hil-PF11765-697-981.nuc\"\n",
    "cml.tree = \"../p697-981-2r_all-cf1.nwk\"\n",
    "cml.out_file = \"mlc\""
   ]
  },
  {
   "cell_type": "code",
   "execution_count": 331,
   "id": "24587b4d-4249-460f-a6eb-49fda4196165",
   "metadata": {},
   "outputs": [],
   "source": [
    "cml.set_options(\n",
    "    noisy = 2,\n",
    "    verbose = 0,\n",
    "    seqtype = 1,\n",
    "    CodonFreq = 1, # F1x4 model\n",
    "    model = 2,     # 2 or more dN/dS ratios for branches\n",
    "    NSsites = [2], # three classes, constrained, neutral and positive\n",
    "    icode = 8,     # yeast alternative nuclear code\n",
    "    fix_kappa = 0,\n",
    "    kappa = 2,\n",
    "    fix_omega = 0,\n",
    "    omega = .4,\n",
    "    cleandata = 1,\n",
    "    fix_blength = 0\n",
    ")"
   ]
  },
  {
   "cell_type": "code",
   "execution_count": 332,
   "id": "f96a8ed1-3f24-45bb-9434-88f1d44791f8",
   "metadata": {},
   "outputs": [],
   "source": [
    "cml.ctl_file = \"codeml.ctl\"\n",
    "cml.write_ctl_file()"
   ]
  },
  {
   "cell_type": "code",
   "execution_count": 333,
   "id": "2dd86a68-7373-4744-b294-31a7024ec505",
   "metadata": {},
   "outputs": [],
   "source": [
    "res = cml.run()"
   ]
  },
  {
   "cell_type": "markdown",
   "id": "cb53f8e4-d0a3-43dc-8931-d9aa37f77b11",
   "metadata": {},
   "source": [
    "### Null model (F1x4)"
   ]
  },
  {
   "cell_type": "code",
   "execution_count": 334,
   "id": "8477f66a-6795-4daf-b72b-a9da92a83191",
   "metadata": {},
   "outputs": [],
   "source": [
    "# to allow for this code chunk to be run out of order, first switch back to the script dir\n",
    "os.chdir(script_dir)\n",
    "# change to the first segment analysis dir\n",
    "working_dir = \"../output/paml/B8441-OG-part/p697-981/brnsite-null-2r_all-cf1/\"\n",
    "if not os.path.exists(working_dir):\n",
    "    os.mkdir(working_dir)\n",
    "os.chdir(working_dir)"
   ]
  },
  {
   "cell_type": "code",
   "execution_count": 335,
   "id": "183e056f-bdce-4483-8cbf-730f384c5d70",
   "metadata": {},
   "outputs": [],
   "source": [
    "cml = codeml.Codeml()\n",
    "cml.working_dir = \"./\"\n",
    "cml.alignment = \"../B8441-OG-Hil-PF11765-697-981.nuc\"\n",
    "cml.tree = \"../p697-981-2r_all-cf1.nwk\"\n",
    "cml.out_file = \"mlc\""
   ]
  },
  {
   "cell_type": "code",
   "execution_count": 336,
   "id": "6695f31c-2129-4279-aefc-7c10f5015f1e",
   "metadata": {},
   "outputs": [],
   "source": [
    "cml.set_options(\n",
    "    noisy = 2,\n",
    "    verbose = 0,\n",
    "    seqtype = 1,\n",
    "    CodonFreq = 1, # F1x4 model\n",
    "    model = 2,     # 2 or more dN/dS ratios for branches\n",
    "    NSsites = [2], # three classes, constrained, neutral and positive\n",
    "    icode = 8,     # yeast alternative nuclear code\n",
    "    fix_kappa = 0,\n",
    "    kappa = 2,\n",
    "    fix_omega = 1,\n",
    "    omega = 1,\n",
    "    cleandata = 1,\n",
    "    fix_blength = 0\n",
    ")"
   ]
  },
  {
   "cell_type": "code",
   "execution_count": 337,
   "id": "99b2b9c9-b5ca-446c-a00b-872d6e4bd1c2",
   "metadata": {},
   "outputs": [],
   "source": [
    "cml.ctl_file = \"codeml.ctl\"\n",
    "cml.write_ctl_file()"
   ]
  },
  {
   "cell_type": "code",
   "execution_count": 338,
   "id": "7c550236-f971-43fe-8e84-b4d2cc3fc09d",
   "metadata": {},
   "outputs": [],
   "source": [
    "res = cml.run()"
   ]
  },
  {
   "cell_type": "markdown",
   "id": "813b9125-738a-471c-a59d-c12c1d526b8e",
   "metadata": {
    "tags": []
   },
   "source": [
    "### Alternative model, (F3x4)"
   ]
  },
  {
   "cell_type": "code",
   "execution_count": 141,
   "id": "9a03f5c1-807e-4104-819f-cdbbe1fb79f8",
   "metadata": {},
   "outputs": [],
   "source": [
    "# to allow for this code chunk to be run out of order, first switch back to the script dir\n",
    "os.chdir(script_dir)\n",
    "# change to the first segment analysis dir\n",
    "working_dir = \"../output/paml/B8441-OG-part/p697-981/brnsite-alt-2r_all-cf2/\"\n",
    "if not os.path.exists(working_dir):\n",
    "    os.mkdir(working_dir)\n",
    "os.chdir(working_dir)"
   ]
  },
  {
   "cell_type": "code",
   "execution_count": 142,
   "id": "2f1345e7-3784-4571-9fee-f48c02dcf1ae",
   "metadata": {},
   "outputs": [],
   "source": [
    "cml = codeml.Codeml()\n",
    "cml.working_dir = \"./\"\n",
    "cml.alignment = \"../B8441-OG-Hil-PF11765-697-981.nuc\"\n",
    "cml.tree = \"../p697-981-2r_all-cf1.nwk\"\n",
    "cml.out_file = \"mlc\""
   ]
  },
  {
   "cell_type": "code",
   "execution_count": 143,
   "id": "b17a259c-359c-4b50-8a0c-14c34876d54e",
   "metadata": {},
   "outputs": [],
   "source": [
    "cml.set_options(\n",
    "    noisy = 2,\n",
    "    verbose = 0,\n",
    "    seqtype = 1,\n",
    "    CodonFreq = 2, # F3x4 model\n",
    "    model = 2,     # 2 or more dN/dS ratios for branches\n",
    "    NSsites = [2], # three classes, constrained, neutral and positive\n",
    "    icode = 8,     # yeast alternative nuclear code\n",
    "    fix_kappa = 0,\n",
    "    kappa = 2,\n",
    "    fix_omega = 0,\n",
    "    omega = .4,\n",
    "    cleandata = 1,\n",
    "    fix_blength = 0\n",
    ")"
   ]
  },
  {
   "cell_type": "code",
   "execution_count": 144,
   "id": "27ff7e24-cdfe-412f-b535-9660a5b4f2cc",
   "metadata": {},
   "outputs": [],
   "source": [
    "cml.ctl_file = \"codeml.ctl\"\n",
    "cml.write_ctl_file()"
   ]
  },
  {
   "cell_type": "code",
   "execution_count": 145,
   "id": "5d17f1ad-4116-4ff6-b55f-8c45fa92da53",
   "metadata": {},
   "outputs": [],
   "source": [
    "res = cml.run()"
   ]
  },
  {
   "cell_type": "markdown",
   "id": "f649e60a-e76e-43f4-b965-8aca19e8ad98",
   "metadata": {},
   "source": [
    "### Null model (F3x4)"
   ]
  },
  {
   "cell_type": "code",
   "execution_count": 146,
   "id": "1063dd50-5606-42a2-90e1-228ac253e663",
   "metadata": {},
   "outputs": [],
   "source": [
    "# to allow for this code chunk to be run out of order, first switch back to the script dir\n",
    "os.chdir(script_dir)\n",
    "# change to the first segment analysis dir\n",
    "working_dir = \"../output/paml/B8441-OG-part/p697-981/brnsite-null-2r_all-cf2/\"\n",
    "if not os.path.exists(working_dir):\n",
    "    os.mkdir(working_dir)\n",
    "os.chdir(working_dir)"
   ]
  },
  {
   "cell_type": "code",
   "execution_count": 147,
   "id": "a05a5fae-f5b0-4116-a4e5-87e10ca1dc3c",
   "metadata": {},
   "outputs": [],
   "source": [
    "cml = codeml.Codeml()\n",
    "cml.working_dir = \"./\"\n",
    "cml.alignment = \"../B8441-OG-Hil-PF11765-697-981.nuc\"\n",
    "cml.tree = \"../p697-981-2r_all-cf1.nwk\"\n",
    "cml.out_file = \"mlc\""
   ]
  },
  {
   "cell_type": "code",
   "execution_count": 148,
   "id": "b251a5f7-89ff-4929-be6d-5f8840f2f21e",
   "metadata": {},
   "outputs": [],
   "source": [
    "cml.set_options(\n",
    "    noisy = 2,\n",
    "    verbose = 0,\n",
    "    seqtype = 1,\n",
    "    CodonFreq = 2, # F3x4 model\n",
    "    model = 2,     # 2 or more dN/dS ratios for branches\n",
    "    NSsites = [2], # three classes, constrained, neutral and positive\n",
    "    icode = 8,     # yeast alternative nuclear code\n",
    "    fix_kappa = 0,\n",
    "    kappa = 2,\n",
    "    fix_omega = 1,\n",
    "    omega = 1,\n",
    "    cleandata = 1,\n",
    "    fix_blength = 0\n",
    ")"
   ]
  },
  {
   "cell_type": "code",
   "execution_count": 149,
   "id": "7a3e1eb9-1a97-4352-bb22-5e47a6662f94",
   "metadata": {},
   "outputs": [],
   "source": [
    "cml.ctl_file = \"codeml.ctl\"\n",
    "cml.write_ctl_file()"
   ]
  },
  {
   "cell_type": "code",
   "execution_count": 150,
   "id": "0f90e2fd-0622-471b-9fe4-8d4f735676ef",
   "metadata": {},
   "outputs": [],
   "source": [
    "res = cml.run()"
   ]
  },
  {
   "cell_type": "markdown",
   "id": "7e007357-ec18-4993-a60f-9e5341f313c1",
   "metadata": {},
   "source": [
    "### Branch-site model test"
   ]
  },
  {
   "cell_type": "code",
   "execution_count": 151,
   "id": "2eacd250-e13c-410a-aba5-72f2fb6f37cf",
   "metadata": {},
   "outputs": [],
   "source": [
    "# to allow for this code chunk to be run out of order, first switch back to the script dir\n",
    "os.chdir(script_dir)\n",
    "# change to the first segment analysis dir\n",
    "working_dir = \"../output/paml/B8441-OG-part/p697-981/\"\n",
    "os.chdir(working_dir)\n",
    "brnsite_res = {\n",
    "    'alt-2r_all-cf1': codeml.read('brnsite-alt-2r_all-cf1/mlc'),\n",
    "    'null-2r_all-cf1': codeml.read('brnsite-null-2r_all-cf1/mlc'),\n",
    "    'alt-2r_all-cf2': codeml.read('brnsite-alt-2r_all-cf2/mlc'),\n",
    "    'null-2r_all-cf2': codeml.read('brnsite-null-2r_all-cf2/mlc')\n",
    "}"
   ]
  },
  {
   "cell_type": "code",
   "execution_count": 152,
   "id": "659e2b65-cbb7-44f2-afb1-d338eee29d58",
   "metadata": {},
   "outputs": [
    {
     "name": "stdout",
     "output_type": "stream",
     "text": [
      "Testing branch site models, with CodonFreq=1\n",
      "df=1, 2*∆lnL=11.82, p=5.85e-04\n"
     ]
    }
   ],
   "source": [
    "dl_bs_cf1 = get_ll(brnsite_res['alt-2r_all-cf1'], m = 2) - get_ll(brnsite_res['null-2r_all-cf1'], m = 2)\n",
    "df_bs_cf1 = get_np(brnsite_res['alt-2r_all-cf1'], m = 2) - get_np(brnsite_res['null-2r_all-cf1'], m = 2)\n",
    "p_bs_cf1 = 1 - chi2.cdf(2*dl_bs_cf1, df = df_bs_cf1)\n",
    "print(\"Testing branch site models, with CodonFreq=1\")\n",
    "print(f'df={df_bs_cf1}, 2*∆lnL={2*dl_bs_cf1:.2f}, p={p_bs_cf1:.2e}')"
   ]
  },
  {
   "cell_type": "code",
   "execution_count": 153,
   "id": "435e9127-6760-4c2c-9e48-947835911634",
   "metadata": {},
   "outputs": [
    {
     "name": "stdout",
     "output_type": "stream",
     "text": [
      "Testing branch site models, with CodonFreq=2\n",
      "df=1, 2*∆lnL=8.94, p=2.78e-03\n"
     ]
    }
   ],
   "source": [
    "dl_bs_cf2 = get_ll(brnsite_res['alt-2r_all-cf2'], m = 2) - get_ll(brnsite_res['null-2r_all-cf2'], m = 2)\n",
    "df_bs_cf2 = get_np(brnsite_res['alt-2r_all-cf2'], m = 2) - get_np(brnsite_res['null-2r_all-cf2'], m = 2)\n",
    "p_bs_cf2 = 1 - chi2.cdf(2*dl_bs_cf2, df = df_bs_cf2)\n",
    "print(\"Testing branch site models, with CodonFreq=2\")\n",
    "print(f'df={df_bs_cf2}, 2*∆lnL={2*dl_bs_cf2:.2f}, p={p_bs_cf2:.2e}')"
   ]
  },
  {
   "cell_type": "markdown",
   "id": "2f6d5cfc-7763-4ef4-9baa-8a7649f75537",
   "metadata": {
    "toc-hr-collapsed": true
   },
   "source": [
    "# p1-414+697-981\n",
    "Joining the first two partitions"
   ]
  },
  {
   "cell_type": "markdown",
   "id": "31b75e94-5d03-4e70-8291-a4a1d219b0e1",
   "metadata": {},
   "source": [
    "## Site models"
   ]
  },
  {
   "cell_type": "markdown",
   "id": "e67adee0-bb65-44bc-9c2a-d1891a1907ba",
   "metadata": {
    "jp-MarkdownHeadingCollapsed": true,
    "tags": []
   },
   "source": [
    "### M0,1,2,7,8 (codonfreq=1)"
   ]
  },
  {
   "cell_type": "code",
   "execution_count": 196,
   "id": "3c6c048a-100c-4333-86ab-656aceb9fd43",
   "metadata": {},
   "outputs": [],
   "source": [
    "# to allow for this code chunk to be run out of order, first switch back to the script dir\n",
    "os.chdir(script_dir)\n",
    "# change to the first segment analysis dir\n",
    "working_dir = \"../output/paml/B8441-OG-part/p1-414_697-981/site-cf1/\"\n",
    "if not os.path.exists(working_dir):\n",
    "    os.mkdir(working_dir)\n",
    "os.chdir(working_dir)"
   ]
  },
  {
   "cell_type": "code",
   "execution_count": 197,
   "id": "aa078d42-5c80-49b1-97be-ce3560b7d413",
   "metadata": {
    "tags": []
   },
   "outputs": [],
   "source": [
    "cml = codeml.Codeml()\n",
    "cml.working_dir = \"./\"\n",
    "cml.alignment = \"../B8441-OG-Hil-PF11765-1-414_697-981.nuc\"\n",
    "cml.tree = \"../p1-414_697-981.nwk\"\n",
    "cml.out_file = \"mlc\""
   ]
  },
  {
   "cell_type": "code",
   "execution_count": 198,
   "id": "2addedc2-980f-4fe0-bffc-ddca23d40435",
   "metadata": {
    "tags": []
   },
   "outputs": [],
   "source": [
    "cml.set_options(\n",
    "    noisy = 2,\n",
    "    verbose = 0,\n",
    "    seqtype = 1,\n",
    "    CodonFreq = 1, # F1x4\n",
    "    clock = 0,\n",
    "    model = 0,     # one ratio for all branches\n",
    "    NSsites = [0,1,2,7,8],\n",
    "    icode = 8,\n",
    "    fix_kappa = 0,\n",
    "    kappa = 2,\n",
    "    fix_omega = 0,\n",
    "    omega = .4,\n",
    "    cleandata = 1,\n",
    "    fix_blength = 0\n",
    ")"
   ]
  },
  {
   "cell_type": "code",
   "execution_count": 199,
   "id": "619f1e84-42e1-48f8-8622-4eaed04e74c0",
   "metadata": {
    "tags": []
   },
   "outputs": [],
   "source": [
    "cml.ctl_file = \"codeml.ctl\"\n",
    "cml.write_ctl_file()"
   ]
  },
  {
   "cell_type": "code",
   "execution_count": 200,
   "id": "d12d0792-c640-408a-bcee-c1cc0b18c21b",
   "metadata": {},
   "outputs": [],
   "source": [
    "res = cml.run()"
   ]
  },
  {
   "cell_type": "markdown",
   "id": "45b7b1c9-526c-4d60-a892-b3b4c391b993",
   "metadata": {
    "tags": []
   },
   "source": [
    "### M8a (codonfreq=1)"
   ]
  },
  {
   "cell_type": "code",
   "execution_count": 201,
   "id": "4756473a-8323-4c5a-ac4f-fe8da7213bea",
   "metadata": {},
   "outputs": [],
   "source": [
    "# to allow for this code chunk to be run out of order, first switch back to the script dir\n",
    "os.chdir(script_dir)\n",
    "# change to the first segment analysis dir\n",
    "working_dir = \"../output/paml/B8441-OG-part/p1-414_697-981/site-M8a-cf1/\"\n",
    "if not os.path.exists(working_dir):\n",
    "    os.mkdir(working_dir)\n",
    "os.chdir(working_dir)"
   ]
  },
  {
   "cell_type": "code",
   "execution_count": 202,
   "id": "549c0aad-fcb5-4406-a4ba-106ec34b4427",
   "metadata": {
    "tags": []
   },
   "outputs": [],
   "source": [
    "cml = codeml.Codeml()\n",
    "cml.working_dir = \"./\"\n",
    "cml.alignment = \"../B8441-OG-Hil-PF11765-1-414_697-981.nuc\"\n",
    "cml.tree = \"../p1-414_697-981.nwk\"\n",
    "cml.out_file = \"mlc\""
   ]
  },
  {
   "cell_type": "code",
   "execution_count": 203,
   "id": "caedef82-d119-4e0b-8061-b2109819038c",
   "metadata": {
    "tags": []
   },
   "outputs": [],
   "source": [
    "cml.set_options(\n",
    "    noisy = 2,\n",
    "    verbose = 0,\n",
    "    seqtype = 1,\n",
    "    CodonFreq = 1, # F1x4\n",
    "    clock = 0,\n",
    "    model = 0,     # one ratio for all branches\n",
    "    NSsites = [8], # M8a\n",
    "    icode = 8,\n",
    "    fix_kappa = 0,\n",
    "    kappa = 2,\n",
    "    fix_omega = 1,\n",
    "    omega = 1,     # fix omega to be 1 as null model\n",
    "    cleandata = 1,\n",
    "    fix_blength = 0\n",
    ")"
   ]
  },
  {
   "cell_type": "code",
   "execution_count": 204,
   "id": "7b540588-cdee-4073-97c1-a3b50f56eb55",
   "metadata": {
    "tags": []
   },
   "outputs": [],
   "source": [
    "cml.ctl_file = \"codeml.ctl\"\n",
    "cml.write_ctl_file()"
   ]
  },
  {
   "cell_type": "code",
   "execution_count": 205,
   "id": "12d4f670-c916-4078-a3bc-11ae6ed80af4",
   "metadata": {},
   "outputs": [],
   "source": [
    "res = cml.run()"
   ]
  },
  {
   "cell_type": "markdown",
   "id": "6398982a-67b6-45e2-887a-8ee828ea07a9",
   "metadata": {
    "tags": []
   },
   "source": [
    "### M0,1,2,7,8 (codonfreq=2)"
   ]
  },
  {
   "cell_type": "code",
   "execution_count": 206,
   "id": "7b962317-0989-4cf7-8c8f-7b6e6d72b863",
   "metadata": {},
   "outputs": [],
   "source": [
    "# to allow for this code chunk to be run out of order, first switch back to the script dir\n",
    "os.chdir(script_dir)\n",
    "# change to the first segment analysis dir\n",
    "working_dir = \"../output/paml/B8441-OG-part/p1-414_697-981/site-cf2/\"\n",
    "if not os.path.exists(working_dir):\n",
    "    os.mkdir(working_dir)\n",
    "os.chdir(working_dir)"
   ]
  },
  {
   "cell_type": "code",
   "execution_count": 207,
   "id": "7bda0dad-9e6f-4288-925a-0fd67a75a26a",
   "metadata": {
    "tags": []
   },
   "outputs": [],
   "source": [
    "cml = codeml.Codeml()\n",
    "cml.working_dir = \"./\"\n",
    "cml.alignment = \"../B8441-OG-Hil-PF11765-1-414_697-981.nuc\"\n",
    "cml.tree = \"../p1-414_697-981.nwk\"\n",
    "cml.out_file = \"mlc\""
   ]
  },
  {
   "cell_type": "code",
   "execution_count": 208,
   "id": "99b4b6d8-e6ea-4e9a-8824-0802291b957b",
   "metadata": {
    "tags": []
   },
   "outputs": [],
   "source": [
    "cml.set_options(\n",
    "    noisy = 2,\n",
    "    verbose = 0,\n",
    "    seqtype = 1,\n",
    "    CodonFreq = 2, # F3x4\n",
    "    clock = 0,\n",
    "    model = 0,     # one ratio for all branches\n",
    "    NSsites = [0,1,2,7,8],\n",
    "    icode = 8,\n",
    "    fix_kappa = 0,\n",
    "    kappa = 2,\n",
    "    fix_omega = 0,\n",
    "    omega = .4,\n",
    "    cleandata = 1,\n",
    "    fix_blength = 0\n",
    ")"
   ]
  },
  {
   "cell_type": "code",
   "execution_count": 209,
   "id": "87b71887-4bba-4e45-8658-3f75452850f9",
   "metadata": {
    "tags": []
   },
   "outputs": [],
   "source": [
    "cml.ctl_file = \"codeml.ctl\"\n",
    "cml.write_ctl_file()"
   ]
  },
  {
   "cell_type": "code",
   "execution_count": 210,
   "id": "3059e463-a36d-4f0d-acd8-13aff4ce1c85",
   "metadata": {},
   "outputs": [],
   "source": [
    "res = cml.run()"
   ]
  },
  {
   "cell_type": "markdown",
   "id": "5c317abb-375a-4690-8bf4-1c13c86be786",
   "metadata": {
    "tags": []
   },
   "source": [
    "### M8a (codonfreq=2)"
   ]
  },
  {
   "cell_type": "code",
   "execution_count": 211,
   "id": "d8e8bddd-215a-41bb-bf6a-6571bbf45c4d",
   "metadata": {},
   "outputs": [],
   "source": [
    "# to allow for this code chunk to be run out of order, first switch back to the script dir\n",
    "os.chdir(script_dir)\n",
    "# change to the first segment analysis dir\n",
    "working_dir = \"../output/paml/B8441-OG-part/p1-414_697-981/site-M8a-cf2/\"\n",
    "if not os.path.exists(working_dir):\n",
    "    os.mkdir(working_dir)\n",
    "os.chdir(working_dir)"
   ]
  },
  {
   "cell_type": "code",
   "execution_count": 212,
   "id": "24a94af9-bed8-45c9-b662-b4a9dd567586",
   "metadata": {
    "tags": []
   },
   "outputs": [],
   "source": [
    "cml = codeml.Codeml()\n",
    "cml.working_dir = \"./\"\n",
    "cml.alignment = \"../B8441-OG-Hil-PF11765-1-414_697-981.nuc\"\n",
    "cml.tree = \"../p1-414_697-981.nwk\"\n",
    "cml.out_file = \"mlc\""
   ]
  },
  {
   "cell_type": "code",
   "execution_count": 213,
   "id": "c2bb3004-953a-4cd9-9987-1314245fb1af",
   "metadata": {
    "tags": []
   },
   "outputs": [],
   "source": [
    "cml.set_options(\n",
    "    noisy = 2,\n",
    "    verbose = 0,\n",
    "    seqtype = 1,\n",
    "    CodonFreq = 2, # F3x4\n",
    "    clock = 0,\n",
    "    model = 0,     # one ratio for all branches\n",
    "    NSsites = [8], # M8a\n",
    "    icode = 8,\n",
    "    fix_kappa = 0,\n",
    "    kappa = 2,\n",
    "    fix_omega = 1, # fix omega = 1 as null\n",
    "    omega = 1,\n",
    "    cleandata = 1,\n",
    "    fix_blength = 0\n",
    ")"
   ]
  },
  {
   "cell_type": "code",
   "execution_count": 214,
   "id": "77e1b4ad-3514-42c4-b376-5535122fdf10",
   "metadata": {
    "tags": []
   },
   "outputs": [],
   "source": [
    "cml.ctl_file = \"codeml.ctl\"\n",
    "cml.write_ctl_file()"
   ]
  },
  {
   "cell_type": "code",
   "execution_count": 215,
   "id": "87e01fc6-2bd3-47e4-b74f-44eaa293e304",
   "metadata": {},
   "outputs": [],
   "source": [
    "res = cml.run()"
   ]
  },
  {
   "cell_type": "markdown",
   "id": "4fa9bf62-0568-4978-8e05-f87241ca22a4",
   "metadata": {},
   "source": [
    "### Site model test result"
   ]
  },
  {
   "cell_type": "code",
   "execution_count": 216,
   "id": "2ec40062-9659-4b9b-9117-c976f71ec29c",
   "metadata": {},
   "outputs": [],
   "source": [
    "# to allow for this code chunk to be run out of order, first switch back to the script dir\n",
    "os.chdir(script_dir)\n",
    "# change to the first segment analysis dir\n",
    "working_dir = \"../output/paml/B8441-OG-part/p1-414_697-981/\"\n",
    "os.chdir(working_dir)\n"
   ]
  },
  {
   "cell_type": "code",
   "execution_count": 217,
   "id": "59e2e987-0059-416c-ba2f-352b857fb549",
   "metadata": {},
   "outputs": [],
   "source": [
    "# read site model results into a dictionary\n",
    "site_res1 = {\n",
    "    'cf1': codeml.read('site-cf1/mlc'),\n",
    "    'cf2': codeml.read('site-cf2/mlc'),\n",
    "    'M8a-cf1': codeml.read('site-M8a-cf1/mlc'),\n",
    "    'M8a-cf2': codeml.read('site-M8a-cf2/mlc')\n",
    "}"
   ]
  },
  {
   "cell_type": "code",
   "execution_count": 218,
   "id": "be68248c-ca7d-4af2-8695-63374a356c03",
   "metadata": {},
   "outputs": [],
   "source": [
    "# process the data and write the output to a csv file\n",
    "data_rows = []\n",
    "for t in site_res1.values():\n",
    "    data_rows += get_site_model_fit(t)\n",
    "fields = ['codonfreq', 'model', 'npar', 'lnL', 'kappa', 'omega', 'description']\n",
    "with open(\"20220730-p1-414_697-981-site-model-summary-table.tsv\", \"w\") as f:\n",
    "    write = csv.writer(f, delimiter = \"\\t\")\n",
    "    write.writerow(fields)\n",
    "    write.writerows(data_rows)"
   ]
  },
  {
   "cell_type": "markdown",
   "id": "29ab64ec-cf1c-4789-ac18-f45ad8da51c2",
   "metadata": {},
   "source": [
    "## Branch models"
   ]
  },
  {
   "cell_type": "markdown",
   "id": "57c0daa2-832d-42d2-a22b-b1846a090a9c",
   "metadata": {
    "tags": []
   },
   "source": [
    "### one ratio (F1x4)"
   ]
  },
  {
   "cell_type": "code",
   "execution_count": 219,
   "id": "ef61fd50-884f-4a45-b830-3f650ab9b143",
   "metadata": {},
   "outputs": [],
   "source": [
    "# to allow for this code chunk to be run out of order, first switch back to the script dir\n",
    "os.chdir(script_dir)\n",
    "# change to the first segment analysis dir\n",
    "working_dir = \"../output/paml/B8441-OG-part/p1-414_697-981/branch-1r-cf1/\"\n",
    "if not os.path.exists(working_dir):\n",
    "    os.mkdir(working_dir)\n",
    "os.chdir(working_dir)"
   ]
  },
  {
   "cell_type": "code",
   "execution_count": 241,
   "id": "47093539-e06a-4263-8026-86ea641834df",
   "metadata": {},
   "outputs": [],
   "source": [
    "cml = codeml.Codeml()\n",
    "cml.working_dir = \"./\"\n",
    "cml.alignment = \"../B8441-OG-Hil-PF11765-1-414_697-981.nuc\"\n",
    "cml.tree = \"../p1-414_697-981.nwk\"\n",
    "cml.out_file = \"mlc\""
   ]
  },
  {
   "cell_type": "code",
   "execution_count": 242,
   "id": "6f163562-dd68-4066-b7ed-705a9f131eac",
   "metadata": {},
   "outputs": [],
   "source": [
    "cml.set_options(\n",
    "    noisy = 2,\n",
    "    verbose = 0,\n",
    "    seqtype = 1,\n",
    "    CodonFreq = 1,  # F1x4\n",
    "    model = 0,      # 1 ratio\n",
    "    NSsites = [0],\n",
    "    icode = 8,\n",
    "    fix_kappa = 0,\n",
    "    kappa = 2,\n",
    "    fix_omega = 0,\n",
    "    omega = .4,\n",
    "    cleandata = 1,\n",
    "    fix_blength = 0\n",
    ")"
   ]
  },
  {
   "cell_type": "code",
   "execution_count": 243,
   "id": "33645283-eb3f-4303-9e19-3d14e7ed0236",
   "metadata": {},
   "outputs": [],
   "source": [
    "cml.ctl_file = \"codeml.ctl\"\n",
    "cml.write_ctl_file()"
   ]
  },
  {
   "cell_type": "code",
   "execution_count": 244,
   "id": "e90420cf-18f5-40e4-a50b-987a459fcde5",
   "metadata": {},
   "outputs": [],
   "source": [
    "res = cml.run()"
   ]
  },
  {
   "cell_type": "markdown",
   "id": "c2dc008e-71c7-424c-aca5-d366218c4753",
   "metadata": {
    "tags": []
   },
   "source": [
    "### free ratio (F1x4)"
   ]
  },
  {
   "cell_type": "code",
   "execution_count": 245,
   "id": "a05158ba-48d7-4ff7-9540-2fe1ae4a68eb",
   "metadata": {},
   "outputs": [],
   "source": [
    "# to allow for this code chunk to be run out of order, first switch back to the script dir\n",
    "os.chdir(script_dir)\n",
    "# change to the first segment analysis dir\n",
    "working_dir = \"../output/paml/B8441-OG-part/p1-414_697-981/branch-freer-cf1/\"\n",
    "if not os.path.exists(working_dir):\n",
    "    os.mkdir(working_dir)\n",
    "os.chdir(working_dir)"
   ]
  },
  {
   "cell_type": "code",
   "execution_count": 246,
   "id": "0e26d5f3-72bf-441f-8f30-1c9e8037289d",
   "metadata": {},
   "outputs": [],
   "source": [
    "cml = codeml.Codeml()\n",
    "cml.working_dir = \"./\"\n",
    "cml.alignment = \"../B8441-OG-Hil-PF11765-1-414_697-981.nuc\"\n",
    "cml.tree = \"../p1-414_697-981.nwk\"\n",
    "cml.out_file = \"mlc\""
   ]
  },
  {
   "cell_type": "code",
   "execution_count": 247,
   "id": "b043d2e3-4ce5-4672-9eef-da3f2ae4f231",
   "metadata": {
    "tags": []
   },
   "outputs": [],
   "source": [
    "cml.set_options(\n",
    "    noisy = 2,\n",
    "    verbose = 0,\n",
    "    seqtype = 1,\n",
    "    CodonFreq = 1,  # F1x4\n",
    "    clock = 0,\n",
    "    model = 1,      # free ratio\n",
    "    NSsites = [0],\n",
    "    icode = 8,\n",
    "    fix_kappa = 0,\n",
    "    kappa = 2,\n",
    "    fix_omega = 0,\n",
    "    omega = .4,\n",
    "    cleandata = 1,\n",
    "    fix_blength = 0\n",
    ")"
   ]
  },
  {
   "cell_type": "code",
   "execution_count": 248,
   "id": "d187d5e0-29c9-428c-ad56-fa34c9f9d032",
   "metadata": {
    "tags": []
   },
   "outputs": [],
   "source": [
    "cml.ctl_file = \"codeml.ctl\"\n",
    "cml.write_ctl_file()"
   ]
  },
  {
   "cell_type": "code",
   "execution_count": 249,
   "id": "70cf8b5c-c14d-4e0d-9e02-c2e9d54d550b",
   "metadata": {
    "tags": []
   },
   "outputs": [],
   "source": [
    "res = cml.run()"
   ]
  },
  {
   "cell_type": "markdown",
   "id": "463ca666-0dbb-4796-accd-3cbad328cfa3",
   "metadata": {
    "tags": []
   },
   "source": [
    "### one ratio (F3x4)"
   ]
  },
  {
   "cell_type": "code",
   "execution_count": 250,
   "id": "14860a52-6d2f-4ca5-9dfb-4db200d055dd",
   "metadata": {},
   "outputs": [],
   "source": [
    "# to allow for this code chunk to be run out of order, first switch back to the script dir\n",
    "os.chdir(script_dir)\n",
    "# change to the first segment analysis dir\n",
    "working_dir = \"../output/paml/B8441-OG-part/p1-414_697-981/branch-1r-cf2/\"\n",
    "if not os.path.exists(working_dir):\n",
    "    os.mkdir(working_dir)\n",
    "os.chdir(working_dir)"
   ]
  },
  {
   "cell_type": "code",
   "execution_count": 251,
   "id": "00b0a1ee-967c-4c84-94af-aed07a1daa69",
   "metadata": {},
   "outputs": [],
   "source": [
    "cml = codeml.Codeml()\n",
    "cml.working_dir = \"./\"\n",
    "cml.alignment = \"../B8441-OG-Hil-PF11765-1-414_697-981.nuc\"\n",
    "cml.tree = \"../p1-414_697-981.nwk\"\n",
    "cml.out_file = \"mlc\""
   ]
  },
  {
   "cell_type": "code",
   "execution_count": 252,
   "id": "697a3dcc-c802-4518-b2a7-024663d4b5a1",
   "metadata": {
    "tags": []
   },
   "outputs": [],
   "source": [
    "cml.set_options(\n",
    "    noisy = 2,\n",
    "    verbose = 0,\n",
    "    seqtype = 1,\n",
    "    CodonFreq = 2,  # F3x4\n",
    "    model = 0,      # one ratio\n",
    "    NSsites = [0],\n",
    "    icode = 8,\n",
    "    fix_kappa = 0,\n",
    "    kappa = 2,\n",
    "    fix_omega = 0,\n",
    "    omega = .4,\n",
    "    cleandata = 1,\n",
    "    fix_blength = 0\n",
    ")"
   ]
  },
  {
   "cell_type": "code",
   "execution_count": 253,
   "id": "209978bd-d5ce-4690-a5da-99c187de28dc",
   "metadata": {
    "tags": []
   },
   "outputs": [],
   "source": [
    "cml.ctl_file = \"codeml.ctl\"\n",
    "cml.write_ctl_file()"
   ]
  },
  {
   "cell_type": "code",
   "execution_count": 254,
   "id": "2227aaec-5545-45a2-9e04-dce01aaccb53",
   "metadata": {
    "tags": []
   },
   "outputs": [],
   "source": [
    "res = cml.run()"
   ]
  },
  {
   "cell_type": "markdown",
   "id": "9d68efa5-8915-4b35-82ff-b5437f082a38",
   "metadata": {
    "tags": []
   },
   "source": [
    "### free ratio (F3x4)"
   ]
  },
  {
   "cell_type": "code",
   "execution_count": 255,
   "id": "da16e0de-8ed0-453c-b710-d6c754def465",
   "metadata": {},
   "outputs": [],
   "source": [
    "# to allow for this code chunk to be run out of order, first switch back to the script dir\n",
    "os.chdir(script_dir)\n",
    "# change to the first segment analysis dir\n",
    "working_dir = \"../output/paml/B8441-OG-part/p1-414_697-981/branch-freer-cf2/\"\n",
    "if not os.path.exists(working_dir):\n",
    "    os.mkdir(working_dir)\n",
    "os.chdir(working_dir)"
   ]
  },
  {
   "cell_type": "code",
   "execution_count": 256,
   "id": "a534b0db-0b25-41e9-b27b-38d76bc704ed",
   "metadata": {},
   "outputs": [],
   "source": [
    "cml = codeml.Codeml()\n",
    "cml.working_dir = \"./\"\n",
    "cml.alignment = \"../B8441-OG-Hil-PF11765-1-414_697-981.nuc\"\n",
    "cml.tree = \"../p1-414_697-981.nwk\"\n",
    "cml.out_file = \"mlc\""
   ]
  },
  {
   "cell_type": "code",
   "execution_count": 257,
   "id": "9979665f-3f04-4b0f-9338-15232416483f",
   "metadata": {
    "tags": []
   },
   "outputs": [],
   "source": [
    "cml.set_options(\n",
    "    noisy = 2,\n",
    "    verbose = 0,\n",
    "    seqtype = 1,\n",
    "    CodonFreq = 2,  # F3x4\n",
    "    clock = 0,\n",
    "    model = 1,      # free ratio\n",
    "    NSsites = [0],\n",
    "    icode = 8,\n",
    "    fix_kappa = 0,\n",
    "    kappa = 2,\n",
    "    fix_omega = 0,\n",
    "    omega = .4,\n",
    "    cleandata = 1,\n",
    "    fix_blength = 0\n",
    ")"
   ]
  },
  {
   "cell_type": "code",
   "execution_count": 258,
   "id": "47ded9b3-f0c9-4c8c-b2b2-dfc7ab3dbbf9",
   "metadata": {
    "tags": []
   },
   "outputs": [],
   "source": [
    "cml.ctl_file = \"codeml.ctl\"\n",
    "cml.write_ctl_file()"
   ]
  },
  {
   "cell_type": "code",
   "execution_count": 259,
   "id": "44076505-5c62-40c7-8b91-01db3ee3e612",
   "metadata": {},
   "outputs": [],
   "source": [
    "res = cml.run()"
   ]
  },
  {
   "cell_type": "markdown",
   "id": "ffadc825-c788-42ef-89fd-8bf071a84301",
   "metadata": {
    "tags": []
   },
   "source": [
    "### Free vs one-omega models test result\n",
    "First, we reimport all the model results"
   ]
  },
  {
   "cell_type": "code",
   "execution_count": 260,
   "id": "29c501ed-ca54-4903-a581-ffe283de8687",
   "metadata": {},
   "outputs": [],
   "source": [
    "# to allow for this code chunk to be run out of order, first switch back to the script dir\n",
    "os.chdir(script_dir)\n",
    "# change to the first segment analysis dir\n",
    "working_dir = \"../output/paml/B8441-OG-part/p1-414_697-981/\"\n",
    "os.chdir(working_dir)\n",
    "branch_res = {\n",
    "    '1r-cf1': codeml.read('branch-1r-cf1/mlc'),\n",
    "    '1r-cf2': codeml.read('branch-1r-cf2/mlc'),\n",
    "    'freer-cf1': codeml.read('branch-freer-cf1/mlc'),\n",
    "    'freer-cf2': codeml.read('branch-freer-cf2/mlc')\n",
    "}"
   ]
  },
  {
   "cell_type": "code",
   "execution_count": 261,
   "id": "4e69cc86-0e53-413b-ae21-07dadf99c03b",
   "metadata": {},
   "outputs": [
    {
     "name": "stdout",
     "output_type": "stream",
     "text": [
      "Main result (codon model = F1x4)\n",
      "    lnL: -5836.118516; np: 31; kappa: 1.566; w: [0.12668, 0.78876, 999.0, 0.44644, 0.14999, 0.0555, 240.40584, 0.15117, 0.0878, 0.39503, 999.0, 0.15505, 0.11936, 0.63334, 0.07837]\n",
      "Null model (codon model = F1x4)\n",
      "    lnL: -5877.793871; np: 17; kappa: 1.517; w: 0.15386\n",
      "    2*dlnL = 83.351, df = 14, LLR P-value = 6.73e-12\n"
     ]
    }
   ],
   "source": [
    "print_branch_test(branch_res['freer-cf1'], branch_res['1r-cf1'])"
   ]
  },
  {
   "cell_type": "code",
   "execution_count": 262,
   "id": "bf2a651b-2d09-4201-9dda-c86f33f2c422",
   "metadata": {},
   "outputs": [
    {
     "name": "stdout",
     "output_type": "stream",
     "text": [
      "Main result (codon model = F3x4)\n",
      "    lnL: -5778.514525; np: 31; kappa: 1.361; w: [0.00937, 0.00514, 0.00466, 0.01248, 0.03504, 0.09473, 35.69055, 0.00986, 0.04317, 0.11246, 0.00796, 0.01923, 0.01071, 0.17742, 0.01633]\n",
      "Null model (codon model = F3x4)\n",
      "    lnL: -5786.491306; np: 17; kappa: 1.394; w: 0.01933\n",
      "    2*dlnL = 15.954, df = 14, LLR P-value = 3.16e-01\n"
     ]
    }
   ],
   "source": [
    "print_branch_test(branch_res['freer-cf2'], branch_res['1r-cf2'])"
   ]
  },
  {
   "cell_type": "markdown",
   "id": "4e8402b4-f59d-4456-96b1-726c8b2880d1",
   "metadata": {},
   "source": [
    "there is thus strong evidence for non-equal dN/dS along the branches. But this test is almost always significant because the null hypothesis of homogeneous dN/dS across the entire tree is not realistic under most cases."
   ]
  },
  {
   "cell_type": "markdown",
   "id": "88dd29db-feed-4d18-94c3-98b090f4de11",
   "metadata": {},
   "source": [
    "I plotted the free ratio model estimates on the gene tree using the `ggtree` package in R:\n",
    "![free ratio estimates](../output/figure/20220727-B8441-OG-p1-414-branch-freer-tree.png)\n",
    "\n",
    "By comparing the results obtained with CodonFreq=2 or CodonFreq=1, I see that two of the three branches identified as having elevated dN/dS by the F3x4 model was also implicated by the F1x4 model. Given Ziheng's [suggestion](https://groups.google.com/g/pamlsoftware/c/i7-NFSgnhq8/m/80rWE37kBgAJ), I decided to focus on the F3x4 model result and test the three branches together and separately (labeled as ω1, ω2 and ω3, respectively).\n",
    "\n",
    "My next goal is to separately test whether there are statistical support for these two branches having a dN/dS > 1."
   ]
  }
 ],
 "metadata": {
  "kernelspec": {
   "display_name": "Python 3",
   "language": "python",
   "name": "python3"
  },
  "language_info": {
   "codemirror_mode": {
    "name": "ipython",
    "version": 3
   },
   "file_extension": ".py",
   "mimetype": "text/x-python",
   "name": "python",
   "nbconvert_exporter": "python",
   "pygments_lexer": "ipython3",
   "version": "3.7.12"
  },
  "toc-autonumbering": false,
  "toc-showcode": false,
  "toc-showmarkdowntxt": false,
  "toc-showtags": false
 },
 "nbformat": 4,
 "nbformat_minor": 5
}
