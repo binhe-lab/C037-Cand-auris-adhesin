{
 "cells": [
  {
   "cell_type": "markdown",
   "id": "e582a1fe-a493-4c4d-b37c-c981d596a5e0",
   "metadata": {},
   "source": [
    "# Visaulize and compare phylogenetic trees\n",
    "## B8441 PF11765, with outgroup, partitions"
   ]
  },
  {
   "cell_type": "code",
   "execution_count": 1,
   "id": "8417d36c-b11e-4fda-96aa-743656cb1370",
   "metadata": {},
   "outputs": [],
   "source": [
    "import os\n",
    "from Bio import Phylo\n",
    "working_dir = \"../input/gene-tree/B8441-Hil-PF11765-split/\"\n",
    "os.chdir(working_dir)"
   ]
  },
  {
   "cell_type": "markdown",
   "id": "5f91150d-c8a5-4c83-9a0c-e54ba2bcebe4",
   "metadata": {},
   "source": [
    "## p1-414"
   ]
  },
  {
   "cell_type": "code",
   "execution_count": 8,
   "id": "1b7a581a-550b-488d-adbf-c7b5fea6bbfc",
   "metadata": {},
   "outputs": [
    {
     "name": "stdout",
     "output_type": "stream",
     "text": [
      "                      __________________________________________________ Hil7\n",
      "                     |\n",
      "                     |            ____ Hil1\n",
      "                     |        ___|\n",
      "              _______|       |   |___ Hil2\n",
      "             |       |      _|\n",
      "             |       |     | |     _____ Hil4\n",
      "             |       |     | |____|\n",
      "             |       |_____|      |__________ Hil3\n",
      "  ___________|             |\n",
      " |           |             |   ________ Hil8\n",
      " |           |             |__|\n",
      "_|           |                |_________ Hil6\n",
      " |           |\n",
      " |           |_________________________ Hil5\n",
      " |\n",
      " |___________ OG\n",
      "\n"
     ]
    }
   ],
   "source": [
    "trees = {'p1-414': Phylo.read(\"B8441-OG-Hil-PF11765-1-414.raxml.bestTree\", \"newick\")}\n",
    "Phylo.draw_ascii(trees['p1-414'])"
   ]
  },
  {
   "cell_type": "markdown",
   "id": "03577877-fe64-4ce6-9797-d3b8bbf979b2",
   "metadata": {},
   "source": [
    "## p696-981"
   ]
  },
  {
   "cell_type": "code",
   "execution_count": 7,
   "id": "ad5339e9-9799-427a-90a0-adf4f14a7ce2",
   "metadata": {},
   "outputs": [
    {
     "name": "stdout",
     "output_type": "stream",
     "text": [
      "                    ___________________________ Hil5\n",
      "                   |\n",
      "  _________________|                                    _________ Hil1\n",
      " |                 |                                 __|\n",
      " |                 |                                |  |____ Hil2\n",
      " |                 |________________________________|\n",
      " |                                                  | _____________ Hil7\n",
      " |                                                  ||\n",
      " |                                                  ||       _________ Hil8\n",
      "_|                                                   |   ___|\n",
      " |                                                   |  |   |_______ Hil6\n",
      " |                                                   |__|\n",
      " |                                                      |   ____________ Hil3\n",
      " |                                                      |__|\n",
      " |                                                         |_____ Hil4\n",
      " |\n",
      " |_________________ OG\n",
      "\n"
     ]
    }
   ],
   "source": [
    "trees = {'p696-981': Phylo.read(\"B8441-OG-Hil-PF11765-696-981.raxml.bestTree\", \"newick\")}\n",
    "Phylo.draw_ascii(trees['p696-981'])"
   ]
  },
  {
   "cell_type": "markdown",
   "id": "b03c83d8-3408-4cbc-91cc-140735303aa0",
   "metadata": {},
   "source": [
    "## p697-981"
   ]
  },
  {
   "cell_type": "code",
   "execution_count": 11,
   "id": "d759398c-3f0b-4db8-b279-b16b2fed629d",
   "metadata": {},
   "outputs": [
    {
     "name": "stdout",
     "output_type": "stream",
     "text": [
      "                    ___________________________ Hil5\n",
      "                   |\n",
      "                   |                                    ____ Hil2\n",
      "  _________________|                                 __|\n",
      " |                 |                                |  |_________ Hil1\n",
      " |                 |                                |\n",
      " |                 |                                |        _________ Hil8\n",
      " |                 |________________________________|    ___|\n",
      " |                                                  |   |   |________ Hil6\n",
      "_|                                                  | __|\n",
      " |                                                  ||  |   _____ Hil4\n",
      " |                                                  ||  |__|\n",
      " |                                                   |     |____________ Hil3\n",
      " |                                                   |\n",
      " |                                                   |_____________ Hil7\n",
      " |\n",
      " |_________________ OG\n",
      "\n"
     ]
    }
   ],
   "source": [
    "trees = {'p697-981': Phylo.read(\"B8441-OG-Hil-PF11765-697-981.raxml.bestTree\", \"newick\")}\n",
    "Phylo.draw_ascii(trees['p697-981'])"
   ]
  },
  {
   "cell_type": "markdown",
   "id": "9d9d0d32-ab2d-400f-9ff1-08567677eadf",
   "metadata": {},
   "source": [
    "## p415-580"
   ]
  },
  {
   "cell_type": "code",
   "execution_count": 9,
   "id": "be21bb2a-8062-42ec-84b5-1d73a0d369cf",
   "metadata": {},
   "outputs": [
    {
     "name": "stdout",
     "output_type": "stream",
     "text": [
      "                         ______________ Hil7\n",
      "                        |\n",
      "                        |                _____ Hil4\n",
      "  ______________________|              _|\n",
      " |                      |             | |__________________ Hil3\n",
      " |                      |             |\n",
      " |                      |_____________|               _ Hil2\n",
      " |                                    |       _______|\n",
      " |                                    |      |       |      ___ Hil1\n",
      "_|                                    |      |       |_____|\n",
      " |                                    |______|             |    ________ Hil8\n",
      " |                                           |             |___|\n",
      " |                                           |                 |______ Hil6\n",
      " |                                           |\n",
      " |                                           |________________ Hil5\n",
      " |\n",
      " |______________________ OG\n",
      "\n"
     ]
    }
   ],
   "source": [
    "trees = {'p415-580': Phylo.read(\"B8441-OG-Hil-PF11765-415-580.raxml.bestTree\", \"newick\")}\n",
    "Phylo.draw_ascii(trees['p415-580'])"
   ]
  },
  {
   "cell_type": "markdown",
   "id": "be046c65-d222-4c5f-8a18-73f07d01fad7",
   "metadata": {},
   "source": [
    "## p581-695"
   ]
  },
  {
   "cell_type": "code",
   "execution_count": 10,
   "id": "d8137503-d0d8-4f81-89f5-806c6ac99220",
   "metadata": {},
   "outputs": [
    {
     "name": "stdout",
     "output_type": "stream",
     "text": [
      "                           ________ Hil5\n",
      "   _______________________|\n",
      "  |                       |                 , Hil6\n",
      "  |                       |_________________|\n",
      "  |                                         |     ____ Hil8\n",
      "  |                                         |____|\n",
      "  |                                              |      __ Hil1\n",
      " ,|                                              |_____|\n",
      " ||                                                    |  __ Hil4\n",
      " ||                                                    |_|\n",
      " ||                                                      | _____ Hil2\n",
      "_||                                                      ||\n",
      " ||                                                       |_____________ Hil3\n",
      " ||\n",
      " ||____________________________ Hil7\n",
      " |\n",
      " | OG\n",
      "\n"
     ]
    }
   ],
   "source": [
    "trees = {'p581-695': Phylo.read(\"B8441-OG-Hil-PF11765-581-695.raxml.bestTree\", \"newick\")}\n",
    "Phylo.draw_ascii(trees['p581-695'])"
   ]
  }
 ],
 "metadata": {
  "kernelspec": {
   "display_name": "Python 3",
   "language": "python",
   "name": "python3"
  },
  "language_info": {
   "codemirror_mode": {
    "name": "ipython",
    "version": 3
   },
   "file_extension": ".py",
   "mimetype": "text/x-python",
   "name": "python",
   "nbconvert_exporter": "python",
   "pygments_lexer": "ipython3",
   "version": "3.7.12"
  }
 },
 "nbformat": 4,
 "nbformat_minor": 5
}
