{
 "cells": [
  {
   "cell_type": "markdown",
   "id": "8653123d-2bd0-47cf-a4ae-add876776aa6",
   "metadata": {},
   "source": [
    "# Search RCSB with PDB IDs\n",
    "## Goal\n",
    "Given a series of DALI hits with PDB IDs, I wish to obtain attributes pertaining to their \"Classification\", which contains cell adhesion keywords."
   ]
  },
  {
   "cell_type": "code",
   "execution_count": 1,
   "id": "da34f057-15c9-4312-947b-fced611e7fed",
   "metadata": {},
   "outputs": [],
   "source": [
    "from pypdb import *\n",
    "import csv"
   ]
  },
  {
   "cell_type": "markdown",
   "id": "146ab65f-6b08-453f-a5b5-63d8529c53b5",
   "metadata": {},
   "source": [
    "Get a general description of the entry's metadata"
   ]
  },
  {
   "cell_type": "code",
   "execution_count": 2,
   "id": "f4517d9a-6c73-4fe2-ac21-29de82611f5e",
   "metadata": {},
   "outputs": [
    {
     "data": {
      "text/plain": [
       "dict_keys(['audit_author', 'cell', 'citation', 'diffrn', 'diffrn_detector', 'diffrn_radiation', 'diffrn_source', 'entry', 'exptl', 'exptl_crystal', 'exptl_crystal_grow', 'pdbx_audit_revision_details', 'pdbx_audit_revision_group', 'pdbx_audit_revision_history', 'pdbx_database_status', 'pdbx_vrpt_summary', 'rcsb_accession_info', 'rcsb_entry_container_identifiers', 'rcsb_entry_info', 'rcsb_primary_citation', 'refine', 'refine_hist', 'refine_ls_restr', 'reflns', 'reflns_shell', 'software', 'struct', 'struct_keywords', 'symmetry', 'rcsb_id'])"
      ]
     },
     "execution_count": 2,
     "metadata": {},
     "output_type": "execute_result"
    }
   ],
   "source": [
    "exmp = get_info(\"2ODL\")\n",
    "exmp.keys()"
   ]
  },
  {
   "cell_type": "markdown",
   "id": "36acf8fe-4c23-4b6e-bf7e-1c95c69c8dee",
   "metadata": {},
   "source": [
    "The relevant information is in the 'struct_keywords'"
   ]
  },
  {
   "cell_type": "code",
   "execution_count": 3,
   "id": "82f4f875-109a-4ce0-9c89-514d0e0d74b2",
   "metadata": {},
   "outputs": [
    {
     "data": {
      "text/plain": [
       "{'pdbx_keywords': 'CELL ADHESION',\n",
       " 'text': 'HMW1, secretion domain, beta helix, CELL ADHESION'}"
      ]
     },
     "execution_count": 3,
     "metadata": {},
     "output_type": "execute_result"
    }
   ],
   "source": [
    "exmp.get('struct_keywords')"
   ]
  },
  {
   "cell_type": "markdown",
   "id": "e988fafd-b948-48ff-b843-0b3eb232a974",
   "metadata": {},
   "source": [
    "Now let's check all the entries one-by-one. First, we will load the CSV file containing all the hits."
   ]
  },
  {
   "cell_type": "code",
   "execution_count": 70,
   "id": "df190c80-2bad-4cc0-95d4-63eb4f4831ee",
   "metadata": {},
   "outputs": [],
   "source": [
    "IN = \"CaurHil1-PF11765-PDB50-parsed.csv\"\n",
    "OUT = \"CaurHil1-PF11765-PDB50-appended.csv\"\n",
    "fnames = ['No', 'Chain', 'Z', 'rmsd', 'lali', 'nres',\n",
    "          '%id PDB', 'Description', 'keyword']\n",
    "\n",
    "with open(IN, 'r') as infile, open(OUT, 'w') as outfile:\n",
    "    reader = csv.DictReader(infile)\n",
    "    writer = csv.DictWriter(outfile, fieldnames = fnames)\n",
    "    \n",
    "    writer.writeheader()\n",
    "    \n",
    "    row_count = 0\n",
    "    \n",
    "    for row in reader:\n",
    "        id = row['Chain'].split('-')[0]\n",
    "        info = get_info(id)\n",
    "        if info is None:\n",
    "            row['keyword'] = 'NA'\n",
    "        else:\n",
    "            keyword = info.get('struct_keywords').get('pdbx_keywords')\n",
    "            if keyword is None:\n",
    "                row['keyword'] = 'NA'\n",
    "            else:\n",
    "                row['keyword'] = keyword\n",
    "        writer.writerow(row)\n",
    "        row_count += 1"
   ]
  },
  {
   "cell_type": "code",
   "execution_count": null,
   "id": "7632cad7-a186-4d0e-b419-83e383ff952b",
   "metadata": {},
   "outputs": [],
   "source": []
  }
 ],
 "metadata": {
  "kernelspec": {
   "display_name": "Python 3",
   "language": "python",
   "name": "python3"
  },
  "language_info": {
   "codemirror_mode": {
    "name": "ipython",
    "version": 3
   },
   "file_extension": ".py",
   "mimetype": "text/x-python",
   "name": "python",
   "nbconvert_exporter": "python",
   "pygments_lexer": "ipython3",
   "version": "3.7.12"
  }
 },
 "nbformat": 4,
 "nbformat_minor": 5
}
